{
  "nbformat": 4,
  "nbformat_minor": 0,
  "metadata": {
    "colab": {
      "provenance": [],
      "collapsed_sections": [],
      "authorship_tag": "ABX9TyPoPVSD+I0v4XAc9UA2Eo2/",
      "include_colab_link": true
    },
    "kernelspec": {
      "name": "python3",
      "display_name": "Python 3"
    },
    "language_info": {
      "name": "python"
    },
    "accelerator": "GPU",
    "gpuClass": "standard"
  },
  "cells": [
    {
      "cell_type": "markdown",
      "metadata": {
        "id": "view-in-github",
        "colab_type": "text"
      },
      "source": [
        "<a href=\"https://colab.research.google.com/github/AugustvonMackensen/AI_colab/blob/main/1_1_numpy_tensorflow_pytorch.ipynb\" target=\"_parent\"><img src=\"https://colab.research.google.com/assets/colab-badge.svg\" alt=\"Open In Colab\"/></a>"
      ]
    },
    {
      "cell_type": "markdown",
      "source": [
        "# **1_1_numpy_tensorflow_pytorch.ipynb****"
      ],
      "metadata": {
        "id": "TfPai6iolSSJ"
      }
    },
    {
      "cell_type": "code",
      "source": [
        "# Pytorch 설치 전 : 런타임 메뉴 > 런타임 유형 변경 > GPU 지정\n",
        "# Pytorch 설치 (매 세션마다 설치 필요함)\n",
        "!pip3 install torch\n",
        "!pip3 install torchvision"
      ],
      "metadata": {
        "colab": {
          "base_uri": "https://localhost:8080/"
        },
        "id": "zpNAor8RlXZB",
        "outputId": "c1ac5e45-6772-4081-8414-894546610271"
      },
      "execution_count": 2,
      "outputs": [
        {
          "output_type": "stream",
          "name": "stdout",
          "text": [
            "Looking in indexes: https://pypi.org/simple, https://us-python.pkg.dev/colab-wheels/public/simple/\n",
            "Requirement already satisfied: torch in /usr/local/lib/python3.7/dist-packages (1.12.1+cu113)\n",
            "Requirement already satisfied: typing-extensions in /usr/local/lib/python3.7/dist-packages (from torch) (4.1.1)\n",
            "Looking in indexes: https://pypi.org/simple, https://us-python.pkg.dev/colab-wheels/public/simple/\n",
            "Requirement already satisfied: torchvision in /usr/local/lib/python3.7/dist-packages (0.13.1+cu113)\n",
            "Requirement already satisfied: pillow!=8.3.*,>=5.3.0 in /usr/local/lib/python3.7/dist-packages (from torchvision) (7.1.2)\n",
            "Requirement already satisfied: requests in /usr/local/lib/python3.7/dist-packages (from torchvision) (2.23.0)\n",
            "Requirement already satisfied: typing-extensions in /usr/local/lib/python3.7/dist-packages (from torchvision) (4.1.1)\n",
            "Requirement already satisfied: numpy in /usr/local/lib/python3.7/dist-packages (from torchvision) (1.21.6)\n",
            "Requirement already satisfied: torch==1.12.1 in /usr/local/lib/python3.7/dist-packages (from torchvision) (1.12.1+cu113)\n",
            "Requirement already satisfied: idna<3,>=2.5 in /usr/local/lib/python3.7/dist-packages (from requests->torchvision) (2.10)\n",
            "Requirement already satisfied: chardet<4,>=3.0.2 in /usr/local/lib/python3.7/dist-packages (from requests->torchvision) (3.0.4)\n",
            "Requirement already satisfied: certifi>=2017.4.17 in /usr/local/lib/python3.7/dist-packages (from requests->torchvision) (2022.9.24)\n",
            "Requirement already satisfied: urllib3!=1.25.0,!=1.25.1,<1.26,>=1.21.1 in /usr/local/lib/python3.7/dist-packages (from requests->torchvision) (1.24.3)\n"
          ]
        }
      ]
    },
    {
      "cell_type": "markdown",
      "source": [
        "# **패키지 비교**\n",
        "- Numpy vs Tensorflow vs PyTorch\n",
        "- output = x * y +z"
      ],
      "metadata": {
        "id": "ubNxuMQitB0s"
      }
    },
    {
      "cell_type": "code",
      "source": [
        "import numpy as np\n",
        "from datetime import datetime\n",
        "\n",
        "start = datetime.now()\n",
        "\n",
        "np.random.seed(0) # 랜덤값 발생 고정시킴\n",
        "\n",
        "N, D  = 3, 4\n",
        "\n",
        "x = np.random.randn(N,D) # 3행 4열 배열에 0~1 사이의 실수형 랜덤값을 채움\n",
        "y = np.random.randn(N,D)\n",
        "z = np.random.randn(N,D)\n",
        "\n",
        "\n",
        "a = x * y\n",
        "b = a * z\n",
        "c = np.sum(b)\n",
        "\n",
        "grad_c = 1.0\n",
        "grad_b = grad_c * np.ones((N,D))\n",
        "grad_a = grad_b.copy()\n",
        "grad_z = grad_b.copy()\n",
        "grad_y = grad_a * y\n",
        "grad_x = grad_a * x\n",
        "\n",
        "print(grad_x)\n",
        "print(grad_y)\n",
        "print(grad_z)\n",
        "\n",
        "print('연산 처리 시간 : ', datetime.now() - start)"
      ],
      "metadata": {
        "colab": {
          "base_uri": "https://localhost:8080/"
        },
        "id": "2MPF-R1WtR-r",
        "outputId": "2a7e52eb-f196-4bd4-ae39-03db5bebc177"
      },
      "execution_count": 25,
      "outputs": [
        {
          "output_type": "stream",
          "name": "stdout",
          "text": [
            "[[ 1.76405235  0.40015721  0.97873798  2.2408932 ]\n",
            " [ 1.86755799 -0.97727788  0.95008842 -0.15135721]\n",
            " [-0.10321885  0.4105985   0.14404357  1.45427351]]\n",
            "[[ 0.76103773  0.12167502  0.44386323  0.33367433]\n",
            " [ 1.49407907 -0.20515826  0.3130677  -0.85409574]\n",
            " [-2.55298982  0.6536186   0.8644362  -0.74216502]]\n",
            "[[1. 1. 1. 1.]\n",
            " [1. 1. 1. 1.]\n",
            " [1. 1. 1. 1.]]\n",
            "연산 처리 시간 :  0:00:00.006854\n"
          ]
        }
      ]
    },
    {
      "cell_type": "markdown",
      "source": [
        "Tensorflow는 graph로 연산(operator)를 나타내는 시스템이며, 연산을 하려면 Session 상에서 실행되어야 한다.<br>\n",
        "Session은 graph(연산을 구성하는 노드) 작업을 cpu나 gpu같은 device에 배정하고 실행을 위한 메소드들을 제공한다."
      ],
      "metadata": {
        "id": "27_4rEb74RoV"
      }
    },
    {
      "cell_type": "code",
      "source": [
        "from tensorflow.python.ops.array_ops import zeros\n",
        "import tensorflow as tf\n",
        "import numpy as np\n",
        "from datetime import datetime\n",
        "\n",
        "#tf.placeholder() 함수 AttributeError 발생시 해결 방법\n",
        "# tensorflow 2.0에서는 사용 못 함\n",
        "import tensorflow.compat.v1 as tf\n",
        "tf.disable_v2_behavior()\n",
        "# ----------------------------------------------------------------------------\n",
        "start = datetime.now()\n",
        "\n",
        "# 실행 동작을 미리 정의해 놓음\n",
        "with tf.device('/gpu:0'): # 실행시 gpu 0 사용을 지정함\n",
        "  x = tf.placeholder(tf.float32) # 나중에 값을 넣을 공간을 만듦\n",
        "  y = tf.placeholder(tf.float32)\n",
        "  z = tf.placeholder(tf.float32)\n",
        "\n",
        "  a = x * y # x[0][0] 값 * y[0][0], x[0][1] * y[0][1], ...... \n",
        "  b = a * z\n",
        "  c = tf.reduce_sum(b) # 배열의 모든 값들의 합계를 구함.\n",
        "\n",
        "grad_x, grad_y, grad_z = tf.gradients(c, [x, y, z])\n",
        "\n",
        "# 준비된 공간에 값을 채우는 설정\n",
        "with tf.Session() as sess:\n",
        "  values = {\n",
        "      x: np.random.randn(N, D),\n",
        "      y: np.random.randn(N, D),\n",
        "      z: np.random.randn(N, D)\n",
        "  }\n",
        "\n",
        "  out = sess.run([c, grad_x, grad_y, grad_z], feed_dict = values)\n",
        "  c_val, grad_x_val, grad_y_val, grad_z_val = out\n",
        "\n",
        "print(grad_x_val)\n",
        "print(grad_y_val)\n",
        "print(grad_z_val)\n",
        "\n",
        "print('연산 처리 시간 : ', datetime.now() - start)"
      ],
      "metadata": {
        "colab": {
          "base_uri": "https://localhost:8080/"
        },
        "id": "VMjsYY8pwcWF",
        "outputId": "753c9d61-237e-46e4-bf84-97b519231105"
      },
      "execution_count": 26,
      "outputs": [
        {
          "output_type": "stream",
          "name": "stdout",
          "text": [
            "[[ 1.0852824   0.07649145  0.7281453  -0.66790307]\n",
            " [-0.09063018  0.47435552  0.04594262  0.1982244 ]\n",
            " [-0.06035097  0.01571202 -0.46247828 -0.04678741]]\n",
            "[[-0.82732177 -0.43231946  0.31495336  0.52185994]\n",
            " [-0.18604071  0.57053614  2.781559    0.9027842 ]\n",
            " [ 0.4624066  -0.02275594 -0.91340125  0.10028297]]\n",
            "[[-1.9855634  -0.2557946   0.3468382  -0.1169617 ]\n",
            " [ 0.53560627  1.6765189   0.0480865   0.8355793 ]\n",
            " [-0.03390065 -0.13250516  0.79467577 -0.28202778]]\n",
            "연산 처리 시간 :  0:00:00.052629\n"
          ]
        }
      ]
    },
    {
      "cell_type": "code",
      "source": [
        "import torch\n",
        "from torch.autograd import Variable\n",
        "from datetime import datetime\n",
        "\n",
        "start = datetime.now()\n",
        "\n",
        "N, D = 3 ,4\n",
        "\n",
        "# 자동 미분 계산 함수 : autograd.Variable\n",
        "x = Variable(torch.randn(N, D).cuda(), requires_grad = True)\n",
        "y = Variable(torch.randn(N, D).cuda(), requires_grad = True)\n",
        "z = Variable(torch.randn(N, D).cuda(), requires_grad = True)\n",
        "\n",
        "a = x * y\n",
        "b = a * z\n",
        "c = torch.sum(b)\n",
        "\n",
        "# gradient(경사도) 자동 계산 수행\n",
        "# 기울기(gradient)가 1.0이라고 가정하고 최종 값인 c에서\n",
        "# backward를 통해 역전파를 해 줌.\n",
        "c.backward(gradient=torch.tensor(1, dtype=torch.float))\n",
        "\n",
        "print(x.grad)\n",
        "print(y.grad)\n",
        "print(z.grad)\n",
        "\n",
        "print('연산 처리 시간 : ', datetime.now() - start)"
      ],
      "metadata": {
        "colab": {
          "base_uri": "https://localhost:8080/"
        },
        "id": "WOpV3NEP6QWl",
        "outputId": "59378d0a-4afd-4d54-c94c-d6e21e6fa833"
      },
      "execution_count": 27,
      "outputs": [
        {
          "output_type": "stream",
          "name": "stdout",
          "text": [
            "tensor([[ 2.1051e-01, -2.6024e-01,  8.5004e-04, -1.9253e+00],\n",
            "        [ 5.7656e-01,  8.5970e-01,  1.6763e+00,  4.0343e-01],\n",
            "        [ 1.3004e-01, -4.8868e-01,  1.2857e-02, -2.2787e-02]], device='cuda:0')\n",
            "tensor([[ 0.0983,  1.9073, -0.0022,  0.3837],\n",
            "        [-0.9084,  0.7151, -1.3141,  0.2988],\n",
            "        [ 0.6290, -1.2077,  0.0258,  0.0567]], device='cuda:0')\n",
            "tensor([[ 0.1738, -0.5471, -0.0636, -1.6802],\n",
            "        [-0.5442,  0.7552, -1.4932,  0.9870],\n",
            "        [ 0.2011,  0.1461,  0.0120, -0.5246]], device='cuda:0')\n",
            "연산 처리 시간 :  0:00:00.008295\n"
          ]
        }
      ]
    }
  ]
}