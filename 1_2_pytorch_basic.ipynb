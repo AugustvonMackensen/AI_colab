{
  "nbformat": 4,
  "nbformat_minor": 0,
  "metadata": {
    "colab": {
      "provenance": [],
      "collapsed_sections": [],
      "authorship_tag": "ABX9TyMOXs1qkBdrAI3kcWUJQs3M",
      "include_colab_link": true
    },
    "kernelspec": {
      "name": "python3",
      "display_name": "Python 3"
    },
    "language_info": {
      "name": "python"
    },
    "accelerator": "GPU",
    "gpuClass": "standard"
  },
  "cells": [
    {
      "cell_type": "markdown",
      "metadata": {
        "id": "view-in-github",
        "colab_type": "text"
      },
      "source": [
        "<a href=\"https://colab.research.google.com/github/AugustvonMackensen/AI_colab/blob/main/1_2_pytorch_basic.ipynb\" target=\"_parent\"><img src=\"https://colab.research.google.com/assets/colab-badge.svg\" alt=\"Open In Colab\"/></a>"
      ]
    },
    {
      "cell_type": "markdown",
      "source": [
        "# **PyTorch Tensor Basic Usage**\n",
        "- Create Tensor\n",
        "- Indexing, Joining, Slicing\n",
        "- Initialization\n",
        "- Math Operations"
      ],
      "metadata": {
        "id": "OQJIVa6x93lN"
      }
    },
    {
      "cell_type": "markdown",
      "source": [
        "# **1. Create Tensor**\n",
        "1) random numbers"
      ],
      "metadata": {
        "id": "TbraqTo_-ke0"
      }
    },
    {
      "cell_type": "code",
      "source": [
        "# 새 노트에서 런타임 > GPU 로 다시 지정함\n",
        "import torch\n",
        "\n",
        "# torch.rand(sizes) --> 0에서 1 사이의 실수값을 랜덤하게 발생함\n",
        "# sizes : 1차원 개수 or 2차원 행렬 갯수 등으로 지정\n",
        "# 0과 1 사이의 실수형 숫자를 균등하게 생성\n",
        "x = torch.rand(2, 3)\n",
        "x"
      ],
      "metadata": {
        "colab": {
          "base_uri": "https://localhost:8080/"
        },
        "id": "hhAxXKFR997M",
        "outputId": "2cd1110e-2443-4b49-d0af-895b761d00af"
      },
      "execution_count": null,
      "outputs": [
        {
          "output_type": "execute_result",
          "data": {
            "text/plain": [
              "tensor([[0.1407, 0.7833, 0.4957],\n",
              "        [0.4202, 0.1787, 0.7787]])"
            ]
          },
          "metadata": {},
          "execution_count": 1
        }
      ]
    },
    {
      "cell_type": "code",
      "source": [
        "# torch.randn(sizes) --> Z(0, 1)\n",
        "# 평균이 0이고, 표준편차가 1인 가우시안 정규분포를 이용해서 생성\n",
        "x = torch.randn(2, 3)\n",
        "x"
      ],
      "metadata": {
        "colab": {
          "base_uri": "https://localhost:8080/"
        },
        "id": "1-xf5kR2AGNm",
        "outputId": "47b0dc82-6863-4384-f624-a61c6c8d441c"
      },
      "execution_count": null,
      "outputs": [
        {
          "output_type": "execute_result",
          "data": {
            "text/plain": [
              "tensor([[-0.2561, -0.3439, -0.1149],\n",
              "        [-1.6778, -0.5819, -0.8236]])"
            ]
          },
          "metadata": {},
          "execution_count": 2
        }
      ]
    },
    {
      "cell_type": "code",
      "source": [
        "# torch.randperm(n) --> permutation of 0 ~ n\n",
        "x = torch.randperm(5)\n",
        "x"
      ],
      "metadata": {
        "colab": {
          "base_uri": "https://localhost:8080/"
        },
        "id": "wTWZIw3hAq_k",
        "outputId": "0a7f9d3f-9e8d-461e-eef7-c49791d67110"
      },
      "execution_count": null,
      "outputs": [
        {
          "output_type": "execute_result",
          "data": {
            "text/plain": [
              "tensor([3, 4, 0, 1, 2])"
            ]
          },
          "metadata": {},
          "execution_count": 3
        }
      ]
    },
    {
      "cell_type": "markdown",
      "source": [
        "**랜덤한 값을 가지는 텐서 생성시키는 함수들**\n",
        "1. torch.rand() : 0과 1사이의 숫자를 균등하게 생성\n",
        "2. torch.rand_like() : 사이즈를 튜플로 입력하지 않고, 기존의 텐서와 같은 구조를 만들때 사용\n",
        "3. torch.randn() : 평균이 0이고 표준편차가 1인 가우시안 정규분포를 이용해 값 생성\n",
        "4. torch.randn_like() : 사이즈를 튜플로 지정하지 않고 기존의 텐서를 이용\n",
        "5. torch.randint() : 주어진 범위 내의 정수를 균등하게 생성. 자료형은 torch.float32\n",
        "6. torch.randint_like()\n",
        "7. torch.randperm() : 주어진 범위 내의 정수를 랜덤하게 생성\n"
      ],
      "metadata": {
        "id": "pG-fS2xQBLJF"
      }
    },
    {
      "cell_type": "markdown",
      "source": [
        "# **2) zeros, ones, arange**"
      ],
      "metadata": {
        "id": "YAekHPKiCdmb"
      }
    },
    {
      "cell_type": "code",
      "source": [
        "# torch.zeros(2, 3) --> [[0,0,0], [0,0,0]]\n",
        "x = torch.zeros(2, 3)\n",
        "x"
      ],
      "metadata": {
        "colab": {
          "base_uri": "https://localhost:8080/"
        },
        "id": "PZS-2RBkCoy0",
        "outputId": "e153235f-8c56-491b-aa11-d201ed876f05"
      },
      "execution_count": null,
      "outputs": [
        {
          "output_type": "execute_result",
          "data": {
            "text/plain": [
              "tensor([[0., 0., 0.],\n",
              "        [0., 0., 0.]])"
            ]
          },
          "metadata": {},
          "execution_count": 4
        }
      ]
    },
    {
      "cell_type": "code",
      "source": [
        "# torch.ones(2, 3) --> [[1,1,1], [1,1,1]]\n",
        "x = torch.ones(2, 3)\n",
        "x"
      ],
      "metadata": {
        "colab": {
          "base_uri": "https://localhost:8080/"
        },
        "id": "QTlFnQb2C7z9",
        "outputId": "e4229535-db55-43bf-f407-169cea097511"
      },
      "execution_count": null,
      "outputs": [
        {
          "output_type": "execute_result",
          "data": {
            "text/plain": [
              "tensor([[1., 1., 1.],\n",
              "        [1., 1., 1.]])"
            ]
          },
          "metadata": {},
          "execution_count": 5
        }
      ]
    },
    {
      "cell_type": "code",
      "source": [
        "# torch.arange(start, end, strp=1)\n",
        "x = torch.arange(0, 3, step=0.5)\n",
        "x"
      ],
      "metadata": {
        "colab": {
          "base_uri": "https://localhost:8080/"
        },
        "id": "Lu3wIJACDI_M",
        "outputId": "e972d228-6214-437f-ec52-8c4475f7533c"
      },
      "execution_count": null,
      "outputs": [
        {
          "output_type": "execute_result",
          "data": {
            "text/plain": [
              "tensor([0.0000, 0.5000, 1.0000, 1.5000, 2.0000, 2.5000])"
            ]
          },
          "metadata": {},
          "execution_count": 6
        }
      ]
    },
    {
      "cell_type": "markdown",
      "source": [
        "# **3) Tensor Data Type**"
      ],
      "metadata": {
        "id": "RWOyniaEGN8M"
      }
    },
    {
      "cell_type": "code",
      "source": [
        "# torch.FloatTensor(size | list)\n",
        "x = torch.FloatTensor(2, 3)\n",
        "x"
      ],
      "metadata": {
        "colab": {
          "base_uri": "https://localhost:8080/"
        },
        "id": "j-HHMPM8GaKd",
        "outputId": "362bff27-ddc6-49a6-cd5e-6e2ad5049f9b"
      },
      "execution_count": 7,
      "outputs": [
        {
          "output_type": "execute_result",
          "data": {
            "text/plain": [
              "tensor([[4.7701e-35, 0.0000e+00, 3.7835e-44],\n",
              "        [0.0000e+00,        nan, 2.5000e+00]])"
            ]
          },
          "metadata": {},
          "execution_count": 7
        }
      ]
    },
    {
      "cell_type": "code",
      "source": [
        "x = torch.FloatTensor([12, 35])\n",
        "x"
      ],
      "metadata": {
        "colab": {
          "base_uri": "https://localhost:8080/"
        },
        "id": "eNHR-9arGk7T",
        "outputId": "2fc9c31c-e675-4fec-9db0-4438569822c9"
      },
      "execution_count": 9,
      "outputs": [
        {
          "output_type": "execute_result",
          "data": {
            "text/plain": [
              "tensor([12., 35.])"
            ]
          },
          "metadata": {},
          "execution_count": 9
        }
      ]
    },
    {
      "cell_type": "code",
      "source": [
        "# tensor.type_as(tensor_type)\n",
        "# 기존 텐서의 값의 자료형을 바꿀 때 사용\n",
        "x = x.type_as(torch.IntTensor())\n",
        "x"
      ],
      "metadata": {
        "colab": {
          "base_uri": "https://localhost:8080/"
        },
        "id": "SQg9FtuHG32k",
        "outputId": "dc6ff3a4-9651-4569-b1fd-b5ae7997e20e"
      },
      "execution_count": 10,
      "outputs": [
        {
          "output_type": "execute_result",
          "data": {
            "text/plain": [
              "tensor([12, 35], dtype=torch.int32)"
            ]
          },
          "metadata": {},
          "execution_count": 10
        }
      ]
    },
    {
      "cell_type": "markdown",
      "source": [
        "# **4) Numpy to Tensor, Tensor to Numpy**"
      ],
      "metadata": {
        "id": "kZiAwfmEHY1k"
      }
    },
    {
      "cell_type": "code",
      "source": [
        "import numpy as np\n",
        "\n",
        "# torch.from_numpy(ndarray) --> tensor\n",
        "x1 = np.ndarray(shape=(2, 3), dtype=int, buffer=np.array([1,2,3,4,5,6]))\n",
        "x1\n",
        "x2 = torch.from_numpy(x1)\n",
        "x2"
      ],
      "metadata": {
        "colab": {
          "base_uri": "https://localhost:8080/"
        },
        "id": "BMcWiw-WHdjs",
        "outputId": "e6a6d58a-35bb-4c68-8140-3d73a65b5fa3"
      },
      "execution_count": 12,
      "outputs": [
        {
          "output_type": "execute_result",
          "data": {
            "text/plain": [
              "tensor([[1, 2, 3],\n",
              "        [4, 5, 6]])"
            ]
          },
          "metadata": {},
          "execution_count": 12
        }
      ]
    },
    {
      "cell_type": "code",
      "source": [
        "# torch.numpy() --> ndarray\n",
        "x3 = x2.numpy()\n",
        "x3"
      ],
      "metadata": {
        "colab": {
          "base_uri": "https://localhost:8080/"
        },
        "id": "bHJlp9VpIatc",
        "outputId": "8419618f-c4e8-430d-e63f-3d3ecdba11da"
      },
      "execution_count": 13,
      "outputs": [
        {
          "output_type": "execute_result",
          "data": {
            "text/plain": [
              "array([[1, 2, 3],\n",
              "       [4, 5, 6]])"
            ]
          },
          "metadata": {},
          "execution_count": 13
        }
      ]
    },
    {
      "cell_type": "markdown",
      "source": [
        "# **5) Tensor on CPU & GPU**"
      ],
      "metadata": {
        "id": "iDPNIJ37I8Ft"
      }
    },
    {
      "cell_type": "code",
      "source": [
        "x = torch.FloatTensor(([1,2,3],[4,5,6]))\n",
        "x\n",
        "x_gpu = x.cuda()\n",
        "x_gpu\n",
        "\n",
        "x_cpu = x_gpu.cpu()\n",
        "x_cpu"
      ],
      "metadata": {
        "colab": {
          "base_uri": "https://localhost:8080/"
        },
        "id": "PiYrO0tOJBKU",
        "outputId": "53a134ef-cbd9-4670-8158-7003a9dbeff8"
      },
      "execution_count": 18,
      "outputs": [
        {
          "output_type": "execute_result",
          "data": {
            "text/plain": [
              "tensor([[1., 2., 3.],\n",
              "        [4., 5., 6.]])"
            ]
          },
          "metadata": {},
          "execution_count": 18
        }
      ]
    },
    {
      "cell_type": "markdown",
      "source": [
        "6) Tensor Size"
      ],
      "metadata": {
        "id": "4e13wVQ1J0oU"
      }
    },
    {
      "cell_type": "code",
      "source": [
        "# tensor객체.size() --> 인덱스값\n",
        "x = torch.FloatTensor(10, 12, 3, 3) # start, end-1, row, col\n",
        "x\n",
        "x.size() # torch.size([10, 12, 3, 3])\n",
        "x.size()[:] # torch.size([10, 12, 3, 3]) "
      ],
      "metadata": {
        "colab": {
          "base_uri": "https://localhost:8080/"
        },
        "id": "0-bb3UIAJ2Ws",
        "outputId": "106f304a-fd0d-42b6-cd23-ae6c0cd22bf3"
      },
      "execution_count": 21,
      "outputs": [
        {
          "output_type": "execute_result",
          "data": {
            "text/plain": [
              "torch.Size([10, 12, 3, 3])"
            ]
          },
          "metadata": {},
          "execution_count": 21
        }
      ]
    },
    {
      "cell_type": "markdown",
      "source": [
        "# **2. Indexing, Slicing, Joining**\n",
        "**1) Indexing**"
      ],
      "metadata": {
        "id": "dkxGHbACK9Gs"
      }
    },
    {
      "cell_type": "code",
      "source": [
        "# torch.index_select(input, dim, index)\n",
        "# dim == 행값, index == 열에 대한 인덱싱\n",
        "x = torch.rand(4, 3)\n",
        "out = torch.index_select(x, 0, torch.LongTensor([0, 3]))\n",
        "\n",
        "x, out"
      ],
      "metadata": {
        "colab": {
          "base_uri": "https://localhost:8080/"
        },
        "id": "nMs-QvEyLGc1",
        "outputId": "0800ff97-4a8d-4636-efa0-d721c7bb7140"
      },
      "execution_count": 22,
      "outputs": [
        {
          "output_type": "execute_result",
          "data": {
            "text/plain": [
              "(tensor([[0.3421, 0.1026, 0.7050],\n",
              "         [0.1466, 0.2202, 0.4914],\n",
              "         [0.3256, 0.1677, 0.3894],\n",
              "         [0.8934, 0.0196, 0.1062]]), tensor([[0.3421, 0.1026, 0.7050],\n",
              "         [0.8934, 0.0196, 0.1062]]))"
            ]
          },
          "metadata": {},
          "execution_count": 22
        }
      ]
    },
    {
      "cell_type": "code",
      "source": [
        "# python indexing 사용 가능\n",
        "x[:, 0] # 모든 행의 0열 값들\n",
        "x[0, :] # 0행의 모든값들\n",
        "x[0:2, 0:2] # 0~1행, 0~1열까지의 값들"
      ],
      "metadata": {
        "colab": {
          "base_uri": "https://localhost:8080/"
        },
        "id": "2H2qMs0hMOb-",
        "outputId": "05cd6877-965f-4a18-bc66-bdea4ca102ca"
      },
      "execution_count": 25,
      "outputs": [
        {
          "output_type": "execute_result",
          "data": {
            "text/plain": [
              "tensor([[0.3421, 0.1026],\n",
              "        [0.1466, 0.2202]])"
            ]
          },
          "metadata": {},
          "execution_count": 25
        }
      ]
    },
    {
      "cell_type": "code",
      "source": [
        "# torch.masked_select(input, mask)\n",
        "x = torch.randn(2, 3)\n",
        "x\n",
        "mask = torch.ByteTensor([[0, 0, 1], [0, 1, 0]])\n",
        "out = torch.masked_select(x, mask)\n",
        "x, mask, out"
      ],
      "metadata": {
        "colab": {
          "base_uri": "https://localhost:8080/"
        },
        "id": "NlO0RfaHNKes",
        "outputId": "ace2e8cf-8ab8-42d9-ebfb-9bb314beca1a"
      },
      "execution_count": 28,
      "outputs": [
        {
          "output_type": "stream",
          "name": "stderr",
          "text": [
            "/usr/local/lib/python3.7/dist-packages/ipykernel_launcher.py:5: UserWarning: masked_select received a mask with dtype torch.uint8, this behavior is now deprecated,please use a mask with dtype torch.bool instead. (Triggered internally at  ../aten/src/ATen/native/TensorAdvancedIndexing.cpp:1664.)\n",
            "  \"\"\"\n"
          ]
        },
        {
          "output_type": "execute_result",
          "data": {
            "text/plain": [
              "(tensor([[ 0.2777,  1.0669,  1.1946],\n",
              "         [-0.5515,  0.7418,  0.1002]]), tensor([[0, 0, 1],\n",
              "         [0, 1, 0]], dtype=torch.uint8), tensor([1.1946, 0.7418]))"
            ]
          },
          "metadata": {},
          "execution_count": 28
        }
      ]
    },
    {
      "cell_type": "markdown",
      "source": [
        "**2) Joining**"
      ],
      "metadata": {
        "id": "cub9GrkPOD40"
      }
    },
    {
      "cell_type": "code",
      "source": [
        "# torch.cat(seq, dim=0)\n",
        "\n",
        "x = torch.FloatTensor([[1,2,3],[4,5,6]])\n",
        "y = torch.FloatTensor([[-1,-2,-3],[-4,-5,-6]])\n",
        "\n",
        "z1 = torch.cat([x,y], dim=0) # dim=0, 아래에 합쳐짐\n",
        "z2 = torch.cat([x,y], dim=1) # dim=1, 오른쪽에 합쳐짐\n",
        "\n",
        "x, y, z1, z2 # z1, z2 확인해보려면 print로 보시오."
      ],
      "metadata": {
        "colab": {
          "base_uri": "https://localhost:8080/"
        },
        "id": "sHGf6CW7OJUF",
        "outputId": "d905d9ef-04b5-46bb-c938-b543793050c9"
      },
      "execution_count": 32,
      "outputs": [
        {
          "output_type": "execute_result",
          "data": {
            "text/plain": [
              "(tensor([[1., 2., 3.],\n",
              "         [4., 5., 6.]]), tensor([[-1., -2., -3.],\n",
              "         [-4., -5., -6.]]), tensor([[ 1.,  2.,  3.],\n",
              "         [ 4.,  5.,  6.],\n",
              "         [-1., -2., -3.],\n",
              "         [-4., -5., -6.]]), tensor([[ 1.,  2.,  3., -1., -2., -3.],\n",
              "         [ 4.,  5.,  6., -4., -5., -6.]]))"
            ]
          },
          "metadata": {},
          "execution_count": 32
        }
      ]
    },
    {
      "cell_type": "code",
      "source": [
        "# torch.stack(sequence, dim=0) --> 새로운 차원으로 추가\n",
        "x_stack = torch.stack([x, x, x, x], dim=0) # (4,2,3) 모양\n",
        "\n",
        "x_stack"
      ],
      "metadata": {
        "colab": {
          "base_uri": "https://localhost:8080/"
        },
        "id": "dXCL3e5OPSGE",
        "outputId": "625bb3cc-d7ca-4b81-de96-757a4b4ced4b"
      },
      "execution_count": 34,
      "outputs": [
        {
          "output_type": "execute_result",
          "data": {
            "text/plain": [
              "tensor([[[1., 2., 3.],\n",
              "         [4., 5., 6.]],\n",
              "\n",
              "        [[1., 2., 3.],\n",
              "         [4., 5., 6.]],\n",
              "\n",
              "        [[1., 2., 3.],\n",
              "         [4., 5., 6.]],\n",
              "\n",
              "        [[1., 2., 3.],\n",
              "         [4., 5., 6.]]])"
            ]
          },
          "metadata": {},
          "execution_count": 34
        }
      ]
    }
  ]
}