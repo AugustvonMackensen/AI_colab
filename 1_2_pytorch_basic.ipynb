{
  "nbformat": 4,
  "nbformat_minor": 0,
  "metadata": {
    "colab": {
      "provenance": [],
      "collapsed_sections": [],
      "authorship_tag": "ABX9TyMmEttHefL2P3ts9yPurxUs",
      "include_colab_link": true
    },
    "kernelspec": {
      "name": "python3",
      "display_name": "Python 3"
    },
    "language_info": {
      "name": "python"
    },
    "accelerator": "GPU",
    "gpuClass": "standard"
  },
  "cells": [
    {
      "cell_type": "markdown",
      "metadata": {
        "id": "view-in-github",
        "colab_type": "text"
      },
      "source": [
        "<a href=\"https://colab.research.google.com/github/AugustvonMackensen/AI_colab/blob/main/1_2_pytorch_basic.ipynb\" target=\"_parent\"><img src=\"https://colab.research.google.com/assets/colab-badge.svg\" alt=\"Open In Colab\"/></a>"
      ]
    },
    {
      "cell_type": "markdown",
      "source": [
        "# **PyTorch Tensor Basic Usage**\n",
        "- Create Tensor\n",
        "- Indexing, Joining, Slicing\n",
        "- Initialization\n",
        "- Math Operations"
      ],
      "metadata": {
        "id": "OQJIVa6x93lN"
      }
    },
    {
      "cell_type": "markdown",
      "source": [
        "# **1. Create Tensor**\n",
        "1) random numbers"
      ],
      "metadata": {
        "id": "TbraqTo_-ke0"
      }
    },
    {
      "cell_type": "code",
      "source": [
        "# 새 노트에서 런타임 > GPU 로 다시 지정함\n",
        "import torch\n",
        "\n",
        "# torch.rand(sizes) --> 0에서 1 사이의 실수값을 랜덤하게 발생함\n",
        "# sizes : 1차원 개수 or 2차원 행렬 갯수 등으로 지정\n",
        "# 0과 1 사이의 실수형 숫자를 균등하게 생성\n",
        "x = torch.rand(2, 3)\n",
        "x"
      ],
      "metadata": {
        "colab": {
          "base_uri": "https://localhost:8080/"
        },
        "id": "hhAxXKFR997M",
        "outputId": "2cd1110e-2443-4b49-d0af-895b761d00af"
      },
      "execution_count": 1,
      "outputs": [
        {
          "output_type": "execute_result",
          "data": {
            "text/plain": [
              "tensor([[0.1407, 0.7833, 0.4957],\n",
              "        [0.4202, 0.1787, 0.7787]])"
            ]
          },
          "metadata": {},
          "execution_count": 1
        }
      ]
    },
    {
      "cell_type": "code",
      "source": [
        "# torch.randn(sizes) --> Z(0, 1)\n",
        "# 평균이 0이고, 표준편차가 1인 가우시안 정규분포를 이용해서 생성\n",
        "x = torch.randn(2, 3)\n",
        "x"
      ],
      "metadata": {
        "colab": {
          "base_uri": "https://localhost:8080/"
        },
        "id": "1-xf5kR2AGNm",
        "outputId": "47b0dc82-6863-4384-f624-a61c6c8d441c"
      },
      "execution_count": 2,
      "outputs": [
        {
          "output_type": "execute_result",
          "data": {
            "text/plain": [
              "tensor([[-0.2561, -0.3439, -0.1149],\n",
              "        [-1.6778, -0.5819, -0.8236]])"
            ]
          },
          "metadata": {},
          "execution_count": 2
        }
      ]
    },
    {
      "cell_type": "code",
      "source": [
        "# torch.randperm(n) --> permutation of 0 ~ n\n",
        "x = torch.randperm(5)\n",
        "x"
      ],
      "metadata": {
        "colab": {
          "base_uri": "https://localhost:8080/"
        },
        "id": "wTWZIw3hAq_k",
        "outputId": "0a7f9d3f-9e8d-461e-eef7-c49791d67110"
      },
      "execution_count": 3,
      "outputs": [
        {
          "output_type": "execute_result",
          "data": {
            "text/plain": [
              "tensor([3, 4, 0, 1, 2])"
            ]
          },
          "metadata": {},
          "execution_count": 3
        }
      ]
    },
    {
      "cell_type": "markdown",
      "source": [
        "**랜덤한 값을 가지는 텐서 생성시키는 함수들**\n",
        "1. torch.rand() : 0과 1사이의 숫자를 균등하게 생성\n",
        "2. torch.rand_like() : 사이즈를 튜플로 입력하지 않고, 기존의 텐서와 같은 구조를 만들때 사용\n",
        "3. torch.randn() : 평균이 0이고 표준편차가 1인 가우시안 정규분포를 이용해 값 생성\n",
        "4. torch.randn_like() : 사이즈를 튜플로 지정하지 않고 기존의 텐서를 이용\n",
        "5. torch.randint() : 주어진 범위 내의 정수를 균등하게 생성. 자료형은 torch.float32\n",
        "6. torch.randint_like()\n",
        "7. torch.randperm() : 주어진 범위 내의 정수를 랜덤하게 생성\n"
      ],
      "metadata": {
        "id": "pG-fS2xQBLJF"
      }
    },
    {
      "cell_type": "markdown",
      "source": [
        "# **2) zeros, ones, arange**"
      ],
      "metadata": {
        "id": "YAekHPKiCdmb"
      }
    },
    {
      "cell_type": "code",
      "source": [
        "# torch.zeros(2, 3) --> [[0,0,0], [0,0,0]]\n",
        "x = torch.zeros(2, 3)\n",
        "x"
      ],
      "metadata": {
        "colab": {
          "base_uri": "https://localhost:8080/"
        },
        "id": "PZS-2RBkCoy0",
        "outputId": "e153235f-8c56-491b-aa11-d201ed876f05"
      },
      "execution_count": 4,
      "outputs": [
        {
          "output_type": "execute_result",
          "data": {
            "text/plain": [
              "tensor([[0., 0., 0.],\n",
              "        [0., 0., 0.]])"
            ]
          },
          "metadata": {},
          "execution_count": 4
        }
      ]
    },
    {
      "cell_type": "code",
      "source": [
        "# torch.ones(2, 3) --> [[1,1,1], [1,1,1]]\n",
        "x = torch.ones(2, 3)\n",
        "x"
      ],
      "metadata": {
        "colab": {
          "base_uri": "https://localhost:8080/"
        },
        "id": "QTlFnQb2C7z9",
        "outputId": "e4229535-db55-43bf-f407-169cea097511"
      },
      "execution_count": 5,
      "outputs": [
        {
          "output_type": "execute_result",
          "data": {
            "text/plain": [
              "tensor([[1., 1., 1.],\n",
              "        [1., 1., 1.]])"
            ]
          },
          "metadata": {},
          "execution_count": 5
        }
      ]
    },
    {
      "cell_type": "code",
      "source": [
        "# torch.arange(start, end, strp=1)\n",
        "x = torch.arange(0, 3, step=0.5)\n",
        "x"
      ],
      "metadata": {
        "colab": {
          "base_uri": "https://localhost:8080/"
        },
        "id": "Lu3wIJACDI_M",
        "outputId": "e972d228-6214-437f-ec52-8c4475f7533c"
      },
      "execution_count": 6,
      "outputs": [
        {
          "output_type": "execute_result",
          "data": {
            "text/plain": [
              "tensor([0.0000, 0.5000, 1.0000, 1.5000, 2.0000, 2.5000])"
            ]
          },
          "metadata": {},
          "execution_count": 6
        }
      ]
    }
  ]
}