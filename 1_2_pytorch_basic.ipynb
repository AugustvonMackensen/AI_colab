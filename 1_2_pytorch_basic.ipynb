{
  "nbformat": 4,
  "nbformat_minor": 0,
  "metadata": {
    "colab": {
      "provenance": [],
      "collapsed_sections": [],
      "authorship_tag": "ABX9TyPp2nSMLQPJRH6mX71WDJ8s",
      "include_colab_link": true
    },
    "kernelspec": {
      "name": "python3",
      "display_name": "Python 3"
    },
    "language_info": {
      "name": "python"
    },
    "accelerator": "GPU",
    "gpuClass": "standard"
  },
  "cells": [
    {
      "cell_type": "markdown",
      "metadata": {
        "id": "view-in-github",
        "colab_type": "text"
      },
      "source": [
        "<a href=\"https://colab.research.google.com/github/AugustvonMackensen/AI_colab/blob/main/1_2_pytorch_basic.ipynb\" target=\"_parent\"><img src=\"https://colab.research.google.com/assets/colab-badge.svg\" alt=\"Open In Colab\"/></a>"
      ]
    },
    {
      "cell_type": "markdown",
      "source": [
        "# **PyTorch Tensor Basic Usage**\n",
        "- Create Tensor\n",
        "- Indexing, Joining, Slicing\n",
        "- Initialization\n",
        "- Math Operations"
      ],
      "metadata": {
        "id": "OQJIVa6x93lN"
      }
    },
    {
      "cell_type": "markdown",
      "source": [
        "# **1. Create Tensor**\n",
        "1) random numbers"
      ],
      "metadata": {
        "id": "TbraqTo_-ke0"
      }
    },
    {
      "cell_type": "code",
      "source": [
        "# 새 노트에서 런타임 > GPU 로 다시 지정함\n",
        "import torch\n",
        "\n",
        "# torch.rand(sizes) --> 0에서 1 사이의 실수값을 랜덤하게 발생함\n",
        "# sizes : 1차원 개수 or 2차원 행렬 갯수 등으로 지정\n",
        "# 0과 1 사이의 실수형 숫자를 균등하게 생성\n",
        "x = torch.rand(2, 3)\n",
        "x"
      ],
      "metadata": {
        "colab": {
          "base_uri": "https://localhost:8080/"
        },
        "id": "hhAxXKFR997M",
        "outputId": "acec6ea5-4068-4775-d091-e2cce57c5dae"
      },
      "execution_count": 59,
      "outputs": [
        {
          "output_type": "execute_result",
          "data": {
            "text/plain": [
              "tensor([[0.7223, 0.2037, 0.9776],\n",
              "        [0.9114, 0.6989, 0.0788]])"
            ]
          },
          "metadata": {},
          "execution_count": 59
        }
      ]
    },
    {
      "cell_type": "code",
      "source": [
        "# torch.randn(sizes) --> Z(0, 1)\n",
        "# 평균이 0이고, 표준편차가 1인 가우시안 정규분포를 이용해서 생성\n",
        "x = torch.randn(2, 3)\n",
        "x"
      ],
      "metadata": {
        "colab": {
          "base_uri": "https://localhost:8080/"
        },
        "id": "1-xf5kR2AGNm",
        "outputId": "e4f054a7-cf47-492a-cc9f-cc765bad3b9c"
      },
      "execution_count": 60,
      "outputs": [
        {
          "output_type": "execute_result",
          "data": {
            "text/plain": [
              "tensor([[ 1.0667, -1.1885, -0.0438],\n",
              "        [-0.3100,  0.4412, -0.4390]])"
            ]
          },
          "metadata": {},
          "execution_count": 60
        }
      ]
    },
    {
      "cell_type": "code",
      "source": [
        "# torch.randperm(n) --> permutation of 0 ~ n\n",
        "x = torch.randperm(5)\n",
        "x"
      ],
      "metadata": {
        "colab": {
          "base_uri": "https://localhost:8080/"
        },
        "id": "wTWZIw3hAq_k",
        "outputId": "6d614f74-b6d2-4534-f813-b9f6c256df4d"
      },
      "execution_count": 61,
      "outputs": [
        {
          "output_type": "execute_result",
          "data": {
            "text/plain": [
              "tensor([3, 2, 0, 1, 4])"
            ]
          },
          "metadata": {},
          "execution_count": 61
        }
      ]
    },
    {
      "cell_type": "markdown",
      "source": [
        "**랜덤한 값을 가지는 텐서 생성시키는 함수들**\n",
        "1. torch.rand() : 0과 1사이의 숫자를 균등하게 생성\n",
        "2. torch.rand_like() : 사이즈를 튜플로 입력하지 않고, 기존의 텐서와 같은 구조를 만들때 사용\n",
        "3. torch.randn() : 평균이 0이고 표준편차가 1인 가우시안 정규분포를 이용해 값 생성\n",
        "4. torch.randn_like() : 사이즈를 튜플로 지정하지 않고 기존의 텐서를 이용\n",
        "5. torch.randint() : 주어진 범위 내의 정수를 균등하게 생성. 자료형은 torch.float32\n",
        "6. torch.randint_like()\n",
        "7. torch.randperm() : 주어진 범위 내의 정수를 랜덤하게 생성\n"
      ],
      "metadata": {
        "id": "pG-fS2xQBLJF"
      }
    },
    {
      "cell_type": "markdown",
      "source": [
        "# **2) zeros, ones, arange**"
      ],
      "metadata": {
        "id": "YAekHPKiCdmb"
      }
    },
    {
      "cell_type": "code",
      "source": [
        "# torch.zeros(2, 3) --> [[0,0,0], [0,0,0]]\n",
        "x = torch.zeros(2, 3)\n",
        "x"
      ],
      "metadata": {
        "colab": {
          "base_uri": "https://localhost:8080/"
        },
        "id": "PZS-2RBkCoy0",
        "outputId": "6e943849-4677-4506-ed24-c984479a1e05"
      },
      "execution_count": 62,
      "outputs": [
        {
          "output_type": "execute_result",
          "data": {
            "text/plain": [
              "tensor([[0., 0., 0.],\n",
              "        [0., 0., 0.]])"
            ]
          },
          "metadata": {},
          "execution_count": 62
        }
      ]
    },
    {
      "cell_type": "code",
      "source": [
        "# torch.ones(2, 3) --> [[1,1,1], [1,1,1]]\n",
        "x = torch.ones(2, 3)\n",
        "x"
      ],
      "metadata": {
        "colab": {
          "base_uri": "https://localhost:8080/"
        },
        "id": "QTlFnQb2C7z9",
        "outputId": "bcde79da-5b12-41b2-c516-dee5ee502964"
      },
      "execution_count": 63,
      "outputs": [
        {
          "output_type": "execute_result",
          "data": {
            "text/plain": [
              "tensor([[1., 1., 1.],\n",
              "        [1., 1., 1.]])"
            ]
          },
          "metadata": {},
          "execution_count": 63
        }
      ]
    },
    {
      "cell_type": "code",
      "source": [
        "# torch.arange(start, end, strp=1)\n",
        "x = torch.arange(0, 3, step=0.5)\n",
        "x"
      ],
      "metadata": {
        "colab": {
          "base_uri": "https://localhost:8080/"
        },
        "id": "Lu3wIJACDI_M",
        "outputId": "12eb49e7-cd48-4980-c3ba-95e511063d90"
      },
      "execution_count": 64,
      "outputs": [
        {
          "output_type": "execute_result",
          "data": {
            "text/plain": [
              "tensor([0.0000, 0.5000, 1.0000, 1.5000, 2.0000, 2.5000])"
            ]
          },
          "metadata": {},
          "execution_count": 64
        }
      ]
    },
    {
      "cell_type": "markdown",
      "source": [
        "# **3) Tensor Data Type**"
      ],
      "metadata": {
        "id": "RWOyniaEGN8M"
      }
    },
    {
      "cell_type": "code",
      "source": [
        "# torch.FloatTensor(size | list)\n",
        "x = torch.FloatTensor(2, 3)\n",
        "x"
      ],
      "metadata": {
        "colab": {
          "base_uri": "https://localhost:8080/"
        },
        "id": "j-HHMPM8GaKd",
        "outputId": "8abdb3d8-bd98-49fd-d2c0-f3b9ae9dcb7c"
      },
      "execution_count": 65,
      "outputs": [
        {
          "output_type": "execute_result",
          "data": {
            "text/plain": [
              "tensor([[1.4759e+10, 0.0000e+00, 1.0000e+00],\n",
              "        [1.5000e+00, 2.0000e+00, 2.5000e+00]])"
            ]
          },
          "metadata": {},
          "execution_count": 65
        }
      ]
    },
    {
      "cell_type": "code",
      "source": [
        "x = torch.FloatTensor([12, 35])\n",
        "x"
      ],
      "metadata": {
        "colab": {
          "base_uri": "https://localhost:8080/"
        },
        "id": "eNHR-9arGk7T",
        "outputId": "f207e02d-a133-4ce7-b00b-d7528fe9c6c2"
      },
      "execution_count": 66,
      "outputs": [
        {
          "output_type": "execute_result",
          "data": {
            "text/plain": [
              "tensor([12., 35.])"
            ]
          },
          "metadata": {},
          "execution_count": 66
        }
      ]
    },
    {
      "cell_type": "code",
      "source": [
        "# tensor.type_as(tensor_type)\n",
        "# 기존 텐서의 값의 자료형을 바꿀 때 사용\n",
        "x = x.type_as(torch.IntTensor())\n",
        "x"
      ],
      "metadata": {
        "colab": {
          "base_uri": "https://localhost:8080/"
        },
        "id": "SQg9FtuHG32k",
        "outputId": "385675e9-4522-47c3-a023-0bf87b2b15ea"
      },
      "execution_count": 67,
      "outputs": [
        {
          "output_type": "execute_result",
          "data": {
            "text/plain": [
              "tensor([12, 35], dtype=torch.int32)"
            ]
          },
          "metadata": {},
          "execution_count": 67
        }
      ]
    },
    {
      "cell_type": "markdown",
      "source": [
        "# **4) Numpy to Tensor, Tensor to Numpy**"
      ],
      "metadata": {
        "id": "kZiAwfmEHY1k"
      }
    },
    {
      "cell_type": "code",
      "source": [
        "import numpy as np\n",
        "\n",
        "# torch.from_numpy(ndarray) --> tensor\n",
        "x1 = np.ndarray(shape=(2, 3), dtype=int, buffer=np.array([1,2,3,4,5,6]))\n",
        "x1\n",
        "x2 = torch.from_numpy(x1)\n",
        "x2"
      ],
      "metadata": {
        "colab": {
          "base_uri": "https://localhost:8080/"
        },
        "id": "BMcWiw-WHdjs",
        "outputId": "dbb3b7a6-b433-4717-914b-b67e9f72ae22"
      },
      "execution_count": 68,
      "outputs": [
        {
          "output_type": "execute_result",
          "data": {
            "text/plain": [
              "tensor([[1, 2, 3],\n",
              "        [4, 5, 6]])"
            ]
          },
          "metadata": {},
          "execution_count": 68
        }
      ]
    },
    {
      "cell_type": "code",
      "source": [
        "# torch.numpy() --> ndarray\n",
        "x3 = x2.numpy()\n",
        "x3"
      ],
      "metadata": {
        "colab": {
          "base_uri": "https://localhost:8080/"
        },
        "id": "bHJlp9VpIatc",
        "outputId": "140b051b-9379-446e-94ce-8d2b79307229"
      },
      "execution_count": 69,
      "outputs": [
        {
          "output_type": "execute_result",
          "data": {
            "text/plain": [
              "array([[1, 2, 3],\n",
              "       [4, 5, 6]])"
            ]
          },
          "metadata": {},
          "execution_count": 69
        }
      ]
    },
    {
      "cell_type": "markdown",
      "source": [
        "# **5) Tensor on CPU & GPU**"
      ],
      "metadata": {
        "id": "iDPNIJ37I8Ft"
      }
    },
    {
      "cell_type": "code",
      "source": [
        "x = torch.FloatTensor(([1,2,3],[4,5,6]))\n",
        "x\n",
        "x_gpu = x.cuda()\n",
        "x_gpu\n",
        "\n",
        "x_cpu = x_gpu.cpu()\n",
        "x_cpu"
      ],
      "metadata": {
        "colab": {
          "base_uri": "https://localhost:8080/"
        },
        "id": "PiYrO0tOJBKU",
        "outputId": "1949523a-9a05-409c-9efc-395e9ac543f9"
      },
      "execution_count": 70,
      "outputs": [
        {
          "output_type": "execute_result",
          "data": {
            "text/plain": [
              "tensor([[1., 2., 3.],\n",
              "        [4., 5., 6.]])"
            ]
          },
          "metadata": {},
          "execution_count": 70
        }
      ]
    },
    {
      "cell_type": "markdown",
      "source": [
        "6) Tensor Size"
      ],
      "metadata": {
        "id": "4e13wVQ1J0oU"
      }
    },
    {
      "cell_type": "code",
      "source": [
        "# tensor객체.size() --> 인덱스값\n",
        "x = torch.FloatTensor(10, 12, 3, 3) # start, end-1, row, col\n",
        "x\n",
        "x.size() # torch.size([10, 12, 3, 3])\n",
        "x.size()[:] # torch.size([10, 12, 3, 3]) "
      ],
      "metadata": {
        "colab": {
          "base_uri": "https://localhost:8080/"
        },
        "id": "0-bb3UIAJ2Ws",
        "outputId": "8c0f329b-6046-4270-fb5d-5eb261f3fa67"
      },
      "execution_count": 71,
      "outputs": [
        {
          "output_type": "execute_result",
          "data": {
            "text/plain": [
              "torch.Size([10, 12, 3, 3])"
            ]
          },
          "metadata": {},
          "execution_count": 71
        }
      ]
    },
    {
      "cell_type": "markdown",
      "source": [
        "# **2. Indexing, Slicing, Joining**\n",
        "**1) Indexing**"
      ],
      "metadata": {
        "id": "dkxGHbACK9Gs"
      }
    },
    {
      "cell_type": "code",
      "source": [
        "# torch.index_select(input, dim, index)\n",
        "# dim == 행값, index == 열에 대한 인덱싱\n",
        "x = torch.rand(4, 3)\n",
        "out = torch.index_select(x, 0, torch.LongTensor([0, 3]))\n",
        "\n",
        "x, out"
      ],
      "metadata": {
        "colab": {
          "base_uri": "https://localhost:8080/"
        },
        "id": "nMs-QvEyLGc1",
        "outputId": "a3089dd8-f0c1-4610-8a40-01c6f57c3583"
      },
      "execution_count": 72,
      "outputs": [
        {
          "output_type": "execute_result",
          "data": {
            "text/plain": [
              "(tensor([[0.5142, 0.6679, 0.4964],\n",
              "         [0.3784, 0.0650, 0.8284],\n",
              "         [0.0234, 0.5295, 0.6574],\n",
              "         [0.8071, 0.5419, 0.0713]]), tensor([[0.5142, 0.6679, 0.4964],\n",
              "         [0.8071, 0.5419, 0.0713]]))"
            ]
          },
          "metadata": {},
          "execution_count": 72
        }
      ]
    },
    {
      "cell_type": "code",
      "source": [
        "# python indexing 사용 가능\n",
        "x[:, 0] # 모든 행의 0열 값들\n",
        "x[0, :] # 0행의 모든값들\n",
        "x[0:2, 0:2] # 0~1행, 0~1열까지의 값들"
      ],
      "metadata": {
        "colab": {
          "base_uri": "https://localhost:8080/"
        },
        "id": "2H2qMs0hMOb-",
        "outputId": "3735602f-276b-4299-9359-0ef8869d1073"
      },
      "execution_count": 73,
      "outputs": [
        {
          "output_type": "execute_result",
          "data": {
            "text/plain": [
              "tensor([[0.5142, 0.6679],\n",
              "        [0.3784, 0.0650]])"
            ]
          },
          "metadata": {},
          "execution_count": 73
        }
      ]
    },
    {
      "cell_type": "code",
      "source": [
        "# torch.masked_select(input, mask)\n",
        "x = torch.randn(2, 3)\n",
        "x\n",
        "mask = torch.ByteTensor([[0, 0, 1], [0, 1, 0]])\n",
        "out = torch.masked_select(x, mask)\n",
        "x, mask, out"
      ],
      "metadata": {
        "colab": {
          "base_uri": "https://localhost:8080/"
        },
        "id": "NlO0RfaHNKes",
        "outputId": "63fe154e-dc62-4395-e121-f8825bbd30c7"
      },
      "execution_count": 74,
      "outputs": [
        {
          "output_type": "stream",
          "name": "stderr",
          "text": [
            "/usr/local/lib/python3.7/dist-packages/ipykernel_launcher.py:5: UserWarning: masked_select received a mask with dtype torch.uint8, this behavior is now deprecated,please use a mask with dtype torch.bool instead. (Triggered internally at  ../aten/src/ATen/native/TensorAdvancedIndexing.cpp:1664.)\n",
            "  \"\"\"\n"
          ]
        },
        {
          "output_type": "execute_result",
          "data": {
            "text/plain": [
              "(tensor([[-0.1748, -0.1666, -0.0964],\n",
              "         [ 0.2733, -0.6178,  0.4085]]), tensor([[0, 0, 1],\n",
              "         [0, 1, 0]], dtype=torch.uint8), tensor([-0.0964, -0.6178]))"
            ]
          },
          "metadata": {},
          "execution_count": 74
        }
      ]
    },
    {
      "cell_type": "markdown",
      "source": [
        "**2) Joining**"
      ],
      "metadata": {
        "id": "cub9GrkPOD40"
      }
    },
    {
      "cell_type": "code",
      "source": [
        "# torch.cat(seq, dim=0)\n",
        "\n",
        "x = torch.FloatTensor([[1,2,3],[4,5,6]])\n",
        "y = torch.FloatTensor([[-1,-2,-3],[-4,-5,-6]])\n",
        "\n",
        "z1 = torch.cat([x,y], dim=0) # dim=0, 아래에 합쳐짐\n",
        "z2 = torch.cat([x,y], dim=1) # dim=1, 오른쪽에 합쳐짐\n",
        "\n",
        "x, y, z1, z2 # z1, z2 확인해보려면 print로 보시오."
      ],
      "metadata": {
        "colab": {
          "base_uri": "https://localhost:8080/"
        },
        "id": "sHGf6CW7OJUF",
        "outputId": "2bc64653-3e7d-481b-cc84-7aee44023cf2"
      },
      "execution_count": 75,
      "outputs": [
        {
          "output_type": "execute_result",
          "data": {
            "text/plain": [
              "(tensor([[1., 2., 3.],\n",
              "         [4., 5., 6.]]), tensor([[-1., -2., -3.],\n",
              "         [-4., -5., -6.]]), tensor([[ 1.,  2.,  3.],\n",
              "         [ 4.,  5.,  6.],\n",
              "         [-1., -2., -3.],\n",
              "         [-4., -5., -6.]]), tensor([[ 1.,  2.,  3., -1., -2., -3.],\n",
              "         [ 4.,  5.,  6., -4., -5., -6.]]))"
            ]
          },
          "metadata": {},
          "execution_count": 75
        }
      ]
    },
    {
      "cell_type": "code",
      "source": [
        "# torch.stack(sequence, dim=0) --> 새로운 차원으로 추가\n",
        "x_stack = torch.stack([x, x, x, x], dim=0) # (4,2,3) 모양\n",
        "\n",
        "x_stack"
      ],
      "metadata": {
        "colab": {
          "base_uri": "https://localhost:8080/"
        },
        "id": "dXCL3e5OPSGE",
        "outputId": "80959267-561b-4302-db32-45d5b5a16208"
      },
      "execution_count": 76,
      "outputs": [
        {
          "output_type": "execute_result",
          "data": {
            "text/plain": [
              "tensor([[[1., 2., 3.],\n",
              "         [4., 5., 6.]],\n",
              "\n",
              "        [[1., 2., 3.],\n",
              "         [4., 5., 6.]],\n",
              "\n",
              "        [[1., 2., 3.],\n",
              "         [4., 5., 6.]],\n",
              "\n",
              "        [[1., 2., 3.],\n",
              "         [4., 5., 6.]]])"
            ]
          },
          "metadata": {},
          "execution_count": 76
        }
      ]
    },
    {
      "cell_type": "markdown",
      "source": [
        "**3) Slicing**"
      ],
      "metadata": {
        "id": "1NsHdOYLfnTV"
      }
    },
    {
      "cell_type": "code",
      "source": [
        "# torch.chunk(tensor, chunks, dim=0)\n",
        "x_1, x_2 = torch.chunk(z1, 2, dim=0) # dim 이 0이면 행을 2개로 분할\n",
        "y_1, y_2, y_3 = torch.chunk(z1, 3, dim=1) #dim 이 1이면 열을 3개로 분할\n",
        "\n",
        "z1, x_1, x_2, y_1, y_2, y_3"
      ],
      "metadata": {
        "colab": {
          "base_uri": "https://localhost:8080/"
        },
        "id": "WdnnNJVEfq6d",
        "outputId": "4418ad7f-0133-4eb5-c398-4e0906d450fe"
      },
      "execution_count": 77,
      "outputs": [
        {
          "output_type": "execute_result",
          "data": {
            "text/plain": [
              "(tensor([[ 1.,  2.,  3.],\n",
              "         [ 4.,  5.,  6.],\n",
              "         [-1., -2., -3.],\n",
              "         [-4., -5., -6.]]), tensor([[1., 2., 3.],\n",
              "         [4., 5., 6.]]), tensor([[-1., -2., -3.],\n",
              "         [-4., -5., -6.]]), tensor([[ 1.],\n",
              "         [ 4.],\n",
              "         [-1.],\n",
              "         [-4.]]), tensor([[ 2.],\n",
              "         [ 5.],\n",
              "         [-2.],\n",
              "         [-5.]]), tensor([[ 3.],\n",
              "         [ 6.],\n",
              "         [-3.],\n",
              "         [-6.]]))"
            ]
          },
          "metadata": {},
          "execution_count": 77
        }
      ]
    },
    {
      "cell_type": "code",
      "source": [
        "# torch.split(tensor, split_size, dim=0)\n",
        "x1, x2 = torch.split(z1, 2, dim=0)\n",
        "_, y1 = torch.split(z1, 2, dim=1) # 3개 열을 2개로 분할\n",
        "\n",
        "z1, x1, x2, y1"
      ],
      "metadata": {
        "colab": {
          "base_uri": "https://localhost:8080/"
        },
        "id": "Pd1LEMT5g0i3",
        "outputId": "9370e2e1-054e-4d06-bcb9-0458a15e0062"
      },
      "execution_count": 78,
      "outputs": [
        {
          "output_type": "execute_result",
          "data": {
            "text/plain": [
              "(tensor([[ 1.,  2.,  3.],\n",
              "         [ 4.,  5.,  6.],\n",
              "         [-1., -2., -3.],\n",
              "         [-4., -5., -6.]]), tensor([[1., 2., 3.],\n",
              "         [4., 5., 6.]]), tensor([[-1., -2., -3.],\n",
              "         [-4., -5., -6.]]), tensor([[ 3.],\n",
              "         [ 6.],\n",
              "         [-3.],\n",
              "         [-6.]]))"
            ]
          },
          "metadata": {},
          "execution_count": 78
        }
      ]
    },
    {
      "cell_type": "markdown",
      "source": [
        "**4) Squeezing**"
      ],
      "metadata": {
        "id": "7UcAKoTPhmYd"
      }
    },
    {
      "cell_type": "code",
      "source": [
        "# torch.squeeze(input, dim=None) --> 숫자가 1인 차원을 제거\n",
        "x1 = torch.FloatTensor(10, 1, 3, 14)\n",
        "# 차원(dimension)의 개념\n",
        "# 10 : batch size (데이터 한 묶음당 들어있는 데이터(x,y)쌍 갯수)\n",
        "# 1 : channel size\n",
        "# 3 : width image size\n",
        "# 14 : height image size\n",
        "\n",
        "x2 = torch.squeeze(x1)\n",
        "\n",
        "x1.size(), x2.size()"
      ],
      "metadata": {
        "colab": {
          "base_uri": "https://localhost:8080/"
        },
        "id": "R6TfcGTZhtg1",
        "outputId": "e5c1cb09-8ab7-4380-86f7-de0379b72408"
      },
      "execution_count": 79,
      "outputs": [
        {
          "output_type": "execute_result",
          "data": {
            "text/plain": [
              "(torch.Size([10, 1, 3, 14]), torch.Size([10, 3, 14]))"
            ]
          },
          "metadata": {},
          "execution_count": 79
        }
      ]
    },
    {
      "cell_type": "code",
      "source": [
        "# torch.unsqueeze(input, dim=None) --> 숫자가 1인 차원을 추가\n",
        "x1 = torch.FloatTensor(10, 3, 4)\n",
        "x2 = torch.unsqueeze(x1, dim=0) # dim이 0이면, 첫번째 위치에 추가\n",
        "\n",
        "x1.size(), x2.size()"
      ],
      "metadata": {
        "colab": {
          "base_uri": "https://localhost:8080/"
        },
        "id": "wgY_k5zdjLy2",
        "outputId": "65d3a0ab-50e2-409e-db74-4076fe553153"
      },
      "execution_count": 80,
      "outputs": [
        {
          "output_type": "execute_result",
          "data": {
            "text/plain": [
              "(torch.Size([10, 3, 4]), torch.Size([1, 10, 3, 4]))"
            ]
          },
          "metadata": {},
          "execution_count": 80
        }
      ]
    },
    {
      "cell_type": "markdown",
      "source": [
        "# **3. Initialization**"
      ],
      "metadata": {
        "id": "lzaugHRGkCHN"
      }
    },
    {
      "cell_type": "code",
      "source": [
        "import torch.nn.init as init\n",
        "\n",
        "x1 = init.uniform(torch.FloatTensor(3, 4), a=0, b=9) # a에서 b까지의 값으로 초기화\n",
        "x2 = init.normal(torch.FloatTensor(3, 4), std=0.2) # 표준편차 0.2를 적용 초기화\n",
        "x3 = init.constant(torch.FloatTensor(3, 4), 3.145) # 지정된 상수 값으로 초기화\n",
        "\n",
        "x1, x2, x3"
      ],
      "metadata": {
        "colab": {
          "base_uri": "https://localhost:8080/"
        },
        "id": "-ylpFdLNkArv",
        "outputId": "0f5848b5-880d-4f5f-a79e-bd63a78d6ab0"
      },
      "execution_count": 81,
      "outputs": [
        {
          "output_type": "stream",
          "name": "stderr",
          "text": [
            "/usr/local/lib/python3.7/dist-packages/ipykernel_launcher.py:3: UserWarning: nn.init.uniform is now deprecated in favor of nn.init.uniform_.\n",
            "  This is separate from the ipykernel package so we can avoid doing imports until\n",
            "/usr/local/lib/python3.7/dist-packages/ipykernel_launcher.py:4: UserWarning: nn.init.normal is now deprecated in favor of nn.init.normal_.\n",
            "  after removing the cwd from sys.path.\n",
            "/usr/local/lib/python3.7/dist-packages/ipykernel_launcher.py:5: UserWarning: nn.init.constant is now deprecated in favor of nn.init.constant_.\n",
            "  \"\"\"\n"
          ]
        },
        {
          "output_type": "execute_result",
          "data": {
            "text/plain": [
              "(tensor([[2.0158, 7.3316, 7.9449, 1.0579],\n",
              "         [5.5617, 6.1086, 2.1596, 3.7927],\n",
              "         [0.7437, 2.0766, 5.3414, 2.0026]]),\n",
              " tensor([[ 0.0431, -0.0426, -0.1647,  0.3067],\n",
              "         [ 0.3010,  0.1073,  0.3981, -0.3276],\n",
              "         [-0.1460, -0.1736,  0.2445, -0.1464]]),\n",
              " tensor([[3.1450, 3.1450, 3.1450, 3.1450],\n",
              "         [3.1450, 3.1450, 3.1450, 3.1450],\n",
              "         [3.1450, 3.1450, 3.1450, 3.1450]]))"
            ]
          },
          "metadata": {},
          "execution_count": 81
        }
      ]
    },
    {
      "cell_type": "markdown",
      "source": [
        "# **4. Math Operations**\n",
        "\n",
        "**1) arithmetic operations**"
      ],
      "metadata": {
        "id": "cSK2E0pelxlH"
      }
    },
    {
      "cell_type": "code",
      "source": [
        "# torch.add()\n",
        "x1 = torch.FloatTensor([[1,2,3], [4,5,6]])\n",
        "x2 = torch.FloatTensor([[1,2,3], [4,5,6]])\n",
        "x_add = torch.add(x1, x2)\n",
        "x1, x2, x_add, x1 + x2, x1 - x2"
      ],
      "metadata": {
        "colab": {
          "base_uri": "https://localhost:8080/"
        },
        "id": "wcO2PF77mD_l",
        "outputId": "11834ab2-db8d-444a-fcc8-807dc867279c"
      },
      "execution_count": 82,
      "outputs": [
        {
          "output_type": "execute_result",
          "data": {
            "text/plain": [
              "(tensor([[1., 2., 3.],\n",
              "         [4., 5., 6.]]), tensor([[1., 2., 3.],\n",
              "         [4., 5., 6.]]), tensor([[ 2.,  4.,  6.],\n",
              "         [ 8., 10., 12.]]), tensor([[ 2.,  4.,  6.],\n",
              "         [ 8., 10., 12.]]), tensor([[0., 0., 0.],\n",
              "         [0., 0., 0.]]))"
            ]
          },
          "metadata": {},
          "execution_count": 82
        }
      ]
    },
    {
      "cell_type": "code",
      "source": [
        "# torch.add() : broadcastion (숫자와의 연산)\n",
        "x3 = torch.add(x1, 10)\n",
        "\n",
        "x3, x1 + 10, x2 - 10"
      ],
      "metadata": {
        "colab": {
          "base_uri": "https://localhost:8080/"
        },
        "id": "5t8NDzMSm6st",
        "outputId": "50bc05e1-3f89-491c-9d46-4481a8f94986"
      },
      "execution_count": 83,
      "outputs": [
        {
          "output_type": "execute_result",
          "data": {
            "text/plain": [
              "(tensor([[11., 12., 13.],\n",
              "         [14., 15., 16.]]), tensor([[11., 12., 13.],\n",
              "         [14., 15., 16.]]), tensor([[-9., -8., -7.],\n",
              "         [-6., -5., -4.]]))"
            ]
          },
          "metadata": {},
          "execution_count": 83
        }
      ]
    },
    {
      "cell_type": "code",
      "source": [
        "# torch.mul() 곱하기\n",
        "x3 = torch.mul(x1, x2)\n",
        "\n",
        "x3, x1 * x2"
      ],
      "metadata": {
        "colab": {
          "base_uri": "https://localhost:8080/"
        },
        "id": "o0auG-SCnoxk",
        "outputId": "96fb1f64-fc7f-4ab2-f631-2974e8af60b1"
      },
      "execution_count": 84,
      "outputs": [
        {
          "output_type": "execute_result",
          "data": {
            "text/plain": [
              "(tensor([[ 1.,  4.,  9.],\n",
              "         [16., 25., 36.]]), tensor([[ 1.,  4.,  9.],\n",
              "         [16., 25., 36.]]))"
            ]
          },
          "metadata": {},
          "execution_count": 84
        }
      ]
    },
    {
      "cell_type": "code",
      "source": [
        "x3 = torch.mul(x1, 10)\n",
        "\n",
        "x3, x1 * 10"
      ],
      "metadata": {
        "colab": {
          "base_uri": "https://localhost:8080/"
        },
        "id": "FweI5iedoCOt",
        "outputId": "91ca74b5-fc8b-4301-8d40-bfaea8d4c5e4"
      },
      "execution_count": 85,
      "outputs": [
        {
          "output_type": "execute_result",
          "data": {
            "text/plain": [
              "(tensor([[10., 20., 30.],\n",
              "         [40., 50., 60.]]), tensor([[10., 20., 30.],\n",
              "         [40., 50., 60.]]))"
            ]
          },
          "metadata": {},
          "execution_count": 85
        }
      ]
    },
    {
      "cell_type": "code",
      "source": [
        "# torch.div() 나누기한 몫\n",
        "x3 = torch.div(x1, 5)\n",
        "\n",
        "x1, x3, x1 / 5"
      ],
      "metadata": {
        "colab": {
          "base_uri": "https://localhost:8080/"
        },
        "id": "iplr0mO9oPl8",
        "outputId": "e61a8dbc-7e5f-48b2-b7cb-263fa7b4f9d0"
      },
      "execution_count": 86,
      "outputs": [
        {
          "output_type": "execute_result",
          "data": {
            "text/plain": [
              "(tensor([[1., 2., 3.],\n",
              "         [4., 5., 6.]]), tensor([[0.2000, 0.4000, 0.6000],\n",
              "         [0.8000, 1.0000, 1.2000]]), tensor([[0.2000, 0.4000, 0.6000],\n",
              "         [0.8000, 1.0000, 1.2000]]))"
            ]
          },
          "metadata": {},
          "execution_count": 86
        }
      ]
    },
    {
      "cell_type": "markdown",
      "source": [
        "**2) Other Math Operations**"
      ],
      "metadata": {
        "id": "lPDwSdRBowYs"
      }
    },
    {
      "cell_type": "code",
      "source": [
        "# torch.pow(input, exponent)\n",
        "x1 = torch.FloatTensor(3,4)\n",
        "\n",
        "x1, torch.pow(x1, 2), x1 ** 2"
      ],
      "metadata": {
        "colab": {
          "base_uri": "https://localhost:8080/"
        },
        "id": "4b5RRSWiomjc",
        "outputId": "63727e30-7887-4d3a-e1bf-a0f49d9e38e2"
      },
      "execution_count": 87,
      "outputs": [
        {
          "output_type": "execute_result",
          "data": {
            "text/plain": [
              "(tensor([[4.9071e+11, 0.0000e+00, 6.0000e-01, 8.0000e-01],\n",
              "         [1.0000e+00, 1.2000e+00, 0.0000e+00, 2.3750e+00],\n",
              "         [0.0000e+00, 2.3125e+00, 0.0000e+00, 2.2500e+00]]),\n",
              " tensor([[2.4080e+23, 0.0000e+00, 3.6000e-01, 6.4000e-01],\n",
              "         [1.0000e+00, 1.4400e+00, 0.0000e+00, 5.6406e+00],\n",
              "         [0.0000e+00, 5.3477e+00, 0.0000e+00, 5.0625e+00]]),\n",
              " tensor([[2.4080e+23, 0.0000e+00, 3.6000e-01, 6.4000e-01],\n",
              "         [1.0000e+00, 1.4400e+00, 0.0000e+00, 5.6406e+00],\n",
              "         [0.0000e+00, 5.3477e+00, 0.0000e+00, 5.0625e+00]]))"
            ]
          },
          "metadata": {},
          "execution_count": 87
        }
      ]
    },
    {
      "cell_type": "code",
      "source": [
        "# torch.exp(tensor, out=None) : exponential 연산\n",
        "# y = e의 x제곱 구하기\n",
        "x1 = torch.FloatTensor(3,4)\n",
        "out = torch.exp(x1)\n",
        "\n",
        "x1, out"
      ],
      "metadata": {
        "colab": {
          "base_uri": "https://localhost:8080/"
        },
        "id": "EbrLr4FApOzd",
        "outputId": "36e2f637-b6e6-44c3-8afd-e87d87a18051"
      },
      "execution_count": 88,
      "outputs": [
        {
          "output_type": "execute_result",
          "data": {
            "text/plain": [
              "(tensor([[4.9074e+11, 0.0000e+00, 3.6000e-01, 6.4000e-01],\n",
              "         [1.0000e+00, 1.4400e+00, 0.0000e+00, 5.6406e+00],\n",
              "         [0.0000e+00, 5.3477e+00, 0.0000e+00, 5.0625e+00]]),\n",
              " tensor([[     inf,   1.0000,   1.4333,   1.8965],\n",
              "         [  2.7183,   4.2207,   1.0000, 281.6387],\n",
              "         [  1.0000, 210.1153,   1.0000, 157.9850]]))"
            ]
          },
          "metadata": {},
          "execution_count": 88
        }
      ]
    },
    {
      "cell_type": "code",
      "source": [
        "# torch.log(input, out=None) : 자연로그\n",
        "out = torch.log(x)\n",
        "x1, out"
      ],
      "metadata": {
        "colab": {
          "base_uri": "https://localhost:8080/"
        },
        "id": "HYZ32UW1q0F2",
        "outputId": "cb766d9b-6e5f-4215-8f0c-b34e4c8a6213"
      },
      "execution_count": 89,
      "outputs": [
        {
          "output_type": "execute_result",
          "data": {
            "text/plain": [
              "(tensor([[4.9074e+11, 0.0000e+00, 3.6000e-01, 6.4000e-01],\n",
              "         [1.0000e+00, 1.4400e+00, 0.0000e+00, 5.6406e+00],\n",
              "         [0.0000e+00, 5.3477e+00, 0.0000e+00, 5.0625e+00]]),\n",
              " tensor([[0.0000, 0.6931, 1.0986],\n",
              "         [1.3863, 1.6094, 1.7918]]))"
            ]
          },
          "metadata": {},
          "execution_count": 89
        }
      ]
    },
    {
      "cell_type": "markdown",
      "source": [
        "**3) Matrix operations**"
      ],
      "metadata": {
        "id": "FSd-amQ-rFOv"
      }
    },
    {
      "cell_type": "code",
      "source": [
        "# torch.mm(mat1, mat2) -> Matrix multiplication (행렬곱)\n",
        "x1 = torch.FloatTensor(3,4)\n",
        "x2 = torch.FloatTensor(4,5)\n",
        "out = torch.mm(x1, x2)\n",
        "x1, x2, out"
      ],
      "metadata": {
        "colab": {
          "base_uri": "https://localhost:8080/"
        },
        "id": "pxbad4yorNad",
        "outputId": "8792d029-9f00-4c4b-e427-bd81a528b917"
      },
      "execution_count": 90,
      "outputs": [
        {
          "output_type": "execute_result",
          "data": {
            "text/plain": [
              "(tensor([[1.4763e+10, 0.0000e+00, 1.0986e+00, 1.3863e+00],\n",
              "         [1.6094e+00, 1.7918e+00, 0.0000e+00, 5.6406e+00],\n",
              "         [0.0000e+00, 5.3477e+00, 0.0000e+00, 5.0625e+00]]),\n",
              " tensor([[0.0000e+00, 0.0000e+00, 1.0930e-43, 0.0000e+00, 0.0000e+00],\n",
              "         [0.0000e+00, 0.0000e+00, 0.0000e+00, 0.0000e+00, 1.1021e+24],\n",
              "         [7.7052e+31, 1.9447e+31, 2.1715e-18, 2.3081e-12, 1.8590e+34],\n",
              "         [7.7767e+31, 1.7181e+19, 1.8990e+28, 1.5766e-19, 1.4586e-19]]),\n",
              " tensor([[1.9246e+32, 2.1365e+31, 2.6325e+28, 2.5357e-12, 2.0423e+34],\n",
              "         [4.3865e+32, 9.6912e+19, 1.0711e+29, 8.8931e-19, 1.9747e+24],\n",
              "         [3.9369e+32, 8.6979e+19, 9.6135e+28, 7.9816e-19, 5.8938e+24]]))"
            ]
          },
          "metadata": {},
          "execution_count": 90
        }
      ]
    },
    {
      "cell_type": "code",
      "source": [
        "# torch.bmm(batch1, batch2) --> batch 행렬 연산\n",
        "# 맨 앞의 batch는 차원을 유지하면서 뒤 요소들의 행렬곱 연산함\n",
        "x1 = torch.FloatTensor(10, 3, 4)\n",
        "x2 = torch.FloatTensor(10, 4, 5)\n",
        "out = torch.bmm(x1, x2)\n",
        "out.size()"
      ],
      "metadata": {
        "colab": {
          "base_uri": "https://localhost:8080/"
        },
        "id": "OKnS50UbsE-N",
        "outputId": "c81286d2-1746-4b22-f228-5fbcdb240b57"
      },
      "execution_count": 91,
      "outputs": [
        {
          "output_type": "execute_result",
          "data": {
            "text/plain": [
              "torch.Size([10, 3, 5])"
            ]
          },
          "metadata": {},
          "execution_count": 91
        }
      ]
    },
    {
      "cell_type": "code",
      "source": [
        "# torch.dot(tensor1, tensor2) : 벡터의 내적을 구함\n",
        "x1 = torch.FloatTensor([1,2,3,4])\n",
        "x2 = torch.FloatTensor([2,3,4,5])\n",
        "\n",
        "torch.dot(x1,x2)"
      ],
      "metadata": {
        "colab": {
          "base_uri": "https://localhost:8080/"
        },
        "id": "FANV4Rffsw9t",
        "outputId": "d10485d7-cb5d-42a6-f252-d6df4af08ab2"
      },
      "execution_count": 92,
      "outputs": [
        {
          "output_type": "execute_result",
          "data": {
            "text/plain": [
              "tensor(40.)"
            ]
          },
          "metadata": {},
          "execution_count": 92
        }
      ]
    },
    {
      "cell_type": "code",
      "source": [
        "# torch.t(matrix) : transposed matrix(텐서의 전치연산)\n",
        "# 행과 열 서로 바꿈\n",
        "\n",
        "x1 = torch.FloatTensor(3,4)\n",
        "\n",
        "x1, x1.t()"
      ],
      "metadata": {
        "colab": {
          "base_uri": "https://localhost:8080/"
        },
        "id": "AeiWnwD4tPxu",
        "outputId": "588c1985-40d7-4580-8468-982ef8108f3e"
      },
      "execution_count": 96,
      "outputs": [
        {
          "output_type": "execute_result",
          "data": {
            "text/plain": [
              "(tensor([[4.9487e+11, 0.0000e+00, 5.1848e-44, 0.0000e+00],\n",
              "         [       nan, 1.9904e+00, 3.0478e+32, 4.5925e+24],\n",
              "         [1.7448e+22, 7.5878e+31, 1.8522e+28, 1.8057e+28]]),\n",
              " tensor([[4.9487e+11,        nan, 1.7448e+22],\n",
              "         [0.0000e+00, 1.9904e+00, 7.5878e+31],\n",
              "         [5.1848e-44, 3.0478e+32, 1.8522e+28],\n",
              "         [0.0000e+00, 4.5925e+24, 1.8057e+28]]))"
            ]
          },
          "metadata": {},
          "execution_count": 96
        }
      ]
    },
    {
      "cell_type": "code",
      "source": [
        "# torch.transpose(input, dim_0, dim_1)\n",
        "# 바꿀 차원을 2개 지정함\n",
        "# 텐서의 내부 차원간 바꾸기\n",
        "x1 = torch.FloatTensor(10, 3, 4)\n",
        "\n",
        "# 1차원과 2차원을 서로 바꿈\n",
        "x1.size(), torch.transpose(x1, 1, 2).size(), x1.transpose(1, 2).size()"
      ],
      "metadata": {
        "colab": {
          "base_uri": "https://localhost:8080/"
        },
        "id": "IuORtpi3t2Kt",
        "outputId": "048165ad-4ea7-4615-c22b-51c4e4889811"
      },
      "execution_count": 94,
      "outputs": [
        {
          "output_type": "execute_result",
          "data": {
            "text/plain": [
              "(torch.Size([10, 3, 4]), torch.Size([10, 4, 3]), torch.Size([10, 4, 3]))"
            ]
          },
          "metadata": {},
          "execution_count": 94
        }
      ]
    },
    {
      "cell_type": "code",
      "source": [
        "# torch.eig(input, eigenvectors=False)\n",
        "# 고유값(eigen_value), 고유벡터(eigen_vector) 반환\n",
        "x1 = torch.FloatTensor(4,4)\n",
        "\n",
        "x1, torch.eig(x1, True)"
      ],
      "metadata": {
        "colab": {
          "base_uri": "https://localhost:8080/"
        },
        "id": "PdCZMTT_uq91",
        "outputId": "1a095cf6-e1bb-4a95-adb6-436470b0b163"
      },
      "execution_count": 97,
      "outputs": [
        {
          "output_type": "execute_result",
          "data": {
            "text/plain": [
              "(tensor([[4.9487e+11, 0.0000e+00, 2.3694e-38, 3.0478e+32],\n",
              "         [4.5925e+24, 1.7448e+22, 7.5878e+31, 1.8522e+28],\n",
              "         [1.8057e+28, 7.1901e+28, 6.2706e+22, 4.7428e+30],\n",
              "         [0.0000e+00, 0.0000e+00, 0.0000e+00, 0.0000e+00]]),\n",
              " torch.return_types.eig(\n",
              " eigenvalues=tensor([[ 2.3358e+30,  0.0000e+00],\n",
              "         [-2.3358e+30,  0.0000e+00],\n",
              "         [ 4.9487e+11,  0.0000e+00],\n",
              "         [ 0.0000e+00,  0.0000e+00]]),\n",
              " eigenvectors=tensor([[ 0.0000e+00,  0.0000e+00,  9.6988e-01, -9.6988e-01],\n",
              "         [ 9.9953e-01,  9.9953e-01, -2.4357e-01,  2.4357e-01],\n",
              "         [ 3.0768e-02, -3.0768e-02, -5.8261e-08,  5.8005e-08],\n",
              "         [ 0.0000e+00,  0.0000e+00,  0.0000e+00,  1.5748e-21]])))"
            ]
          },
          "metadata": {},
          "execution_count": 97
        }
      ]
    }
  ]
}