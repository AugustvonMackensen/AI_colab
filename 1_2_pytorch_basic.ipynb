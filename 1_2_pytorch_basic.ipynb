{
  "nbformat": 4,
  "nbformat_minor": 0,
  "metadata": {
    "colab": {
      "provenance": [],
      "collapsed_sections": [],
      "authorship_tag": "ABX9TyMIPAsDl4genizlDlIwKSX4",
      "include_colab_link": true
    },
    "kernelspec": {
      "name": "python3",
      "display_name": "Python 3"
    },
    "language_info": {
      "name": "python"
    },
    "accelerator": "GPU",
    "gpuClass": "standard"
  },
  "cells": [
    {
      "cell_type": "markdown",
      "metadata": {
        "id": "view-in-github",
        "colab_type": "text"
      },
      "source": [
        "<a href=\"https://colab.research.google.com/github/AugustvonMackensen/AI_colab/blob/main/1_2_pytorch_basic.ipynb\" target=\"_parent\"><img src=\"https://colab.research.google.com/assets/colab-badge.svg\" alt=\"Open In Colab\"/></a>"
      ]
    },
    {
      "cell_type": "markdown",
      "source": [
        "# **PyTorch Tensor Basic Usage**\n",
        "- Create Tensor\n",
        "- Indexing, Joining, Slicing\n",
        "- Initialization\n",
        "- Math Operations"
      ],
      "metadata": {
        "id": "OQJIVa6x93lN"
      }
    },
    {
      "cell_type": "markdown",
      "source": [
        "# **1. Create Tensor**\n",
        "1) random numbers"
      ],
      "metadata": {
        "id": "TbraqTo_-ke0"
      }
    },
    {
      "cell_type": "code",
      "source": [
        "# 새 노트에서 런타임 > GPU 로 다시 지정함\n",
        "import torch\n",
        "\n",
        "# torch.rand(sizes) --> 0에서 1 사이의 실수값을 랜덤하게 발생함\n",
        "# sizes : 1차원 개수 or 2차원 행렬 갯수 등으로 지정\n",
        "# 0과 1 사이의 실수형 숫자를 균등하게 생성\n",
        "x = torch.rand(2, 3)\n",
        "x"
      ],
      "metadata": {
        "colab": {
          "base_uri": "https://localhost:8080/"
        },
        "id": "hhAxXKFR997M",
        "outputId": "3441f811-8eaf-4dfe-e8b7-5cf9894e7d76"
      },
      "execution_count": 4,
      "outputs": [
        {
          "output_type": "execute_result",
          "data": {
            "text/plain": [
              "tensor([[0.7611, 0.9183, 0.0335],\n",
              "        [0.8741, 0.7510, 0.9465]])"
            ]
          },
          "metadata": {},
          "execution_count": 4
        }
      ]
    },
    {
      "cell_type": "code",
      "source": [
        "# torch.randn(sizes) --> Z(0, 1)\n",
        "# 평균이 0이고, 표준편차가 1인 가우시안 정규분포를 이용해서 생성\n",
        "x = torch.randn(2, 3)\n",
        "x"
      ],
      "metadata": {
        "colab": {
          "base_uri": "https://localhost:8080/"
        },
        "id": "1-xf5kR2AGNm",
        "outputId": "e3748800-f008-4e53-c935-643001aae897"
      },
      "execution_count": 6,
      "outputs": [
        {
          "output_type": "execute_result",
          "data": {
            "text/plain": [
              "tensor([[0.3276, 0.0311, 0.6961],\n",
              "        [0.4673, 0.7211, 0.0312]])"
            ]
          },
          "metadata": {},
          "execution_count": 6
        }
      ]
    },
    {
      "cell_type": "code",
      "source": [
        "# torch.randperm(n) --> permutation of 0 ~ n\n",
        "x = torch.randperm(5)\n",
        "x"
      ],
      "metadata": {
        "colab": {
          "base_uri": "https://localhost:8080/"
        },
        "id": "wTWZIw3hAq_k",
        "outputId": "050d31b5-1d5f-4d5d-e47a-03bb4a2d08ce"
      },
      "execution_count": 7,
      "outputs": [
        {
          "output_type": "execute_result",
          "data": {
            "text/plain": [
              "tensor([0, 1, 2, 3, 4])"
            ]
          },
          "metadata": {},
          "execution_count": 7
        }
      ]
    },
    {
      "cell_type": "markdown",
      "source": [
        "**랜덤한 값을 가지는 텐서 생성시키는 함수들**\n",
        "1. torch.rand() : 0과 1사이의 숫자를 균등하게 생성\n",
        "2. torch.rand_like() : 사이즈를 튜플로 입력하지 않고, 기존의 텐서와 같은 구조를 만들때 사용\n",
        "3. torch.randn() : 평균이 0이고 표준편차가 1인 가우시안 정규분포를 이용해 값 생성\n",
        "4. torch.randn_like() : 사이즈를 튜플로 지정하지 않고 기존의 텐서를 이용\n",
        "5. torch.randint() : 주어진 범위 내의 정수를 균등하게 생성. 자료형은 torch.float32\n",
        "6. torch.randint_like()\n",
        "7. torch.randperm() : 주어진 범위 내의 정수를 랜덤하게 생성\n"
      ],
      "metadata": {
        "id": "pG-fS2xQBLJF"
      }
    },
    {
      "cell_type": "markdown",
      "source": [
        "# **2) zeros, ones, arange**"
      ],
      "metadata": {
        "id": "YAekHPKiCdmb"
      }
    },
    {
      "cell_type": "code",
      "source": [
        "# torch.zeros(2, 3) --> [[0,0,0], [0,0,0]]\n",
        "x = torch.zeros(2, 3)\n",
        "x"
      ],
      "metadata": {
        "colab": {
          "base_uri": "https://localhost:8080/"
        },
        "id": "PZS-2RBkCoy0",
        "outputId": "8813cae4-3902-402e-c2d5-a396d3069634"
      },
      "execution_count": 8,
      "outputs": [
        {
          "output_type": "execute_result",
          "data": {
            "text/plain": [
              "tensor([[0., 0., 0.],\n",
              "        [0., 0., 0.]])"
            ]
          },
          "metadata": {},
          "execution_count": 8
        }
      ]
    },
    {
      "cell_type": "code",
      "source": [
        "# torch.ones(2, 3) --> [[1,1,1], [1,1,1]]\n",
        "x = torch.ones(2, 3)\n",
        "x"
      ],
      "metadata": {
        "colab": {
          "base_uri": "https://localhost:8080/"
        },
        "id": "QTlFnQb2C7z9",
        "outputId": "b02414c4-91b2-4a35-9067-dc08af03d38c"
      },
      "execution_count": 9,
      "outputs": [
        {
          "output_type": "execute_result",
          "data": {
            "text/plain": [
              "tensor([[1., 1., 1.],\n",
              "        [1., 1., 1.]])"
            ]
          },
          "metadata": {},
          "execution_count": 9
        }
      ]
    },
    {
      "cell_type": "code",
      "source": [
        "# torch.arange(start, end, strp=1)\n",
        "x = torch.arange(0, 3, step=0.5)\n",
        "x"
      ],
      "metadata": {
        "colab": {
          "base_uri": "https://localhost:8080/"
        },
        "id": "Lu3wIJACDI_M",
        "outputId": "593832c0-26ea-4b6f-8e0b-9a196bef3ba0"
      },
      "execution_count": 10,
      "outputs": [
        {
          "output_type": "execute_result",
          "data": {
            "text/plain": [
              "tensor([0.0000, 0.5000, 1.0000, 1.5000, 2.0000, 2.5000])"
            ]
          },
          "metadata": {},
          "execution_count": 10
        }
      ]
    },
    {
      "cell_type": "markdown",
      "source": [
        "# **3) Tensor Data Type**"
      ],
      "metadata": {
        "id": "RWOyniaEGN8M"
      }
    },
    {
      "cell_type": "code",
      "source": [
        "# torch.FloatTensor(size | list)\n",
        "x = torch.FloatTensor(2, 3)\n",
        "x"
      ],
      "metadata": {
        "colab": {
          "base_uri": "https://localhost:8080/"
        },
        "id": "j-HHMPM8GaKd",
        "outputId": "a8572b76-6eb2-48c8-f1b0-6440d6783ab6"
      },
      "execution_count": 11,
      "outputs": [
        {
          "output_type": "execute_result",
          "data": {
            "text/plain": [
              "tensor([[7.1116e-35, 0.0000e+00, 3.7835e-44],\n",
              "        [0.0000e+00,        nan, 2.5000e+00]])"
            ]
          },
          "metadata": {},
          "execution_count": 11
        }
      ]
    },
    {
      "cell_type": "code",
      "source": [
        "x = torch.FloatTensor([12, 35])\n",
        "x"
      ],
      "metadata": {
        "colab": {
          "base_uri": "https://localhost:8080/"
        },
        "id": "eNHR-9arGk7T",
        "outputId": "0fe8c96a-b258-4239-b196-1af95e753224"
      },
      "execution_count": 12,
      "outputs": [
        {
          "output_type": "execute_result",
          "data": {
            "text/plain": [
              "tensor([12., 35.])"
            ]
          },
          "metadata": {},
          "execution_count": 12
        }
      ]
    },
    {
      "cell_type": "code",
      "source": [
        "# tensor.type_as(tensor_type)\n",
        "# 기존 텐서의 값의 자료형을 바꿀 때 사용\n",
        "x = x.type_as(torch.IntTensor())\n",
        "x"
      ],
      "metadata": {
        "colab": {
          "base_uri": "https://localhost:8080/"
        },
        "id": "SQg9FtuHG32k",
        "outputId": "d0879570-1c9e-422f-f8b0-f4e461f711d9"
      },
      "execution_count": 13,
      "outputs": [
        {
          "output_type": "execute_result",
          "data": {
            "text/plain": [
              "tensor([12, 35], dtype=torch.int32)"
            ]
          },
          "metadata": {},
          "execution_count": 13
        }
      ]
    },
    {
      "cell_type": "markdown",
      "source": [
        "# **4) Numpy to Tensor, Tensor to Numpy**"
      ],
      "metadata": {
        "id": "kZiAwfmEHY1k"
      }
    },
    {
      "cell_type": "code",
      "source": [
        "import numpy as np\n",
        "\n",
        "# torch.from_numpy(ndarray) --> tensor\n",
        "x1 = np.ndarray(shape=(2, 3), dtype=int, buffer=np.array([1,2,3,4,5,6]))\n",
        "x1\n",
        "x2 = torch.from_numpy(x1)\n",
        "x2"
      ],
      "metadata": {
        "colab": {
          "base_uri": "https://localhost:8080/"
        },
        "id": "BMcWiw-WHdjs",
        "outputId": "813a2ae3-72b2-4b83-87cd-e4802540b329"
      },
      "execution_count": 14,
      "outputs": [
        {
          "output_type": "execute_result",
          "data": {
            "text/plain": [
              "tensor([[1, 2, 3],\n",
              "        [4, 5, 6]])"
            ]
          },
          "metadata": {},
          "execution_count": 14
        }
      ]
    },
    {
      "cell_type": "code",
      "source": [
        "# torch.numpy() --> ndarray\n",
        "x3 = x2.numpy()\n",
        "x3"
      ],
      "metadata": {
        "colab": {
          "base_uri": "https://localhost:8080/"
        },
        "id": "bHJlp9VpIatc",
        "outputId": "76c8db99-c3b0-4dd5-beb1-0006ad3e36c7"
      },
      "execution_count": 15,
      "outputs": [
        {
          "output_type": "execute_result",
          "data": {
            "text/plain": [
              "array([[1, 2, 3],\n",
              "       [4, 5, 6]])"
            ]
          },
          "metadata": {},
          "execution_count": 15
        }
      ]
    },
    {
      "cell_type": "markdown",
      "source": [
        "# **5) Tensor on CPU & GPU**"
      ],
      "metadata": {
        "id": "iDPNIJ37I8Ft"
      }
    },
    {
      "cell_type": "code",
      "source": [
        "x = torch.FloatTensor(([1,2,3],[4,5,6]))\n",
        "x\n",
        "x_gpu = x.cuda()\n",
        "x_gpu\n",
        "\n",
        "x_cpu = x_gpu.cpu()\n",
        "x_cpu"
      ],
      "metadata": {
        "colab": {
          "base_uri": "https://localhost:8080/"
        },
        "id": "PiYrO0tOJBKU",
        "outputId": "1db65aaa-f7c5-47a8-a157-961f7d632536"
      },
      "execution_count": 16,
      "outputs": [
        {
          "output_type": "execute_result",
          "data": {
            "text/plain": [
              "tensor([[1., 2., 3.],\n",
              "        [4., 5., 6.]])"
            ]
          },
          "metadata": {},
          "execution_count": 16
        }
      ]
    },
    {
      "cell_type": "markdown",
      "source": [
        "6) Tensor Size"
      ],
      "metadata": {
        "id": "4e13wVQ1J0oU"
      }
    },
    {
      "cell_type": "code",
      "source": [
        "# tensor객체.size() --> 인덱스값\n",
        "x = torch.FloatTensor(10, 12, 3, 3) # start, end-1, row, col\n",
        "x\n",
        "x.size() # torch.size([10, 12, 3, 3])\n",
        "x.size()[:] # torch.size([10, 12, 3, 3]) "
      ],
      "metadata": {
        "colab": {
          "base_uri": "https://localhost:8080/"
        },
        "id": "0-bb3UIAJ2Ws",
        "outputId": "91955d97-4f2b-4bb7-aa7c-de13363dc6aa"
      },
      "execution_count": 17,
      "outputs": [
        {
          "output_type": "execute_result",
          "data": {
            "text/plain": [
              "torch.Size([10, 12, 3, 3])"
            ]
          },
          "metadata": {},
          "execution_count": 17
        }
      ]
    },
    {
      "cell_type": "markdown",
      "source": [
        "# **2. Indexing, Slicing, Joining**\n",
        "**1) Indexing**"
      ],
      "metadata": {
        "id": "dkxGHbACK9Gs"
      }
    },
    {
      "cell_type": "code",
      "source": [
        "# torch.index_select(input, dim, index)\n",
        "# dim == 행값, index == 열에 대한 인덱싱\n",
        "x = torch.rand(4, 3)\n",
        "out = torch.index_select(x, 0, torch.LongTensor([0, 3]))\n",
        "\n",
        "x, out"
      ],
      "metadata": {
        "colab": {
          "base_uri": "https://localhost:8080/"
        },
        "id": "nMs-QvEyLGc1",
        "outputId": "b629d6f4-2948-477e-c0bb-af1a9d7569db"
      },
      "execution_count": 18,
      "outputs": [
        {
          "output_type": "execute_result",
          "data": {
            "text/plain": [
              "(tensor([[0.1928, 0.0036, 0.6293],\n",
              "         [0.2857, 0.3453, 0.7944],\n",
              "         [0.4611, 0.0626, 0.0790],\n",
              "         [0.5018, 0.7681, 0.6877]]), tensor([[0.1928, 0.0036, 0.6293],\n",
              "         [0.5018, 0.7681, 0.6877]]))"
            ]
          },
          "metadata": {},
          "execution_count": 18
        }
      ]
    },
    {
      "cell_type": "code",
      "source": [
        "# python indexing 사용 가능\n",
        "x[:, 0] # 모든 행의 0열 값들\n",
        "x[0, :] # 0행의 모든값들\n",
        "x[0:2, 0:2] # 0~1행, 0~1열까지의 값들"
      ],
      "metadata": {
        "colab": {
          "base_uri": "https://localhost:8080/"
        },
        "id": "2H2qMs0hMOb-",
        "outputId": "bf588e1e-8be7-4250-bf64-2db948ca1104"
      },
      "execution_count": 19,
      "outputs": [
        {
          "output_type": "execute_result",
          "data": {
            "text/plain": [
              "tensor([[0.1928, 0.0036],\n",
              "        [0.2857, 0.3453]])"
            ]
          },
          "metadata": {},
          "execution_count": 19
        }
      ]
    },
    {
      "cell_type": "code",
      "source": [
        "# torch.masked_select(input, mask)\n",
        "x = torch.randn(2, 3)\n",
        "x\n",
        "mask = torch.ByteTensor([[0, 0, 1], [0, 1, 0]])\n",
        "out = torch.masked_select(x, mask)\n",
        "x, mask, out"
      ],
      "metadata": {
        "colab": {
          "base_uri": "https://localhost:8080/"
        },
        "id": "NlO0RfaHNKes",
        "outputId": "faefb8a0-22fd-48a7-f8cc-2cc99c2988b1"
      },
      "execution_count": 20,
      "outputs": [
        {
          "output_type": "stream",
          "name": "stderr",
          "text": [
            "/usr/local/lib/python3.7/dist-packages/ipykernel_launcher.py:5: UserWarning: masked_select received a mask with dtype torch.uint8, this behavior is now deprecated,please use a mask with dtype torch.bool instead. (Triggered internally at  ../aten/src/ATen/native/TensorAdvancedIndexing.cpp:1664.)\n",
            "  \"\"\"\n"
          ]
        },
        {
          "output_type": "execute_result",
          "data": {
            "text/plain": [
              "(tensor([[ 0.5721, -0.7890,  0.5255],\n",
              "         [-0.4918, -0.7268,  1.2719]]), tensor([[0, 0, 1],\n",
              "         [0, 1, 0]], dtype=torch.uint8), tensor([ 0.5255, -0.7268]))"
            ]
          },
          "metadata": {},
          "execution_count": 20
        }
      ]
    },
    {
      "cell_type": "markdown",
      "source": [
        "**2) Joining**"
      ],
      "metadata": {
        "id": "cub9GrkPOD40"
      }
    },
    {
      "cell_type": "code",
      "source": [
        "# torch.cat(seq, dim=0)\n",
        "\n",
        "x = torch.FloatTensor([[1,2,3],[4,5,6]])\n",
        "y = torch.FloatTensor([[-1,-2,-3],[-4,-5,-6]])\n",
        "\n",
        "z1 = torch.cat([x,y], dim=0) # dim=0, 아래에 합쳐짐\n",
        "z2 = torch.cat([x,y], dim=1) # dim=1, 오른쪽에 합쳐짐\n",
        "\n",
        "x, y, z1, z2 # z1, z2 확인해보려면 print로 보시오."
      ],
      "metadata": {
        "colab": {
          "base_uri": "https://localhost:8080/"
        },
        "id": "sHGf6CW7OJUF",
        "outputId": "9b9a69b7-99e5-481e-91ed-45daa87395c3"
      },
      "execution_count": 21,
      "outputs": [
        {
          "output_type": "execute_result",
          "data": {
            "text/plain": [
              "(tensor([[1., 2., 3.],\n",
              "         [4., 5., 6.]]), tensor([[-1., -2., -3.],\n",
              "         [-4., -5., -6.]]), tensor([[ 1.,  2.,  3.],\n",
              "         [ 4.,  5.,  6.],\n",
              "         [-1., -2., -3.],\n",
              "         [-4., -5., -6.]]), tensor([[ 1.,  2.,  3., -1., -2., -3.],\n",
              "         [ 4.,  5.,  6., -4., -5., -6.]]))"
            ]
          },
          "metadata": {},
          "execution_count": 21
        }
      ]
    },
    {
      "cell_type": "code",
      "source": [
        "# torch.stack(sequence, dim=0) --> 새로운 차원으로 추가\n",
        "x_stack = torch.stack([x, x, x, x], dim=0) # (4,2,3) 모양\n",
        "\n",
        "x_stack"
      ],
      "metadata": {
        "colab": {
          "base_uri": "https://localhost:8080/"
        },
        "id": "dXCL3e5OPSGE",
        "outputId": "95650952-8c9c-4972-c797-340a19811a98"
      },
      "execution_count": 22,
      "outputs": [
        {
          "output_type": "execute_result",
          "data": {
            "text/plain": [
              "tensor([[[1., 2., 3.],\n",
              "         [4., 5., 6.]],\n",
              "\n",
              "        [[1., 2., 3.],\n",
              "         [4., 5., 6.]],\n",
              "\n",
              "        [[1., 2., 3.],\n",
              "         [4., 5., 6.]],\n",
              "\n",
              "        [[1., 2., 3.],\n",
              "         [4., 5., 6.]]])"
            ]
          },
          "metadata": {},
          "execution_count": 22
        }
      ]
    },
    {
      "cell_type": "markdown",
      "source": [
        "**3) Slicing**"
      ],
      "metadata": {
        "id": "1NsHdOYLfnTV"
      }
    },
    {
      "cell_type": "code",
      "source": [
        "# torch.chunk(tensor, chunks, dim=0)\n",
        "x_1, x_2 = torch.chunk(z1, 2, dim=0) # dim 이 0이면 행을 2개로 분할\n",
        "y_1, y_2, y_3 = torch.chunk(z1, 3, dim=1) #dim 이 1이면 열을 3개로 분할\n",
        "\n",
        "z1, x_1, x_2, y_1, y_2, y_3"
      ],
      "metadata": {
        "colab": {
          "base_uri": "https://localhost:8080/"
        },
        "id": "WdnnNJVEfq6d",
        "outputId": "6b952082-080d-4d3a-ea9f-887021461b23"
      },
      "execution_count": 23,
      "outputs": [
        {
          "output_type": "execute_result",
          "data": {
            "text/plain": [
              "(tensor([[ 1.,  2.,  3.],\n",
              "         [ 4.,  5.,  6.],\n",
              "         [-1., -2., -3.],\n",
              "         [-4., -5., -6.]]), tensor([[1., 2., 3.],\n",
              "         [4., 5., 6.]]), tensor([[-1., -2., -3.],\n",
              "         [-4., -5., -6.]]), tensor([[ 1.],\n",
              "         [ 4.],\n",
              "         [-1.],\n",
              "         [-4.]]), tensor([[ 2.],\n",
              "         [ 5.],\n",
              "         [-2.],\n",
              "         [-5.]]), tensor([[ 3.],\n",
              "         [ 6.],\n",
              "         [-3.],\n",
              "         [-6.]]))"
            ]
          },
          "metadata": {},
          "execution_count": 23
        }
      ]
    },
    {
      "cell_type": "code",
      "source": [
        "# torch.split(tensor, split_size, dim=0)\n",
        "x1, x2 = torch.split(z1, 2, dim=0)\n",
        "_, y1 = torch.split(z1, 2, dim=1) # 3개 열을 2개로 분할\n",
        "\n",
        "z1, x1, x2, y1"
      ],
      "metadata": {
        "colab": {
          "base_uri": "https://localhost:8080/"
        },
        "id": "Pd1LEMT5g0i3",
        "outputId": "22c4f405-6b3a-4985-9523-336e991cc7e0"
      },
      "execution_count": 26,
      "outputs": [
        {
          "output_type": "execute_result",
          "data": {
            "text/plain": [
              "(tensor([[ 1.,  2.,  3.],\n",
              "         [ 4.,  5.,  6.],\n",
              "         [-1., -2., -3.],\n",
              "         [-4., -5., -6.]]), tensor([[1., 2., 3.],\n",
              "         [4., 5., 6.]]), tensor([[-1., -2., -3.],\n",
              "         [-4., -5., -6.]]), tensor([[ 3.],\n",
              "         [ 6.],\n",
              "         [-3.],\n",
              "         [-6.]]))"
            ]
          },
          "metadata": {},
          "execution_count": 26
        }
      ]
    },
    {
      "cell_type": "markdown",
      "source": [
        "**4) Squeezing**"
      ],
      "metadata": {
        "id": "7UcAKoTPhmYd"
      }
    },
    {
      "cell_type": "code",
      "source": [
        "# torch.squeeze(input, dim=None) --> 숫자가 1인 차원을 제거\n",
        "x1 = torch.FloatTensor(10, 1, 3, 14)\n",
        "# 차원(dimension)의 개념\n",
        "# 10 : batch size (데이터 한 묶음당 들어있는 데이터(x,y)쌍 갯수)\n",
        "# 1 : channel size\n",
        "# 3 : width image size\n",
        "# 14 : height image size\n",
        "\n",
        "x2 = torch.squeeze(x1)\n",
        "\n",
        "x1.size(), x2.size()"
      ],
      "metadata": {
        "colab": {
          "base_uri": "https://localhost:8080/"
        },
        "id": "R6TfcGTZhtg1",
        "outputId": "f82b003f-13ed-4acd-dd69-b700ad8a945f"
      },
      "execution_count": 27,
      "outputs": [
        {
          "output_type": "execute_result",
          "data": {
            "text/plain": [
              "(torch.Size([10, 1, 3, 14]), torch.Size([10, 3, 14]))"
            ]
          },
          "metadata": {},
          "execution_count": 27
        }
      ]
    },
    {
      "cell_type": "code",
      "source": [
        "# torch.unsqueeze(input, dim=None) --> 숫자가 1인 차원을 추가\n",
        "x1 = torch.FloatTensor(10, 3, 4)\n",
        "x2 = torch.unsqueeze(x1, dim=0) # dim이 0이면, 첫번째 위치에 추가\n",
        "\n",
        "x1.size(), x2.size()"
      ],
      "metadata": {
        "colab": {
          "base_uri": "https://localhost:8080/"
        },
        "id": "wgY_k5zdjLy2",
        "outputId": "c9990ec3-1334-4ac2-8155-4a85418b9f48"
      },
      "execution_count": 28,
      "outputs": [
        {
          "output_type": "execute_result",
          "data": {
            "text/plain": [
              "(torch.Size([10, 3, 4]), torch.Size([1, 10, 3, 4]))"
            ]
          },
          "metadata": {},
          "execution_count": 28
        }
      ]
    }
  ]
}