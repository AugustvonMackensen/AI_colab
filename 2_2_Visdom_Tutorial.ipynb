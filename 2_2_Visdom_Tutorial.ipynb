{
  "cells": [
    {
      "cell_type": "markdown",
      "metadata": {
        "id": "view-in-github",
        "colab_type": "text"
      },
      "source": [
        "<a href=\"https://colab.research.google.com/github/AugustvonMackensen/AI_colab/blob/main/2_2_Visdom_Tutorial.ipynb\" target=\"_parent\"><img src=\"https://colab.research.google.com/assets/colab-badge.svg\" alt=\"Open In Colab\"/></a>"
      ]
    },
    {
      "cell_type": "markdown",
      "metadata": {
        "id": "SdNeBXC4Cjw_"
      },
      "source": [
        "# Visdom Tutorial\n",
        "\n",
        "- text\n",
        "- image\n",
        "- scatter plot\n",
        "- bar plot\n",
        "- Contour & Surface Plot\n",
        "- Line Plot\n",
        "- Pie Chart Plot"
      ]
    },
    {
      "cell_type": "code",
      "source": [
        "# visdom : Pytorch 시각화 툴임\n",
        "# 설치\n",
        "!pip3 install visdom"
      ],
      "metadata": {
        "colab": {
          "base_uri": "https://localhost:8080/"
        },
        "id": "JBDIBCbO10Fy",
        "outputId": "6af465b4-64f2-4739-97eb-c5391cb6c72a"
      },
      "execution_count": 1,
      "outputs": [
        {
          "output_type": "stream",
          "name": "stdout",
          "text": [
            "Looking in indexes: https://pypi.org/simple, https://us-python.pkg.dev/colab-wheels/public/simple/\n",
            "Collecting visdom\n",
            "  Downloading visdom-0.2.3.tar.gz (1.4 MB)\n",
            "\u001b[K     |████████████████████████████████| 1.4 MB 5.1 MB/s \n",
            "\u001b[?25hRequirement already satisfied: numpy>=1.8 in /usr/local/lib/python3.7/dist-packages (from visdom) (1.21.6)\n",
            "Requirement already satisfied: scipy in /usr/local/lib/python3.7/dist-packages (from visdom) (1.7.3)\n",
            "Requirement already satisfied: requests in /usr/local/lib/python3.7/dist-packages (from visdom) (2.23.0)\n",
            "Requirement already satisfied: tornado in /usr/local/lib/python3.7/dist-packages (from visdom) (5.1.1)\n",
            "Requirement already satisfied: six in /usr/local/lib/python3.7/dist-packages (from visdom) (1.15.0)\n",
            "Collecting jsonpatch\n",
            "  Downloading jsonpatch-1.32-py2.py3-none-any.whl (12 kB)\n",
            "Collecting websocket-client\n",
            "  Downloading websocket_client-1.4.1-py3-none-any.whl (55 kB)\n",
            "\u001b[K     |████████████████████████████████| 55 kB 3.2 MB/s \n",
            "\u001b[?25hRequirement already satisfied: networkx in /usr/local/lib/python3.7/dist-packages (from visdom) (2.6.3)\n",
            "Requirement already satisfied: pillow in /usr/local/lib/python3.7/dist-packages (from visdom) (7.1.2)\n",
            "Collecting jsonpointer>=1.9\n",
            "  Downloading jsonpointer-2.3-py2.py3-none-any.whl (7.8 kB)\n",
            "Requirement already satisfied: certifi>=2017.4.17 in /usr/local/lib/python3.7/dist-packages (from requests->visdom) (2022.9.24)\n",
            "Requirement already satisfied: urllib3!=1.25.0,!=1.25.1,<1.26,>=1.21.1 in /usr/local/lib/python3.7/dist-packages (from requests->visdom) (1.24.3)\n",
            "Requirement already satisfied: idna<3,>=2.5 in /usr/local/lib/python3.7/dist-packages (from requests->visdom) (2.10)\n",
            "Requirement already satisfied: chardet<4,>=3.0.2 in /usr/local/lib/python3.7/dist-packages (from requests->visdom) (3.0.4)\n",
            "Building wheels for collected packages: visdom\n",
            "  Building wheel for visdom (setup.py) ... \u001b[?25l\u001b[?25hdone\n",
            "  Created wheel for visdom: filename=visdom-0.2.3-py3-none-any.whl size=1417108 sha256=cc6480745cbb3fed28ccafd071571fca3c644fa7d9ca356849e456b82567e7e0\n",
            "  Stored in directory: /root/.cache/pip/wheels/6c/cc/34/0a5e6c65ecd5efecaebb4e9a913d438643dbc50e739d1662ca\n",
            "Successfully built visdom\n",
            "Installing collected packages: jsonpointer, websocket-client, jsonpatch, visdom\n",
            "Successfully installed jsonpatch-1.32 jsonpointer-2.3 visdom-0.2.3 websocket-client-1.4.1\n"
          ]
        }
      ]
    },
    {
      "cell_type": "code",
      "source": [
        "# visdom 임포트\n",
        "import visdom\n",
        "from visdom import Visdom"
      ],
      "metadata": {
        "id": "zLaNUdNk2Miy"
      },
      "execution_count": 4,
      "outputs": []
    },
    {
      "cell_type": "code",
      "source": [
        "# 시각화 출력을 위한 객체 생성\n",
        "# 실행 전에 처리할 작업 : cmd 창을 열어서 visdom 서버 구동시킴\n",
        "# pip install visdom\n",
        "# python -m visdom.server\n",
        "# visdom 서버가 지정한 기본 포트번호는 8097 임\n",
        "# visdom 서버 구동시 포트번호 직접 설정하려면\n",
        "# python -m visdom.server -port=포트번호지정\n",
        "\n",
        "vis = Visdom()  # 파이참 또는 jupyter notebook 에서 실행시"
      ],
      "metadata": {
        "colab": {
          "base_uri": "https://localhost:8080/"
        },
        "id": "bsWRIEje2c2B",
        "outputId": "bef389ff-253d-4e01-9761-16c72d15c077"
      },
      "execution_count": 5,
      "outputs": [
        {
          "output_type": "stream",
          "name": "stderr",
          "text": [
            "WARNING:visdom:Setting up a new session...\n",
            "Traceback (most recent call last):\n",
            "  File \"/usr/local/lib/python3.7/dist-packages/urllib3/connection.py\", line 159, in _new_conn\n",
            "    (self._dns_host, self.port), self.timeout, **extra_kw)\n",
            "  File \"/usr/local/lib/python3.7/dist-packages/urllib3/util/connection.py\", line 80, in create_connection\n",
            "    raise err\n",
            "  File \"/usr/local/lib/python3.7/dist-packages/urllib3/util/connection.py\", line 70, in create_connection\n",
            "    sock.connect(sa)\n",
            "ConnectionRefusedError: [Errno 111] Connection refused\n",
            "\n",
            "During handling of the above exception, another exception occurred:\n",
            "\n",
            "Traceback (most recent call last):\n",
            "  File \"/usr/local/lib/python3.7/dist-packages/urllib3/connectionpool.py\", line 600, in urlopen\n",
            "    chunked=chunked)\n",
            "  File \"/usr/local/lib/python3.7/dist-packages/urllib3/connectionpool.py\", line 354, in _make_request\n",
            "    conn.request(method, url, **httplib_request_kw)\n",
            "  File \"/usr/lib/python3.7/http/client.py\", line 1281, in request\n",
            "    self._send_request(method, url, body, headers, encode_chunked)\n",
            "  File \"/usr/lib/python3.7/http/client.py\", line 1327, in _send_request\n",
            "    self.endheaders(body, encode_chunked=encode_chunked)\n",
            "  File \"/usr/lib/python3.7/http/client.py\", line 1276, in endheaders\n",
            "    self._send_output(message_body, encode_chunked=encode_chunked)\n",
            "  File \"/usr/lib/python3.7/http/client.py\", line 1036, in _send_output\n",
            "    self.send(msg)\n",
            "  File \"/usr/lib/python3.7/http/client.py\", line 976, in send\n",
            "    self.connect()\n",
            "  File \"/usr/local/lib/python3.7/dist-packages/urllib3/connection.py\", line 181, in connect\n",
            "    conn = self._new_conn()\n",
            "  File \"/usr/local/lib/python3.7/dist-packages/urllib3/connection.py\", line 168, in _new_conn\n",
            "    self, \"Failed to establish a new connection: %s\" % e)\n",
            "urllib3.exceptions.NewConnectionError: <urllib3.connection.HTTPConnection object at 0x7f41e4a3e210>: Failed to establish a new connection: [Errno 111] Connection refused\n",
            "\n",
            "During handling of the above exception, another exception occurred:\n",
            "\n",
            "Traceback (most recent call last):\n",
            "  File \"/usr/local/lib/python3.7/dist-packages/requests/adapters.py\", line 449, in send\n",
            "    timeout=timeout\n",
            "  File \"/usr/local/lib/python3.7/dist-packages/urllib3/connectionpool.py\", line 638, in urlopen\n",
            "    _stacktrace=sys.exc_info()[2])\n",
            "  File \"/usr/local/lib/python3.7/dist-packages/urllib3/util/retry.py\", line 399, in increment\n",
            "    raise MaxRetryError(_pool, url, error or ResponseError(cause))\n",
            "urllib3.exceptions.MaxRetryError: HTTPConnectionPool(host='localhost', port=8097): Max retries exceeded with url: /env/main (Caused by NewConnectionError('<urllib3.connection.HTTPConnection object at 0x7f41e4a3e210>: Failed to establish a new connection: [Errno 111] Connection refused'))\n",
            "\n",
            "During handling of the above exception, another exception occurred:\n",
            "\n",
            "Traceback (most recent call last):\n",
            "  File \"/usr/local/lib/python3.7/dist-packages/visdom/__init__.py\", line 695, in _send\n",
            "    data=json.dumps(msg),\n",
            "  File \"/usr/local/lib/python3.7/dist-packages/visdom/__init__.py\", line 656, in _handle_post\n",
            "    r = self.session.post(url, data=data)\n",
            "  File \"/usr/local/lib/python3.7/dist-packages/requests/sessions.py\", line 578, in post\n",
            "    return self.request('POST', url, data=data, json=json, **kwargs)\n",
            "  File \"/usr/local/lib/python3.7/dist-packages/requests/sessions.py\", line 530, in request\n",
            "    resp = self.send(prep, **send_kwargs)\n",
            "  File \"/usr/local/lib/python3.7/dist-packages/requests/sessions.py\", line 643, in send\n",
            "    r = adapter.send(request, **kwargs)\n",
            "  File \"/usr/local/lib/python3.7/dist-packages/requests/adapters.py\", line 516, in send\n",
            "    raise ConnectionError(e, request=request)\n",
            "requests.exceptions.ConnectionError: HTTPConnectionPool(host='localhost', port=8097): Max retries exceeded with url: /env/main (Caused by NewConnectionError('<urllib3.connection.HTTPConnection object at 0x7f41e4a3e210>: Failed to establish a new connection: [Errno 111] Connection refused'))\n",
            "ERROR:websocket:[Errno 99] Cannot assign requested address - goodbye\n",
            "ERROR:visdom:[Errno 99] Cannot assign requested address\n",
            "ERROR:websocket:error from callback <function Visdom.setup_socket.<locals>.on_close at 0x7f41e4a3ae60>: on_close() takes 1 positional argument but 3 were given\n",
            "ERROR:visdom:on_close() takes 1 positional argument but 3 were given\n"
          ]
        },
        {
          "output_type": "stream",
          "name": "stdout",
          "text": [
            "Exception in user code:\n",
            "------------------------------------------------------------\n"
          ]
        },
        {
          "output_type": "stream",
          "name": "stderr",
          "text": [
            "ERROR:websocket:[Errno 99] Cannot assign requested address - goodbye\n",
            "ERROR:visdom:[Errno 99] Cannot assign requested address\n",
            "ERROR:websocket:error from callback <function Visdom.setup_socket.<locals>.on_close at 0x7f41e4a21b90>: on_close() takes 1 positional argument but 3 were given\n",
            "ERROR:visdom:on_close() takes 1 positional argument but 3 were given\n",
            "ERROR:websocket:[Errno 99] Cannot assign requested address - goodbye\n",
            "ERROR:visdom:[Errno 99] Cannot assign requested address\n",
            "ERROR:websocket:error from callback <function Visdom.setup_socket.<locals>.on_close at 0x7f41e4a3ae60>: on_close() takes 1 positional argument but 3 were given\n",
            "ERROR:visdom:on_close() takes 1 positional argument but 3 were given\n",
            "ERROR:websocket:[Errno 99] Cannot assign requested address - goodbye\n",
            "ERROR:visdom:[Errno 99] Cannot assign requested address\n",
            "ERROR:websocket:error from callback <function Visdom.setup_socket.<locals>.on_close at 0x7f41e4a21b90>: on_close() takes 1 positional argument but 3 were given\n",
            "ERROR:visdom:on_close() takes 1 positional argument but 3 were given\n",
            "ERROR:websocket:[Errno 99] Cannot assign requested address - goodbye\n",
            "ERROR:visdom:[Errno 99] Cannot assign requested address\n",
            "ERROR:websocket:error from callback <function Visdom.setup_socket.<locals>.on_close at 0x7f41e4a3ae60>: on_close() takes 1 positional argument but 3 were given\n",
            "ERROR:visdom:on_close() takes 1 positional argument but 3 were given\n",
            "WARNING:visdom:Visdom python client failed to establish socket to get messages from the server. This feature is optional and can be disabled by initializing Visdom with `use_incoming_socket=False`, which will prevent waiting for this request to timeout.\n"
          ]
        }
      ]
    },
    {
      "cell_type": "code",
      "source": [
        "# 코렙에서 visdom 사용 방법\n",
        "\n",
        "# !npm install -g npm to update!\n",
        "! npm install -g localtunnel\n",
        "get_ipython().system_raw('/usr/local/bin/python -m pip install visdom')\n",
        "get_ipython().system_raw('/usr/local/bin/python -m visdom.server -port 6006 >> visdomlog.txt 2>&1 &')\n",
        "get_ipython().system_raw('lt --port 6006 >> url.txt 2>&1 &')\n",
        "\n",
        "import time\n",
        "time.sleep(5)\n",
        "! cat url.txt\n",
        "\n",
        "import visdom\n",
        "time.sleep(5)\n",
        "vis = visdom.Visdom(port='6006')\n",
        "print(vis)\n",
        "time.sleep(3)\n",
        "vis.text('testing')\n",
        "! cat visdomlog.txt\n",
        "# 아래 출력 메세지의 Your url is 부분의 url 클릭함\n",
        "# 나타난 웹 페이지의 'click countinue' 버튼 클릭함"
      ],
      "metadata": {
        "colab": {
          "base_uri": "https://localhost:8080/"
        },
        "id": "F6pRxGiSMMre",
        "outputId": "a95d1b64-eb34-4235-dbde-1daf439536b7"
      },
      "execution_count": 6,
      "outputs": [
        {
          "output_type": "stream",
          "name": "stderr",
          "text": [
            "ERROR:websocket:[Errno 99] Cannot assign requested address - goodbye\n",
            "ERROR:visdom:[Errno 99] Cannot assign requested address\n",
            "ERROR:websocket:error from callback <function Visdom.setup_socket.<locals>.on_close at 0x7f41e4a21b90>: on_close() takes 1 positional argument but 3 were given\n",
            "ERROR:visdom:on_close() takes 1 positional argument but 3 were given\n",
            "ERROR:websocket:[Errno 99] Cannot assign requested address - goodbye\n",
            "ERROR:visdom:[Errno 99] Cannot assign requested address\n",
            "ERROR:websocket:error from callback <function Visdom.setup_socket.<locals>.on_close at 0x7f41e4a3ae60>: on_close() takes 1 positional argument but 3 were given\n",
            "ERROR:visdom:on_close() takes 1 positional argument but 3 were given\n"
          ]
        },
        {
          "output_type": "stream",
          "name": "stdout",
          "text": []
        },
        {
          "output_type": "stream",
          "name": "stderr",
          "text": [
            "ERROR:websocket:[Errno 99] Cannot assign requested address - goodbye\n",
            "ERROR:visdom:[Errno 99] Cannot assign requested address\n",
            "ERROR:websocket:error from callback <function Visdom.setup_socket.<locals>.on_close at 0x7f41e4a21b90>: on_close() takes 1 positional argument but 3 were given\n",
            "ERROR:visdom:on_close() takes 1 positional argument but 3 were given\n"
          ]
        },
        {
          "output_type": "stream",
          "name": "stdout",
          "text": [
            "\u001b[K\u001b[?25h/tools/node/bin/lt -> /tools/node/lib/node_modules/localtunnel/bin/lt.js\n",
            "+ localtunnel@2.0.2\n",
            "added 22 packages from 22 contributors in 2.183s\n"
          ]
        },
        {
          "output_type": "stream",
          "name": "stderr",
          "text": [
            "ERROR:websocket:[Errno 99] Cannot assign requested address - goodbye\n",
            "ERROR:visdom:[Errno 99] Cannot assign requested address\n",
            "ERROR:websocket:error from callback <function Visdom.setup_socket.<locals>.on_close at 0x7f41e4a3ae60>: on_close() takes 1 positional argument but 3 were given\n",
            "ERROR:visdom:on_close() takes 1 positional argument but 3 were given\n",
            "ERROR:websocket:[Errno 99] Cannot assign requested address - goodbye\n",
            "ERROR:visdom:[Errno 99] Cannot assign requested address\n",
            "ERROR:websocket:error from callback <function Visdom.setup_socket.<locals>.on_close at 0x7f41e4a21b90>: on_close() takes 1 positional argument but 3 were given\n",
            "ERROR:visdom:on_close() takes 1 positional argument but 3 were given\n",
            "ERROR:websocket:[Errno 99] Cannot assign requested address - goodbye\n",
            "ERROR:visdom:[Errno 99] Cannot assign requested address\n",
            "ERROR:websocket:error from callback <function Visdom.setup_socket.<locals>.on_close at 0x7f41e4a3ae60>: on_close() takes 1 positional argument but 3 were given\n",
            "ERROR:visdom:on_close() takes 1 positional argument but 3 were given\n",
            "ERROR:websocket:[Errno 99] Cannot assign requested address - goodbye\n",
            "ERROR:visdom:[Errno 99] Cannot assign requested address\n",
            "ERROR:websocket:error from callback <function Visdom.setup_socket.<locals>.on_close at 0x7f41e4a21b90>: on_close() takes 1 positional argument but 3 were given\n",
            "ERROR:visdom:on_close() takes 1 positional argument but 3 were given\n",
            "ERROR:websocket:[Errno 99] Cannot assign requested address - goodbye\n",
            "ERROR:visdom:[Errno 99] Cannot assign requested address\n",
            "ERROR:websocket:error from callback <function Visdom.setup_socket.<locals>.on_close at 0x7f41e4a3ae60>: on_close() takes 1 positional argument but 3 were given\n",
            "ERROR:visdom:on_close() takes 1 positional argument but 3 were given\n",
            "ERROR:websocket:[Errno 99] Cannot assign requested address - goodbye\n",
            "ERROR:visdom:[Errno 99] Cannot assign requested address\n",
            "ERROR:websocket:error from callback <function Visdom.setup_socket.<locals>.on_close at 0x7f41e4a21b90>: on_close() takes 1 positional argument but 3 were given\n",
            "ERROR:visdom:on_close() takes 1 positional argument but 3 were given\n"
          ]
        },
        {
          "output_type": "stream",
          "name": "stdout",
          "text": [
            "your url is: https://fair-carrots-argue-35-243-252-68.loca.lt\n"
          ]
        },
        {
          "output_type": "stream",
          "name": "stderr",
          "text": [
            "ERROR:websocket:[Errno 99] Cannot assign requested address - goodbye\n",
            "ERROR:visdom:[Errno 99] Cannot assign requested address\n",
            "ERROR:websocket:error from callback <function Visdom.setup_socket.<locals>.on_close at 0x7f41e4a3ae60>: on_close() takes 1 positional argument but 3 were given\n",
            "ERROR:visdom:on_close() takes 1 positional argument but 3 were given\n",
            "ERROR:websocket:[Errno 99] Cannot assign requested address - goodbye\n",
            "ERROR:visdom:[Errno 99] Cannot assign requested address\n",
            "ERROR:websocket:error from callback <function Visdom.setup_socket.<locals>.on_close at 0x7f41e4a21b90>: on_close() takes 1 positional argument but 3 were given\n",
            "ERROR:visdom:on_close() takes 1 positional argument but 3 were given\n",
            "ERROR:websocket:[Errno 99] Cannot assign requested address - goodbye\n",
            "ERROR:visdom:[Errno 99] Cannot assign requested address\n",
            "ERROR:websocket:error from callback <function Visdom.setup_socket.<locals>.on_close at 0x7f41e4a3ae60>: on_close() takes 1 positional argument but 3 were given\n",
            "ERROR:visdom:on_close() takes 1 positional argument but 3 were given\n",
            "WARNING:visdom:Setting up a new session...\n",
            "WARNING:websocket:websocket connected\n"
          ]
        },
        {
          "output_type": "stream",
          "name": "stdout",
          "text": [
            "<visdom.Visdom object at 0x7f41e5429710>\n"
          ]
        },
        {
          "output_type": "stream",
          "name": "stderr",
          "text": [
            "ERROR:websocket:[Errno 99] Cannot assign requested address - goodbye\n",
            "ERROR:visdom:[Errno 99] Cannot assign requested address\n",
            "ERROR:websocket:error from callback <function Visdom.setup_socket.<locals>.on_close at 0x7f41e4a21b90>: on_close() takes 1 positional argument but 3 were given\n",
            "ERROR:visdom:on_close() takes 1 positional argument but 3 were given\n",
            "ERROR:websocket:[Errno 99] Cannot assign requested address - goodbye\n",
            "ERROR:visdom:[Errno 99] Cannot assign requested address\n",
            "ERROR:websocket:error from callback <function Visdom.setup_socket.<locals>.on_close at 0x7f41e4a3ae60>: on_close() takes 1 positional argument but 3 were given\n",
            "ERROR:visdom:on_close() takes 1 positional argument but 3 were given\n"
          ]
        },
        {
          "output_type": "stream",
          "name": "stdout",
          "text": [
            "ERROR:root:initializing\n",
            "INFO:root:Application Started\n",
            "INFO:root:Working directory: /root/.visdom\n",
            "INFO:tornado.access:200 POST /env/main (127.0.0.1) 0.72ms\n",
            "INFO:tornado.access:101 GET /vis_socket (127.0.0.1) 0.52ms\n",
            "INFO:root:Opened visdom socket from ip: 127.0.0.1\n",
            "INFO:tornado.access:200 POST /events (127.0.0.1) 0.68ms\n"
          ]
        }
      ]
    },
    {
      "cell_type": "markdown",
      "metadata": {
        "id": "GLTgJSHXCjxF"
      },
      "source": [
        "## Text Window"
      ]
    },
    {
      "cell_type": "code",
      "execution_count": null,
      "metadata": {
        "id": "tBJskcuTCjxF"
      },
      "outputs": [],
      "source": [
        "textwindow = vis.text(\"Hello Pytorch\")"
      ]
    },
    {
      "cell_type": "markdown",
      "metadata": {
        "id": "T1yw-pknCjxG"
      },
      "source": [
        "## Image Window"
      ]
    },
    {
      "cell_type": "code",
      "execution_count": null,
      "metadata": {
        "collapsed": true,
        "id": "kHjg4e90CjxH"
      },
      "outputs": [],
      "source": [
        "import numpy as np\n",
        "\n",
        "# image() : 이미지 하나 출력\n",
        "image_window = vis.image(\n",
        "    np.random.rand(3,256,256), # 3차원배열 랜덤 생성(256x256 3가지 색)\n",
        "    opts=dict(\n",
        "        title = \"random\",\n",
        "        caption = \"random noise\"\n",
        "    )\n",
        ")"
      ]
    },
    {
      "cell_type": "code",
      "execution_count": null,
      "metadata": {
        "collapsed": true,
        "id": "2OLuDq66CjxI"
      },
      "outputs": [],
      "source": [
        "# images() : 이미지 여러 개 출력\n",
        "images_window = vis.images(\n",
        "    np.random.rand(10,3,64,64), # 4차원배열 랜덤 생성 (64x64 3가지색 10개 이미지)\n",
        "    opts=dict(\n",
        "        title = \"random\",\n",
        "        caption = \"random noise\"\n",
        "    )\n",
        ")"
      ]
    },
    {
      "cell_type": "markdown",
      "metadata": {
        "id": "jlN_TgN2CjxJ"
      },
      "source": [
        "## 2D Scatter Plot"
      ]
    },
    {
      "cell_type": "code",
      "execution_count": null,
      "metadata": {
        "id": "ePHZdiXJCjxK"
      },
      "outputs": [],
      "source": [
        "Y = np.random.rand(100)\n",
        "scatter_window=vis.scatter(\n",
        "            X=np.random.rand(100, 2),\n",
        "            Y=(Y+1.5).astype(int),\n",
        "            opts=dict(\n",
        "                legend=['Apples', 'Pears'],\n",
        "                xtickmin=0,\n",
        "                xtickmax=2,\n",
        "                xtickstep=0.5,\n",
        "                ytickmin=0,\n",
        "                ytickmax=2,\n",
        "                ytickstep=0.5,\n",
        "                markersymbol='cross-thin-open',\n",
        "            ),\n",
        ")"
      ]
    },
    {
      "cell_type": "markdown",
      "metadata": {
        "id": "-q332Y6pCjxL"
      },
      "source": [
        "### Update Scatter Plot"
      ]
    },
    {
      "cell_type": "code",
      "execution_count": null,
      "metadata": {
        "id": "icFip772CjxM",
        "outputId": "3b6afe7f-8d5c-4279-d546-29e1ac981f4d",
        "colab": {
          "base_uri": "https://localhost:8080/",
          "height": 35
        }
      },
      "outputs": [
        {
          "output_type": "execute_result",
          "data": {
            "application/vnd.google.colaboratory.intrinsic+json": {
              "type": "string"
            },
            "text/plain": [
              "'window_3a50be9314e348'"
            ]
          },
          "metadata": {},
          "execution_count": 13
        }
      ],
      "source": [
        "# vis.updateTrace() : deprecated, 버전업되면서 사용 못함\n",
        "# vis.line() 사용\n",
        "# line(Y, X=None, win=None, env=None, opts=None, update=None, name=None)\n",
        "vis.line(\n",
        "    X=np.random.rand(50),\n",
        "    Y=np.random.rand(50),\n",
        "    win=scatter_window,\n",
        "    name='bananas',\n",
        ")"
      ]
    },
    {
      "cell_type": "markdown",
      "metadata": {
        "id": "n3VO-viXCjxN"
      },
      "source": [
        "## 3D Scatter Plot"
      ]
    },
    {
      "cell_type": "code",
      "execution_count": null,
      "metadata": {
        "id": "h-jARu9ECjxN",
        "outputId": "4afe51f8-cb6f-4c12-c8cb-7c4a431d6fa2",
        "colab": {
          "base_uri": "https://localhost:8080/",
          "height": 35
        }
      },
      "outputs": [
        {
          "output_type": "execute_result",
          "data": {
            "application/vnd.google.colaboratory.intrinsic+json": {
              "type": "string"
            },
            "text/plain": [
              "'window_3a50bffea84e72'"
            ]
          },
          "metadata": {},
          "execution_count": 14
        }
      ],
      "source": [
        "vis.scatter(\n",
        "    X=np.random.rand(100, 3),\n",
        "    Y=(Y + 1.5).astype(int),\n",
        "    opts=dict(\n",
        "        legend=['Men', 'Women'],\n",
        "        markersize=5,\n",
        "    )\n",
        ")"
      ]
    },
    {
      "cell_type": "markdown",
      "metadata": {
        "id": "xooVUTzLCjxO"
      },
      "source": [
        "## Bar Plot"
      ]
    },
    {
      "cell_type": "code",
      "execution_count": null,
      "metadata": {
        "id": "y5nswZuACjxO",
        "outputId": "3fed4e34-f33b-42ff-ca41-8e5d5774a05e",
        "colab": {
          "base_uri": "https://localhost:8080/",
          "height": 35
        }
      },
      "outputs": [
        {
          "output_type": "execute_result",
          "data": {
            "application/vnd.google.colaboratory.intrinsic+json": {
              "type": "string"
            },
            "text/plain": [
              "'window_3a50c018f35670'"
            ]
          },
          "metadata": {},
          "execution_count": 15
        }
      ],
      "source": [
        "# 막대그래프\n",
        "vis.bar(X=np.random.rand(20))  # 20개 랜덤값 적용"
      ]
    },
    {
      "cell_type": "markdown",
      "metadata": {
        "id": "tOPh5Q5gCjxO"
      },
      "source": [
        "## Stacked Bar Plot"
      ]
    },
    {
      "cell_type": "code",
      "execution_count": null,
      "metadata": {
        "id": "nCAenoA4CjxP",
        "outputId": "3435585c-18f0-4b45-c8fa-fa4bdc93eee4",
        "colab": {
          "base_uri": "https://localhost:8080/",
          "height": 35
        }
      },
      "outputs": [
        {
          "output_type": "execute_result",
          "data": {
            "application/vnd.google.colaboratory.intrinsic+json": {
              "type": "string"
            },
            "text/plain": [
              "'window_3a50c025fd13dc'"
            ]
          },
          "metadata": {},
          "execution_count": 16
        }
      ],
      "source": [
        "vis.bar(\n",
        "    X=np.abs(np.random.rand(5, 3)),\n",
        "    opts=dict(\n",
        "        stacked=True, # 위로 쌓을 것인지 지정\n",
        "        legend=['Facebook', 'Google', 'Twitter'],\n",
        "        rownames=['2012', '2013', '2014', '2015', '2016']\n",
        "    )\n",
        ")"
      ]
    },
    {
      "cell_type": "markdown",
      "metadata": {
        "id": "TtI90aEpCjxP"
      },
      "source": [
        "## Unstacked Bar Plot"
      ]
    },
    {
      "cell_type": "code",
      "execution_count": null,
      "metadata": {
        "id": "-nmRcqygCjxP",
        "outputId": "aa33a8fc-da22-4b94-ec5f-432d112d0f69",
        "colab": {
          "base_uri": "https://localhost:8080/",
          "height": 35
        }
      },
      "outputs": [
        {
          "output_type": "execute_result",
          "data": {
            "application/vnd.google.colaboratory.intrinsic+json": {
              "type": "string"
            },
            "text/plain": [
              "'window_3a50c03ac16ad8'"
            ]
          },
          "metadata": {},
          "execution_count": 17
        }
      ],
      "source": [
        "vis.bar(\n",
        "    X=np.random.rand(10, 3),\n",
        "    opts=dict(\n",
        "        stacked=False,  # 위로 쌓지 않음\n",
        "        legend=['The Netherlands', 'France', 'United States']\n",
        "    )\n",
        ")"
      ]
    },
    {
      "cell_type": "markdown",
      "metadata": {
        "id": "Afx8tObPCjxQ"
      },
      "source": [
        "## Contour Map & Surface"
      ]
    },
    {
      "cell_type": "code",
      "execution_count": null,
      "metadata": {
        "id": "_EMM91bnCjxQ",
        "colab": {
          "base_uri": "https://localhost:8080/",
          "height": 35
        },
        "outputId": "fed8982c-dcd5-48cb-a03d-fdafc170d5f7"
      },
      "outputs": [
        {
          "output_type": "execute_result",
          "data": {
            "application/vnd.google.colaboratory.intrinsic+json": {
              "type": "string"
            },
            "text/plain": [
              "'window_3a50c096d7792a'"
            ]
          },
          "metadata": {},
          "execution_count": 18
        }
      ],
      "source": [
        "x = np.tile(np.arange(1, 101), (100, 1))\n",
        "y = x.transpose()\n",
        "X = np.exp((((x - 50) ** 2) + ((y - 50) ** 2)) / -(20.0 ** 2))\n",
        "\n",
        "# contour\n",
        "vis.contour(X=X, opts=dict(colormap='Viridis'))\n",
        "\n",
        "# surface\n",
        "vis.surf(X=X, opts=dict(colormap='Hot'))"
      ]
    },
    {
      "cell_type": "markdown",
      "metadata": {
        "id": "YzC_ArKxCjxQ"
      },
      "source": [
        "## Line Plot"
      ]
    },
    {
      "cell_type": "code",
      "execution_count": null,
      "metadata": {
        "id": "CZvoeQpFCjxR",
        "outputId": "202a242b-9e6a-479c-8d8b-b47247ccdb8c",
        "colab": {
          "base_uri": "https://localhost:8080/",
          "height": 35
        }
      },
      "outputs": [
        {
          "output_type": "execute_result",
          "data": {
            "application/vnd.google.colaboratory.intrinsic+json": {
              "type": "string"
            },
            "text/plain": [
              "'window_3a50c0af2bd97c'"
            ]
          },
          "metadata": {},
          "execution_count": 19
        }
      ],
      "source": [
        "vis.line(Y=np.random.rand(10))"
      ]
    },
    {
      "cell_type": "markdown",
      "metadata": {
        "id": "sLB6QL4pCjxR"
      },
      "source": [
        "## Update Line Plot"
      ]
    },
    {
      "cell_type": "code",
      "execution_count": null,
      "metadata": {
        "id": "8Tw_juJuCjxR",
        "outputId": "ed577c9c-3733-4e92-f29a-63287558612e",
        "colab": {
          "base_uri": "https://localhost:8080/",
          "height": 35
        }
      },
      "outputs": [
        {
          "output_type": "execute_result",
          "data": {
            "application/vnd.google.colaboratory.intrinsic+json": {
              "type": "string"
            },
            "text/plain": [
              "'window_3a50c0cba675d6'"
            ]
          },
          "metadata": {},
          "execution_count": 20
        }
      ],
      "source": [
        "# line updates\n",
        "win = vis.line(\n",
        "    X=np.column_stack((np.arange(0, 10), np.arange(0, 10))),\n",
        "    Y=np.column_stack((np.linspace(5, 10, 10), np.linspace(5, 10, 10) + 5)),\n",
        ")\n",
        "\n",
        "vis.line(\n",
        "    X=np.column_stack((np.arange(10, 20), np.arange(10, 20))),\n",
        "    Y=np.column_stack((np.linspace(5, 10, 10), np.linspace(5, 10, 10) + 5)),\n",
        "    win=win,\n",
        "    update='append'\n",
        ")"
      ]
    },
    {
      "cell_type": "markdown",
      "metadata": {
        "id": "2oALJ-PwCjxR"
      },
      "source": [
        "## Pie Chart"
      ]
    },
    {
      "cell_type": "code",
      "execution_count": null,
      "metadata": {
        "id": "PCd8ZDdSCjxS",
        "outputId": "da05be83-2a1d-44fc-c57a-749f70fda350",
        "colab": {
          "base_uri": "https://localhost:8080/",
          "height": 35
        }
      },
      "outputs": [
        {
          "output_type": "execute_result",
          "data": {
            "application/vnd.google.colaboratory.intrinsic+json": {
              "type": "string"
            },
            "text/plain": [
              "'window_3a50c0ddbf5774'"
            ]
          },
          "metadata": {},
          "execution_count": 21
        }
      ],
      "source": [
        "# pie chart\n",
        "X = np.asarray([19, 26, 55])\n",
        "vis.pie(\n",
        "    X=X,\n",
        "    opts=dict(legend=['Residential', 'Non-Residential', 'Utility'])\n",
        ")"
      ]
    },
    {
      "cell_type": "markdown",
      "metadata": {
        "id": "BYFDM3xUCjxS"
      },
      "source": [
        "## With PyTorch Tensors"
      ]
    },
    {
      "cell_type": "code",
      "execution_count": null,
      "metadata": {
        "collapsed": true,
        "id": "VykgIDk4CjxS"
      },
      "outputs": [],
      "source": [
        "# PyTorch tensor\n",
        "try:\n",
        "    import torch\n",
        "    vis.line(Y=torch.Tensor([[0., 0.], [1., 1.]]))\n",
        "except ImportError:\n",
        "    print('Skipped PyTorch example')"
      ]
    }
  ],
  "metadata": {
    "kernelspec": {
      "display_name": "Python 3",
      "language": "python",
      "name": "python3"
    },
    "language_info": {
      "codemirror_mode": {
        "name": "ipython",
        "version": 3
      },
      "file_extension": ".py",
      "mimetype": "text/x-python",
      "name": "python",
      "nbconvert_exporter": "python",
      "pygments_lexer": "ipython3",
      "version": "3.6.2"
    },
    "colab": {
      "provenance": [],
      "collapsed_sections": [],
      "include_colab_link": true
    }
  },
  "nbformat": 4,
  "nbformat_minor": 0
}