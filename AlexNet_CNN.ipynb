{
  "nbformat": 4,
  "nbformat_minor": 0,
  "metadata": {
    "colab": {
      "provenance": [],
      "gpuType": "T4",
      "authorship_tag": "ABX9TyM27syaw5UD2ZFTIOaZvNQR",
      "include_colab_link": true
    },
    "kernelspec": {
      "name": "python3",
      "display_name": "Python 3"
    },
    "language_info": {
      "name": "python"
    },
    "accelerator": "GPU"
  },
  "cells": [
    {
      "cell_type": "markdown",
      "metadata": {
        "id": "view-in-github",
        "colab_type": "text"
      },
      "source": [
        "<a href=\"https://colab.research.google.com/github/AugustvonMackensen/AI_colab/blob/main/AlexNet_CNN.ipynb\" target=\"_parent\"><img src=\"https://colab.research.google.com/assets/colab-badge.svg\" alt=\"Open In Colab\"/></a>"
      ]
    },
    {
      "cell_type": "markdown",
      "source": [
        "[1] import the packages"
      ],
      "metadata": {
        "id": "nRYuFS7AteQn"
      }
    },
    {
      "cell_type": "code",
      "execution_count": 1,
      "metadata": {
        "id": "EXUniu2f1Q1_"
      },
      "outputs": [],
      "source": [
        "from tensorflow import keras\n",
        "from keras.models import Sequential, Model\n",
        "from keras.layers import Dense, Flatten, Conv2D, BatchNormalization, MaxPool2D, Dropout\n",
        "from keras.layers.experimental.preprocessing import Resizing\n",
        "from keras.datasets import cifar10\n",
        "from keras.utils import to_categorical # package for one-hot encoding conversion"
      ]
    },
    {
      "cell_type": "markdown",
      "source": [
        "[2] Pre-processing and preparing the data"
      ],
      "metadata": {
        "id": "nTCViZm5txK1"
      }
    },
    {
      "cell_type": "code",
      "source": [
        "(x_train, y_train), (x_test, y_test) = keras.datasets.cifar10.load_data()\n",
        "\n",
        "x_train = x_train.astype('float32')\n",
        "x_test = x_test.astype('float32')\n",
        "\n",
        "x_train = x_train / 255.0\n",
        "x_test = x_test / 255.0\n",
        "\n",
        "y_train = to_categorical(y_train, 10)\n",
        "y_test = to_categorical(y_test, 10)"
      ],
      "metadata": {
        "colab": {
          "base_uri": "https://localhost:8080/"
        },
        "id": "igXp8TVyvbBS",
        "outputId": "8a5b2a39-367f-4c09-e04c-8621d49b28f0"
      },
      "execution_count": 2,
      "outputs": [
        {
          "output_type": "stream",
          "name": "stdout",
          "text": [
            "Downloading data from https://www.cs.toronto.edu/~kriz/cifar-10-python.tar.gz\n",
            "170498071/170498071 [==============================] - 4s 0us/step\n"
          ]
        }
      ]
    },
    {
      "cell_type": "markdown",
      "source": [
        "[3] Define the model"
      ],
      "metadata": {
        "id": "oftOjvJ5wYTS"
      }
    },
    {
      "cell_type": "code",
      "source": [
        "model = Sequential([\n",
        "    # Resizing pre-processing is done here\n",
        "    Resizing(227, 227, interpolation='bilinear', input_shape=x_train.shape[1:]),\n",
        "\n",
        "    # 1st Layer\n",
        "    Conv2D(filters=96, kernel_size=(11,11), strides=(4,4), activation='relu', input_shape=(277, 277)),\n",
        "    BatchNormalization(),\n",
        "    MaxPool2D(pool_size=(3,3), strides=(2,2)),\n",
        "\n",
        "    # 2nd Layer\n",
        "    Conv2D(filters=256, kernel_size=(5,5), strides=(2,2), activation='relu', padding='same'),\n",
        "    BatchNormalization(),\n",
        "    MaxPool2D(pool_size=(3,3), strides=(2,2)),\n",
        "\n",
        "    #3rd Layer\n",
        "    Conv2D(filters=384, kernel_size=(3,3), strides=(1,1), activation='relu', padding='same'),\n",
        "    BatchNormalization(),\n",
        "    Conv2D(filters=384, kernel_size=(3,3), strides=(1,1), activation='relu', padding='same'),\n",
        "    BatchNormalization(),\n",
        "    Conv2D(filters=256, kernel_size=(3,3), strides=(1,1), activation='relu', padding='same'),\n",
        "    BatchNormalization(),\n",
        "    MaxPool2D(pool_size=(3,3), strides=(2,2)),\n",
        "\n",
        "    Flatten(),\n",
        "    Dense(4096, activation='relu'),\n",
        "    Dropout(0.5),\n",
        "    Dense(4096, activation='relu'),\n",
        "    Dropout(0.5),\n",
        "    Dense(10, activation='softmax')\n",
        "])"
      ],
      "metadata": {
        "id": "SuI_JZWtwa15"
      },
      "execution_count": 3,
      "outputs": []
    },
    {
      "cell_type": "markdown",
      "source": [
        "[4] Fit"
      ],
      "metadata": {
        "id": "8a4jmYHV0XmN"
      }
    },
    {
      "cell_type": "code",
      "source": [
        "model.compile(optimizer='adam', loss='categorical_crossentropy', metrics=['accuracy'])\n",
        "model.fit(x_train, y_train, epochs=10, verbose=1) # verbose : print the log"
      ],
      "metadata": {
        "colab": {
          "base_uri": "https://localhost:8080/"
        },
        "id": "S0nJJpxP0aMt",
        "outputId": "e069ca2a-0880-4563-fc5e-21c4007ada69"
      },
      "execution_count": 4,
      "outputs": [
        {
          "output_type": "stream",
          "name": "stdout",
          "text": [
            "Epoch 1/10\n",
            "1563/1563 [==============================] - 61s 30ms/step - loss: 1.8137 - accuracy: 0.3767\n",
            "Epoch 2/10\n",
            "1563/1563 [==============================] - 47s 30ms/step - loss: 1.3295 - accuracy: 0.5305\n",
            "Epoch 3/10\n",
            "1563/1563 [==============================] - 46s 30ms/step - loss: 1.0638 - accuracy: 0.6310\n",
            "Epoch 4/10\n",
            "1563/1563 [==============================] - 47s 30ms/step - loss: 0.8862 - accuracy: 0.6974\n",
            "Epoch 5/10\n",
            "1563/1563 [==============================] - 46s 29ms/step - loss: 0.7516 - accuracy: 0.7454\n",
            "Epoch 6/10\n",
            "1563/1563 [==============================] - 46s 30ms/step - loss: 0.6454 - accuracy: 0.7793\n",
            "Epoch 7/10\n",
            "1563/1563 [==============================] - 46s 29ms/step - loss: 0.5561 - accuracy: 0.8124\n",
            "Epoch 8/10\n",
            "1563/1563 [==============================] - 46s 29ms/step - loss: 0.4598 - accuracy: 0.8463\n",
            "Epoch 9/10\n",
            "1563/1563 [==============================] - 46s 29ms/step - loss: 0.3977 - accuracy: 0.8653\n",
            "Epoch 10/10\n",
            "1563/1563 [==============================] - 46s 29ms/step - loss: 0.8347 - accuracy: 0.7599\n"
          ]
        },
        {
          "output_type": "execute_result",
          "data": {
            "text/plain": [
              "<keras.src.callbacks.History at 0x788fabd19720>"
            ]
          },
          "metadata": {},
          "execution_count": 4
        }
      ]
    },
    {
      "cell_type": "markdown",
      "source": [
        "[5] Check the accuracy"
      ],
      "metadata": {
        "id": "fIj_7o5E4KJp"
      }
    },
    {
      "cell_type": "code",
      "source": [
        "score = model.evaluate(x_test, y_test)\n",
        "print('Accuracy rate : ', score[1])"
      ],
      "metadata": {
        "colab": {
          "base_uri": "https://localhost:8080/"
        },
        "id": "UcAnnsWK4MTS",
        "outputId": "4675fc04-c4c4-4eda-84d9-1248d16a346b"
      },
      "execution_count": 5,
      "outputs": [
        {
          "output_type": "stream",
          "name": "stdout",
          "text": [
            "313/313 [==============================] - 3s 10ms/step - loss: 0.7412 - accuracy: 0.7676\n",
            "Accuracy rate :  0.7675999999046326\n"
          ]
        }
      ]
    }
  ]
}