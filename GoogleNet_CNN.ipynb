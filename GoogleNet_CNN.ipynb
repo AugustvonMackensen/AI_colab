{
  "nbformat": 4,
  "nbformat_minor": 0,
  "metadata": {
    "colab": {
      "provenance": [],
      "gpuType": "T4",
      "authorship_tag": "ABX9TyMec6zgegv1mGvLGc6dRS3g",
      "include_colab_link": true
    },
    "kernelspec": {
      "name": "python3",
      "display_name": "Python 3"
    },
    "language_info": {
      "name": "python"
    },
    "accelerator": "GPU"
  },
  "cells": [
    {
      "cell_type": "markdown",
      "metadata": {
        "id": "view-in-github",
        "colab_type": "text"
      },
      "source": [
        "<a href=\"https://colab.research.google.com/github/AugustvonMackensen/AI_colab/blob/main/GoogleNet_CNN.ipynb\" target=\"_parent\"><img src=\"https://colab.research.google.com/assets/colab-badge.svg\" alt=\"Open In Colab\"/></a>"
      ]
    },
    {
      "cell_type": "markdown",
      "source": [
        "[1] import the packages"
      ],
      "metadata": {
        "id": "XZPk70LfKX8t"
      }
    },
    {
      "cell_type": "code",
      "execution_count": 1,
      "metadata": {
        "id": "iuleyiWmJ_fI"
      },
      "outputs": [],
      "source": [
        "from tensorflow import keras\n",
        "from keras.models import Model\n",
        "from keras.layers import Conv2D, MaxPool2D, Dense, concatenate,GlobalAveragePooling2D, AveragePooling2D, Flatten, Input, Dropout\n",
        "from keras.datasets import cifar10\n",
        "from keras.utils import to_categorical\n",
        "from keras.optimizers import SGD\n",
        "from keras.callbacks import LearningRateScheduler\n",
        "import cv2\n",
        "import numpy as np\n",
        "import math"
      ]
    },
    {
      "cell_type": "markdown",
      "source": [
        "[2] Prepare the data and preprocessing"
      ],
      "metadata": {
        "id": "jraJdNY4LWye"
      }
    },
    {
      "cell_type": "code",
      "source": [
        "def load_cifar10_data(img_rows, img_cols):\n",
        "  (x_train, y_train), (x_test, y_test) = cifar10.load_data()\n",
        "  x_train = x_train[0:2000, :, :, :]\n",
        "  y_train = y_train[0:2000]\n",
        "\n",
        "  x_test = x_test[0:500, :, :, :]\n",
        "  y_test = y_test[0:500]\n",
        "\n",
        "  x_train = np.array([cv2.resize(img, (img_rows, img_cols)) for img in x_train[:, :, :, :]])\n",
        "  x_test = np.array([cv2.resize(img, (img_rows, img_cols)) for img in x_test[:, :, :, :]])\n",
        "\n",
        "  y_train = to_categorical(y_train, 10)\n",
        "  y_test = to_categorical(y_test, 10)\n",
        "\n",
        "  x_train = x_train.astype('float32')\n",
        "  x_test = x_test.astype('float32')\n",
        "  x_train = x_train / 255.0\n",
        "  x_test = x_test / 255.0\n",
        "  return x_train, y_train, x_test, y_test\n",
        "\n",
        "x_train, y_train, x_test, y_test = load_cifar10_data(224, 224)\n",
        "img_input = Input(shape=(224,224,3))"
      ],
      "metadata": {
        "id": "CF9dLRH3LeqM",
        "colab": {
          "base_uri": "https://localhost:8080/"
        },
        "outputId": "36e9d066-5006-4fe6-cc1a-1897b5a4b537"
      },
      "execution_count": 2,
      "outputs": [
        {
          "output_type": "stream",
          "name": "stdout",
          "text": [
            "Downloading data from https://www.cs.toronto.edu/~kriz/cifar-10-python.tar.gz\n",
            "170498071/170498071 [==============================] - 4s 0us/step\n"
          ]
        }
      ]
    },
    {
      "cell_type": "markdown",
      "source": [
        "[3] define Inception module\n",
        "\n",
        "인셉션 모듈 : 다양한 필터의 크기 사용해 입력 데이터를 처리하고 여러 개의 출력을 연결(concatenate) 한 다음 레이어로 전달"
      ],
      "metadata": {
        "id": "tPMxsc7lq-Lb"
      }
    },
    {
      "cell_type": "code",
      "source": [
        "def inception_module(x, filters_1x1, filters_3x3_reduce, filters_3x3, filters_5x5_reduce, filters_5x5, filters_pool_proj,\n",
        "                     name=None, kernel_init='glorot_uniform', bias_init='zeros'):\n",
        "\n",
        "  conv_1x1 = Conv2D(filters_1x1, (1,1), padding='same', activation='relu', kernel_initializer=kernel_init, bias_initializer=bias_init)(x)\n",
        "  conv_3x3_reduce = Conv2D(filters_3x3_reduce, (1,1), padding='same', activation='relu', kernel_initializer=kernel_init,\n",
        "                           bias_initializer=bias_init)(x)\n",
        "  conv_3x3 = Conv2D(filters_3x3, (3,3), padding='same', activation='relu', kernel_initializer=kernel_init, bias_initializer=bias_init)(conv_3x3_reduce)\n",
        "  conv_5x5_reduce = Conv2D(filters_5x5_reduce, (1,1), padding='same', activation='relu', kernel_initializer=kernel_init, bias_initializer=bias_init)(x)\n",
        "  conv_5x5 = Conv2D(filters_5x5, (5,5), padding='same', activation='relu', kernel_initializer=kernel_init, bias_initializer=bias_init)(conv_5x5_reduce)\n",
        "  max_pool = MaxPool2D((3,3), strides=(1,1), padding='same')(x)\n",
        "  pool_proj = Conv2D(filters_pool_proj, (1,1), padding='same', activation='relu', kernel_initializer=kernel_init, bias_initializer=bias_init)(max_pool)\n",
        "  output = concatenate([conv_1x1, conv_3x3, conv_5x5, pool_proj], axis=3, name=name)\n",
        "  return output"
      ],
      "metadata": {
        "id": "rfHRiOv8rMrE"
      },
      "execution_count": 3,
      "outputs": []
    },
    {
      "cell_type": "markdown",
      "source": [
        "[4] define decay"
      ],
      "metadata": {
        "id": "4-kGFcNotCAy"
      }
    },
    {
      "cell_type": "code",
      "source": [
        "def decay(epoch, steps=100):\n",
        "  initial_lrate=0.01\n",
        "  drop = 0.96\n",
        "  epoch_drop = 8\n",
        "  lrate = initial_lrate * math.pow(drop, math.floor((1+epoch)/epoch_drop))\n",
        "  return lrate"
      ],
      "metadata": {
        "id": "-noVPxjFtSWK"
      },
      "execution_count": 4,
      "outputs": []
    },
    {
      "cell_type": "markdown",
      "source": [
        "[5] Initialize weight and biases"
      ],
      "metadata": {
        "id": "QmHkNT8xtkC6"
      }
    },
    {
      "cell_type": "code",
      "source": [
        "kernel_init = keras.initializers.glorot_uniform()\n",
        "bias_init = keras.initializers.Constant(value=0.2)\n",
        "input_layer = Input(shape=(224,224,3))"
      ],
      "metadata": {
        "id": "4xvXmLdgtnkD"
      },
      "execution_count": 5,
      "outputs": []
    },
    {
      "cell_type": "markdown",
      "source": [
        "[6] Define Model"
      ],
      "metadata": {
        "id": "_nNtOLUqt1l7"
      }
    },
    {
      "cell_type": "code",
      "source": [
        "# Start Part\n",
        "x = Conv2D(64, (7,7), padding='same', strides=(2,2), activation='relu', name='conv_1_7x7/2', kernel_initializer=kernel_init,\n",
        "           bias_initializer=bias_init)(input_layer)\n",
        "x = MaxPool2D((3,3), strides=(2,2), name='max_pool_1_3x3/2', padding='same')(x)\n",
        "\n",
        "x = Conv2D(192, (3,3), padding='same', strides=(1,1), activation='relu', name='conv_2_3x3/1', kernel_initializer=kernel_init,\n",
        "           bias_initializer=bias_init)(x)\n",
        "x = MaxPool2D((3,3), strides=(2,2), name='max_pool_2_3x3/2', padding='same')(x)\n",
        "\n",
        "# Middle Part\n",
        "x = inception_module(x, 64, 96, 128, 16, 32, 32, name='inception_3a', kernel_init=kernel_init, bias_init=bias_init)\n",
        "x = inception_module(x, 128, 128, 192, 32, 96, 64, name='inception_3b', kernel_init=kernel_init, bias_init=bias_init)\n",
        "x = MaxPool2D((3,3), strides=(2,2), name='max_pool_3_3x3/2')(x)\n",
        "\n",
        "x = inception_module(x, 192, 96, 208, 16, 48, 64, name='inception_4a')\n",
        "\n",
        "# 1st Auxiliary Classifier\n",
        "x1 = AveragePooling2D((5,5), strides=3, name='avg_pool_aux_1')(x)\n",
        "x1 = Conv2D(128, (1,1), padding='same', activation='relu', name='conv_aux_1')(x1)\n",
        "x1 = Flatten()(x1)\n",
        "x1 = Dense(1024, activation='relu', name='dense_aux_1')(x1)\n",
        "x1 = Dense(10, activation='softmax', name='aux_output_1')(x1)\n",
        "\n",
        "x = inception_module(x, 160, 112, 224, 24, 64, 64, name='inception_4b', kernel_init=kernel_init, bias_init=bias_init)\n",
        "x = inception_module(x, 128, 128, 256, 24, 64, 64, name='inception_4c', kernel_init=kernel_init, bias_init=bias_init)\n",
        "x = inception_module(x, 112, 144, 288, 32, 64, 64, name='inception_4d', kernel_init=kernel_init, bias_init=bias_init)\n",
        "\n",
        "# 2nd Auxiliary Classifier\n",
        "x2 = AveragePooling2D((5,5), strides=3, name='avg_pool_aux_2')(x)\n",
        "x2 = Conv2D(128, (1,1), padding='same', activation='relu', name='conv_aux_2')(x2)\n",
        "x2 = Flatten()(x2)\n",
        "x2 = Dense(1024, activation='relu', name='dense_aux_2')(x2)\n",
        "x2 = Dense(10, activation='softmax', name='aux_output_2')(x2)\n",
        "\n",
        "x = inception_module(x, 256, 160, 320, 32, 128, 128, name='inception_4e', kernel_init=kernel_init, bias_init=bias_init)\n",
        "x = MaxPool2D((3,3), strides=(2,2), name='max_pool_4_3x3/2')(x)\n",
        "\n",
        "x = inception_module(x, 256, 160, 320, 32, 128, 128, name='inception_5a', kernel_init=kernel_init, bias_init=bias_init)\n",
        "x = inception_module(x, 384, 192, 384, 48, 128, 128, name='inception_5b', kernel_init=kernel_init, bias_init=bias_init)\n",
        "\n",
        "# End Part\n",
        "x = GlobalAveragePooling2D(name='global_avg_pool_5_3x3/1')(x)\n",
        "x = Dropout(0.4)(x)\n",
        "x = Dense(10, activation='softmax', name='output')(x)\n",
        "\n",
        "# Save the model\n",
        "model = Model(input_layer, [x, x1, x2], name='GoogLeNet')"
      ],
      "metadata": {
        "colab": {
          "base_uri": "https://localhost:8080/"
        },
        "id": "Ze4uMw_at4eK",
        "outputId": "aacaa410-9f34-4dde-95e7-a0a58be847ee"
      },
      "execution_count": 6,
      "outputs": [
        {
          "output_type": "stream",
          "name": "stderr",
          "text": [
            "/usr/local/lib/python3.10/dist-packages/keras/src/initializers/initializers.py:120: UserWarning: The initializer GlorotUniform is unseeded and being called multiple times, which will return identical values each time (even if the initializer is unseeded). Please update your code to provide a seed to the initializer, or avoid using the same initializer instance more than once.\n",
            "  warnings.warn(\n"
          ]
        }
      ]
    },
    {
      "cell_type": "markdown",
      "source": [
        "[7] Fit"
      ],
      "metadata": {
        "id": "6wQeahm_wIRr"
      }
    },
    {
      "cell_type": "code",
      "source": [
        "sgd = SGD(learning_rate=0.01, momentum=0.9, nesterov=False) # SGD : Stochastic Gradient Descent. lr is deprecated\n",
        "lr_sc = LearningRateScheduler(decay, verbose=1)\n",
        "model.compile(loss=['categorical_crossentropy', 'categorical_crossentropy', 'categorical_crossentropy'], loss_weights=[1, 0.3, 0.3], optimizer=sgd, metrics=['accuracy'])\n",
        "model.fit(x_train, [y_train, y_train, y_train], validation_data=(x_test, [y_test, y_test, y_test]), epochs=10, callbacks=[lr_sc])"
      ],
      "metadata": {
        "colab": {
          "base_uri": "https://localhost:8080/"
        },
        "id": "qs1GfVBk0ikN",
        "outputId": "362db042-d273-4732-95fe-0891c97bbd1b"
      },
      "execution_count": 7,
      "outputs": [
        {
          "output_type": "stream",
          "name": "stdout",
          "text": [
            "\n",
            "Epoch 1: LearningRateScheduler setting learning rate to 0.01.\n",
            "Epoch 1/10\n",
            "63/63 [==============================] - 35s 211ms/step - loss: 3.8529 - output_loss: 2.4603 - aux_output_1_loss: 2.3104 - aux_output_2_loss: 2.3314 - output_accuracy: 0.1080 - aux_output_1_accuracy: 0.1130 - aux_output_2_accuracy: 0.0965 - val_loss: 3.7333 - val_output_loss: 2.3477 - val_aux_output_1_loss: 2.3066 - val_aux_output_2_loss: 2.3118 - val_output_accuracy: 0.1080 - val_aux_output_1_accuracy: 0.0800 - val_aux_output_2_accuracy: 0.1080 - lr: 0.0100\n",
            "\n",
            "Epoch 2: LearningRateScheduler setting learning rate to 0.01.\n",
            "Epoch 2/10\n",
            "63/63 [==============================] - 8s 122ms/step - loss: 3.7411 - output_loss: 2.3613 - aux_output_1_loss: 2.2903 - aux_output_2_loss: 2.3092 - output_accuracy: 0.0895 - aux_output_1_accuracy: 0.1285 - aux_output_2_accuracy: 0.1040 - val_loss: 3.6763 - val_output_loss: 2.3142 - val_aux_output_1_loss: 2.2456 - val_aux_output_2_loss: 2.2946 - val_output_accuracy: 0.1120 - val_aux_output_1_accuracy: 0.1680 - val_aux_output_2_accuracy: 0.1460 - lr: 0.0100\n",
            "\n",
            "Epoch 3: LearningRateScheduler setting learning rate to 0.01.\n",
            "Epoch 3/10\n",
            "63/63 [==============================] - 8s 133ms/step - loss: 3.6082 - output_loss: 2.2840 - aux_output_1_loss: 2.1795 - aux_output_2_loss: 2.2345 - output_accuracy: 0.1345 - aux_output_1_accuracy: 0.1785 - aux_output_2_accuracy: 0.1585 - val_loss: 3.5136 - val_output_loss: 2.2235 - val_aux_output_1_loss: 2.1282 - val_aux_output_2_loss: 2.1723 - val_output_accuracy: 0.1360 - val_aux_output_1_accuracy: 0.1640 - val_aux_output_2_accuracy: 0.1720 - lr: 0.0100\n",
            "\n",
            "Epoch 4: LearningRateScheduler setting learning rate to 0.01.\n",
            "Epoch 4/10\n",
            "63/63 [==============================] - 8s 130ms/step - loss: 3.4480 - output_loss: 2.1888 - aux_output_1_loss: 2.0833 - aux_output_2_loss: 2.1141 - output_accuracy: 0.1655 - aux_output_1_accuracy: 0.2125 - aux_output_2_accuracy: 0.1950 - val_loss: 3.2933 - val_output_loss: 2.0759 - val_aux_output_1_loss: 2.0222 - val_aux_output_2_loss: 2.0358 - val_output_accuracy: 0.2220 - val_aux_output_1_accuracy: 0.2680 - val_aux_output_2_accuracy: 0.2580 - lr: 0.0100\n",
            "\n",
            "Epoch 5: LearningRateScheduler setting learning rate to 0.01.\n",
            "Epoch 5/10\n",
            "63/63 [==============================] - 8s 130ms/step - loss: 3.3520 - output_loss: 2.1263 - aux_output_1_loss: 2.0290 - aux_output_2_loss: 2.0569 - output_accuracy: 0.1765 - aux_output_1_accuracy: 0.2550 - aux_output_2_accuracy: 0.2275 - val_loss: 3.3124 - val_output_loss: 2.0991 - val_aux_output_1_loss: 2.0053 - val_aux_output_2_loss: 2.0388 - val_output_accuracy: 0.1920 - val_aux_output_1_accuracy: 0.2280 - val_aux_output_2_accuracy: 0.2520 - lr: 0.0100\n",
            "\n",
            "Epoch 6: LearningRateScheduler setting learning rate to 0.01.\n",
            "Epoch 6/10\n",
            "63/63 [==============================] - 8s 128ms/step - loss: 3.3190 - output_loss: 2.1112 - aux_output_1_loss: 1.9999 - aux_output_2_loss: 2.0262 - output_accuracy: 0.2085 - aux_output_1_accuracy: 0.2605 - aux_output_2_accuracy: 0.2505 - val_loss: 3.3623 - val_output_loss: 2.1235 - val_aux_output_1_loss: 2.0752 - val_aux_output_2_loss: 2.0544 - val_output_accuracy: 0.2140 - val_aux_output_1_accuracy: 0.1840 - val_aux_output_2_accuracy: 0.2060 - lr: 0.0100\n",
            "\n",
            "Epoch 7: LearningRateScheduler setting learning rate to 0.01.\n",
            "Epoch 7/10\n",
            "63/63 [==============================] - 8s 122ms/step - loss: 3.2855 - output_loss: 2.0863 - aux_output_1_loss: 1.9876 - aux_output_2_loss: 2.0096 - output_accuracy: 0.2035 - aux_output_1_accuracy: 0.2475 - aux_output_2_accuracy: 0.2490 - val_loss: 3.2353 - val_output_loss: 2.0307 - val_aux_output_1_loss: 1.9713 - val_aux_output_2_loss: 2.0438 - val_output_accuracy: 0.2640 - val_aux_output_1_accuracy: 0.2660 - val_aux_output_2_accuracy: 0.2400 - lr: 0.0100\n",
            "\n",
            "Epoch 8: LearningRateScheduler setting learning rate to 0.0096.\n",
            "Epoch 8/10\n",
            "63/63 [==============================] - 8s 119ms/step - loss: 3.2359 - output_loss: 2.0618 - aux_output_1_loss: 1.9441 - aux_output_2_loss: 1.9693 - output_accuracy: 0.2230 - aux_output_1_accuracy: 0.2805 - aux_output_2_accuracy: 0.2605 - val_loss: 3.3121 - val_output_loss: 2.0674 - val_aux_output_1_loss: 2.0674 - val_aux_output_2_loss: 2.0815 - val_output_accuracy: 0.1920 - val_aux_output_1_accuracy: 0.2320 - val_aux_output_2_accuracy: 0.2200 - lr: 0.0096\n",
            "\n",
            "Epoch 9: LearningRateScheduler setting learning rate to 0.0096.\n",
            "Epoch 9/10\n",
            "63/63 [==============================] - 8s 130ms/step - loss: 3.1809 - output_loss: 2.0220 - aux_output_1_loss: 1.9220 - aux_output_2_loss: 1.9411 - output_accuracy: 0.2520 - aux_output_1_accuracy: 0.2785 - aux_output_2_accuracy: 0.2730 - val_loss: 3.3566 - val_output_loss: 2.0915 - val_aux_output_1_loss: 2.1258 - val_aux_output_2_loss: 2.0913 - val_output_accuracy: 0.2080 - val_aux_output_1_accuracy: 0.2300 - val_aux_output_2_accuracy: 0.2440 - lr: 0.0096\n",
            "\n",
            "Epoch 10: LearningRateScheduler setting learning rate to 0.0096.\n",
            "Epoch 10/10\n",
            "63/63 [==============================] - 7s 117ms/step - loss: 3.1351 - output_loss: 1.9863 - aux_output_1_loss: 1.8981 - aux_output_2_loss: 1.9311 - output_accuracy: 0.2540 - aux_output_1_accuracy: 0.2875 - aux_output_2_accuracy: 0.2900 - val_loss: 3.0142 - val_output_loss: 1.9133 - val_aux_output_1_loss: 1.8245 - val_aux_output_2_loss: 1.8450 - val_output_accuracy: 0.2880 - val_aux_output_1_accuracy: 0.3340 - val_aux_output_2_accuracy: 0.3200 - lr: 0.0096\n"
          ]
        },
        {
          "output_type": "execute_result",
          "data": {
            "text/plain": [
              "<keras.src.callbacks.History at 0x7c9ed1fcfa30>"
            ]
          },
          "metadata": {},
          "execution_count": 7
        }
      ]
    },
    {
      "cell_type": "markdown",
      "source": [
        "[8] Check the accuracy rate"
      ],
      "metadata": {
        "id": "uitEij67n1-9"
      }
    },
    {
      "cell_type": "code",
      "source": [
        "score = model.evaluate(x_test, y_test)\n",
        "print('Test accuracy rate : ', score[1])"
      ],
      "metadata": {
        "colab": {
          "base_uri": "https://localhost:8080/"
        },
        "id": "o29UkDCFn7fr",
        "outputId": "5cae55a7-a254-4b2a-f8cd-ac5079c8b3de"
      },
      "execution_count": 8,
      "outputs": [
        {
          "output_type": "stream",
          "name": "stdout",
          "text": [
            "16/16 [==============================] - 2s 48ms/step - loss: 3.0142 - output_loss: 1.9133 - aux_output_1_loss: 1.8245 - aux_output_2_loss: 1.8450 - output_accuracy: 0.2880 - aux_output_1_accuracy: 0.3340 - aux_output_2_accuracy: 0.3200\n",
            "Test accuracy rate :  1.9133292436599731\n"
          ]
        }
      ]
    }
  ]
}