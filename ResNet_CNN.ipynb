{
  "nbformat": 4,
  "nbformat_minor": 0,
  "metadata": {
    "colab": {
      "provenance": [],
      "gpuType": "T4",
      "authorship_tag": "ABX9TyNQPv5P+sqDy6A3HUgA1b3u",
      "include_colab_link": true
    },
    "kernelspec": {
      "name": "python3",
      "display_name": "Python 3"
    },
    "language_info": {
      "name": "python"
    },
    "accelerator": "GPU"
  },
  "cells": [
    {
      "cell_type": "markdown",
      "metadata": {
        "id": "view-in-github",
        "colab_type": "text"
      },
      "source": [
        "<a href=\"https://colab.research.google.com/github/AugustvonMackensen/AI_colab/blob/main/ResNet_CNN.ipynb\" target=\"_parent\"><img src=\"https://colab.research.google.com/assets/colab-badge.svg\" alt=\"Open In Colab\"/></a>"
      ]
    },
    {
      "cell_type": "markdown",
      "source": [
        "[1] import the packages"
      ],
      "metadata": {
        "id": "A9akBuQpovbN"
      }
    },
    {
      "cell_type": "code",
      "execution_count": 1,
      "metadata": {
        "id": "G4NY0LY8ogax"
      },
      "outputs": [],
      "source": [
        "from tensorflow import keras\n",
        "from keras import layers, activations, Input\n",
        "from keras.datasets import cifar10\n",
        "import cv2\n",
        "import numpy as np"
      ]
    },
    {
      "cell_type": "markdown",
      "source": [
        "[2] prepare the data and pre-processing"
      ],
      "metadata": {
        "id": "gSy6HwQao11U"
      }
    },
    {
      "cell_type": "code",
      "source": [
        "def load_cifar10_data(img_rows, img_cols):\n",
        "  (x_train, y_train), (x_test, y_test) = cifar10.load_data()\n",
        "  x_train = x_train[0:2000, :, :, :]\n",
        "  y_train = y_train[0:2000]\n",
        "\n",
        "  x_test = x_test[0:500, :, :, :]\n",
        "  y_test = y_test[0:500]\n",
        "\n",
        "  x_train = np.array([cv2.resize(img, (img_rows, img_cols)) for img in x_train[:, :, :, :]])\n",
        "  x_test = np.array([cv2.resize(img, (img_rows, img_cols)) for img in x_test[:, :, :, :]])\n",
        "\n",
        "  x_train = x_train.astype('float32')\n",
        "  x_test = x_test.astype('float32')\n",
        "  x_train = x_train / 255.0\n",
        "  x_test = x_test / 255.0\n",
        "  return x_train, y_train, x_test, y_test\n",
        "\n",
        "x_train, y_train, x_test, y_test = load_cifar10_data(224, 224)\n",
        "img_input = Input(shape=(224,224,3))"
      ],
      "metadata": {
        "colab": {
          "base_uri": "https://localhost:8080/"
        },
        "id": "1hSYGVe_o9Cj",
        "outputId": "ae376bb8-85a6-4341-f0d2-6e1a03ee34f6"
      },
      "execution_count": 2,
      "outputs": [
        {
          "output_type": "stream",
          "name": "stdout",
          "text": [
            "Downloading data from https://www.cs.toronto.edu/~kriz/cifar-10-python.tar.gz\n",
            "170498071/170498071 [==============================] - 4s 0us/step\n"
          ]
        }
      ]
    },
    {
      "cell_type": "markdown",
      "source": [
        "[3] Define ResidualUnit Class"
      ],
      "metadata": {
        "id": "_FwLYFM_pOR9"
      }
    },
    {
      "cell_type": "code",
      "source": [
        "class ResidualUnit(layers.Layer):\n",
        "  def __init__(self, filters, strides=1, activation='relu', **kwargs):\n",
        "    super().__init__(**kwargs)\n",
        "    self.activation = activations.get(activation)\n",
        "    self.main_layers = [\n",
        "        layers.Conv2D(filters, (3,3), strides=strides, padding='same', use_bias=False),\n",
        "        layers.BatchNormalization(),\n",
        "        self.activation,\n",
        "        layers.Conv2D(filters, (3,3), strides=1, padding='same', use_bias=False),\n",
        "        layers.BatchNormalization()\n",
        "    ]\n",
        "    self.skip_layers = []\n",
        "    if strides > 1:\n",
        "      self.skip_layers = [\n",
        "          layers.Conv2D(filters, (1,1), strides=strides, padding='same', use_bias=False),\n",
        "          layers.BatchNormalization()\n",
        "      ]\n",
        "\n",
        "  def call(self, inputs):\n",
        "    Z = inputs\n",
        "    for layer in self.main_layers:\n",
        "      Z = layer(Z)\n",
        "    skip_Z = inputs\n",
        "    for layer in self.skip_layers:\n",
        "      skip_Z = layer(skip_Z)\n",
        "    return self.activation(Z + skip_Z)"
      ],
      "metadata": {
        "id": "2Ppb2s8epUzy"
      },
      "execution_count": 3,
      "outputs": []
    },
    {
      "cell_type": "markdown",
      "source": [
        "[4] Define the Model"
      ],
      "metadata": {
        "id": "pl9QefeArUmV"
      }
    },
    {
      "cell_type": "code",
      "source": [
        "model = keras.models.Sequential()\n",
        "model.add(layers.Conv2D(64, (7,7), strides=(2,2), input_shape=[224, 224, 3], padding='same', use_bias=False))\n",
        "model.add(layers.BatchNormalization())\n",
        "model.add(layers.Activation('relu'))\n",
        "model.add(layers.MaxPool2D(pool_size=(3,3), strides=(2,2), padding='same'))\n",
        "prev_filters = 64\n",
        "for filters in [64] * 3 + [128] * 4 + [256] * 6 + [512] * 3:\n",
        "  strides = 1 if filters == prev_filters else 2\n",
        "  model.add(ResidualUnit(filters,strides=strides))\n",
        "  prev_filters = filters\n",
        "\n",
        "model.add(layers.GlobalAvgPool2D())\n",
        "model.add(layers.Flatten())\n",
        "model.add(layers.Dense(10, activation='softmax'))"
      ],
      "metadata": {
        "id": "uyXPujQVrijs"
      },
      "execution_count": 4,
      "outputs": []
    },
    {
      "cell_type": "markdown",
      "source": [
        "[5] Fit"
      ],
      "metadata": {
        "id": "I3xWpNP7vBCs"
      }
    },
    {
      "cell_type": "code",
      "source": [
        "model.compile(optimizer='adam', loss='sparse_categorical_crossentropy', metrics=['accuracy'])\n",
        "model.fit(x_train, y_train, epochs=10, validation_data=(x_test, y_test))"
      ],
      "metadata": {
        "colab": {
          "base_uri": "https://localhost:8080/"
        },
        "id": "ZP3lrCI7vDkG",
        "outputId": "d37b42a5-8c05-47e6-8bd2-dfb2a6323e0b"
      },
      "execution_count": 5,
      "outputs": [
        {
          "output_type": "stream",
          "name": "stdout",
          "text": [
            "Epoch 1/10\n",
            "63/63 [==============================] - 42s 218ms/step - loss: 2.5471 - accuracy: 0.2115 - val_loss: 37.0348 - val_accuracy: 0.0820\n",
            "Epoch 2/10\n",
            "63/63 [==============================] - 12s 183ms/step - loss: 1.9045 - accuracy: 0.3070 - val_loss: 2.9421 - val_accuracy: 0.1800\n",
            "Epoch 3/10\n",
            "63/63 [==============================] - 12s 191ms/step - loss: 1.7811 - accuracy: 0.3365 - val_loss: 3.0029 - val_accuracy: 0.1320\n",
            "Epoch 4/10\n",
            "63/63 [==============================] - 12s 192ms/step - loss: 1.7185 - accuracy: 0.3655 - val_loss: 2.2232 - val_accuracy: 0.2760\n",
            "Epoch 5/10\n",
            "63/63 [==============================] - 12s 193ms/step - loss: 1.6068 - accuracy: 0.3950 - val_loss: 2.0734 - val_accuracy: 0.2660\n",
            "Epoch 6/10\n",
            "63/63 [==============================] - 12s 197ms/step - loss: 1.5376 - accuracy: 0.4340 - val_loss: 2.2120 - val_accuracy: 0.2740\n",
            "Epoch 7/10\n",
            "63/63 [==============================] - 12s 187ms/step - loss: 1.4882 - accuracy: 0.4505 - val_loss: 4.4462 - val_accuracy: 0.1900\n",
            "Epoch 8/10\n",
            "63/63 [==============================] - 12s 194ms/step - loss: 1.4219 - accuracy: 0.4790 - val_loss: 2.0984 - val_accuracy: 0.3180\n",
            "Epoch 9/10\n",
            "63/63 [==============================] - 12s 195ms/step - loss: 1.4052 - accuracy: 0.4800 - val_loss: 2.0138 - val_accuracy: 0.3640\n",
            "Epoch 10/10\n",
            "63/63 [==============================] - 12s 197ms/step - loss: 1.2951 - accuracy: 0.5150 - val_loss: 5.0107 - val_accuracy: 0.2040\n"
          ]
        },
        {
          "output_type": "execute_result",
          "data": {
            "text/plain": [
              "<keras.src.callbacks.History at 0x7df05cae0430>"
            ]
          },
          "metadata": {},
          "execution_count": 5
        }
      ]
    },
    {
      "cell_type": "markdown",
      "source": [
        "[6] Check the accuracy rate"
      ],
      "metadata": {
        "id": "t-OCvuv-vRpP"
      }
    },
    {
      "cell_type": "code",
      "source": [
        "score = model.evaluate(x_test, y_test)\n",
        "print('test accuracy rate : ', score[1])"
      ],
      "metadata": {
        "colab": {
          "base_uri": "https://localhost:8080/"
        },
        "id": "LUQNt-xMwl3N",
        "outputId": "9fe647c3-bb16-491c-8df3-741c081de5b9"
      },
      "execution_count": 6,
      "outputs": [
        {
          "output_type": "stream",
          "name": "stdout",
          "text": [
            "16/16 [==============================] - 1s 59ms/step - loss: 5.0107 - accuracy: 0.2040\n",
            "test accuracy rate :  0.20399999618530273\n"
          ]
        }
      ]
    }
  ]
}