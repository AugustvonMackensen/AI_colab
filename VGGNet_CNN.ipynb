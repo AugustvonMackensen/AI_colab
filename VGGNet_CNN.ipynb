{
  "nbformat": 4,
  "nbformat_minor": 0,
  "metadata": {
    "colab": {
      "provenance": [],
      "gpuType": "T4",
      "authorship_tag": "ABX9TyOZTN23ONI2rPQQ573HNTNb",
      "include_colab_link": true
    },
    "kernelspec": {
      "name": "python3",
      "display_name": "Python 3"
    },
    "language_info": {
      "name": "python"
    },
    "accelerator": "GPU"
  },
  "cells": [
    {
      "cell_type": "markdown",
      "metadata": {
        "id": "view-in-github",
        "colab_type": "text"
      },
      "source": [
        "<a href=\"https://colab.research.google.com/github/AugustvonMackensen/AI_colab/blob/main/VGGNet_CNN.ipynb\" target=\"_parent\"><img src=\"https://colab.research.google.com/assets/colab-badge.svg\" alt=\"Open In Colab\"/></a>"
      ]
    },
    {
      "cell_type": "markdown",
      "source": [
        "[1] import the packages"
      ],
      "metadata": {
        "id": "kfGfmdpS6a2Q"
      }
    },
    {
      "cell_type": "code",
      "execution_count": 1,
      "metadata": {
        "id": "iNceKDeo6Sbe"
      },
      "outputs": [],
      "source": [
        "from tensorflow import keras\n",
        "from keras import Input, Model\n",
        "from keras.layers import Conv2D, MaxPooling2D, Flatten, Dense\n",
        "from keras.datasets import cifar10\n",
        "import cv2\n",
        "import numpy as np"
      ]
    },
    {
      "cell_type": "markdown",
      "source": [
        "[2] Prepare the data and preprocessing"
      ],
      "metadata": {
        "id": "id8Q8kwK7cTz"
      }
    },
    {
      "cell_type": "code",
      "source": [
        "def load_cifar10_data(img_rows, img_cols):\n",
        "\n",
        "  (x_train, y_train), (x_test, y_test) = cifar10.load_data()\n",
        "  x_train = x_train[0:2000, :, :, :]\n",
        "  y_train = y_train[0:2000]\n",
        "  x_test = x_test[0:500, :, :, :]\n",
        "  y_test = y_test[0:500]\n",
        "\n",
        "  x_train = np.array([cv2.resize(img, (img_rows, img_cols)) for img in x_train[:, :, :, :]])\n",
        "  x_test = np.array([cv2.resize(img, (img_rows, img_cols)) for img in x_test[:,:,:,:]])\n",
        "\n",
        "  x_train = x_train.astype('float32')\n",
        "  x_test = x_test.astype('float32')\n",
        "\n",
        "  x_train = x_train / 255.0\n",
        "  x_test = x_test / 255.0\n",
        "\n",
        "  return x_train, y_train, x_test, y_test\n",
        "\n",
        "x_train, y_train, x_test, y_test = load_cifar10_data(224, 224)\n",
        "img_input = Input(shape=(224, 224, 3))"
      ],
      "metadata": {
        "colab": {
          "base_uri": "https://localhost:8080/"
        },
        "id": "DasXa_WY7gZp",
        "outputId": "a20d936a-c87b-4a76-bbda-6c413e75575c"
      },
      "execution_count": 2,
      "outputs": [
        {
          "output_type": "stream",
          "name": "stdout",
          "text": [
            "Downloading data from https://www.cs.toronto.edu/~kriz/cifar-10-python.tar.gz\n",
            "170498071/170498071 [==============================] - 2s 0us/step\n"
          ]
        }
      ]
    },
    {
      "cell_type": "markdown",
      "source": [
        "[3] Define the model\n",
        "\n",
        "Sequential()은 간단한 순차적인 구조를 가진 모델을 쉽게 구성할 수 있어, 초보자들이 쉽게 사용할 수 있습니다. 하지만, 입력과 출력이 여러 개인 복잡한 모델을 구성하기는 어렵습니다. 또한, 순차적인 구조이기 때문에 각 층이 한 번에 하나의 입력을 받고, 하나의 출력을 생성합니다. 이러한 제한 때문에, 다양한 네트워크 구조를 표현하기에는 한계가 있습니다.\n",
        "\n",
        "반면에 Functional API는 Sequential()보다 유연하게 모델을 구성할 수 있습니다. 다중 입력, 다중 출력 등의 복잡한 모델을 쉽게 구성할 수 있습니다.\n",
        "<출처: 머신러닝 케라스 다루기 기초>"
      ],
      "metadata": {
        "id": "RTUQ7ohP-Svp"
      }
    },
    {
      "cell_type": "code",
      "source": [
        "VGG16 = Conv2D(64, (3,3), activation='relu', padding='same')(img_input)\n",
        "VGG16 = Conv2D(64, (3,3), activation='relu', padding='same')(VGG16)\n",
        "VGG16 = MaxPooling2D((2,2), strides=(2,2))(VGG16)\n",
        "VGG16 = Conv2D(128, (3,3), activation='relu', padding='same')(VGG16)\n",
        "VGG16 = Conv2D(128, (3,3), activation='relu', padding='same')(VGG16)\n",
        "VGG16 = MaxPooling2D((2,2), strides=(2,2))(VGG16)\n",
        "VGG16 = Conv2D(256, (3,3), activation='relu', padding='same')(VGG16)\n",
        "VGG16 = Conv2D(256, (3,3), activation='relu', padding='same')(VGG16)\n",
        "VGG16 = Conv2D(256, (3,3), activation='relu', padding='same')(VGG16)\n",
        "VGG16 = MaxPooling2D((2,2), strides=(2,2))(VGG16)\n",
        "VGG16 = Conv2D(512, (3,3), activation='relu', padding='same')(VGG16)\n",
        "VGG16 = Conv2D(512, (3,3), activation='relu', padding='same')(VGG16)\n",
        "VGG16 = Conv2D(512, (3,3), activation='relu', padding='same')(VGG16)\n",
        "VGG16 = MaxPooling2D((2,2), strides=(2,2))(VGG16)\n",
        "VGG16 = Conv2D(512, (3,3), activation='relu', padding='same')(VGG16)\n",
        "VGG16 = Conv2D(512, (3,3), activation='relu', padding='same')(VGG16)\n",
        "VGG16 = Conv2D(512, (3,3), activation='relu', padding='same')(VGG16)\n",
        "VGG16 = MaxPooling2D((2,2), strides=(2,2))(VGG16)\n",
        "VGG16 = Flatten()(VGG16)\n",
        "VGG16 = Dense(4096, activation='relu')(VGG16)\n",
        "VGG16 = Dense(4096, activation='relu')(VGG16)\n",
        "VGG16 = Dense(10, activation='softmax')(VGG16)\n",
        "model = Model(inputs=img_input, outputs=VGG16)"
      ],
      "metadata": {
        "id": "ca5DTxA6-ZFK"
      },
      "execution_count": 3,
      "outputs": []
    },
    {
      "cell_type": "markdown",
      "source": [
        "[4] Fit"
      ],
      "metadata": {
        "id": "X7rAZD0DBL1L"
      }
    },
    {
      "cell_type": "code",
      "source": [
        "model.compile(optimizer='adam', loss='sparse_categorical_crossentropy', metrics=['accuracy'])\n",
        "model.fit(x_train, y_train, epochs=10, verbose=1)"
      ],
      "metadata": {
        "colab": {
          "base_uri": "https://localhost:8080/"
        },
        "id": "g_yHMaFGBW5r",
        "outputId": "c169713a-4708-49af-bc45-eee345a7d742"
      },
      "execution_count": 4,
      "outputs": [
        {
          "output_type": "stream",
          "name": "stdout",
          "text": [
            "Epoch 1/10\n",
            "63/63 [==============================] - 51s 464ms/step - loss: 2.3242 - accuracy: 0.0855\n",
            "Epoch 2/10\n",
            "63/63 [==============================] - 24s 388ms/step - loss: 2.3037 - accuracy: 0.1020\n",
            "Epoch 3/10\n",
            "63/63 [==============================] - 24s 387ms/step - loss: 2.3026 - accuracy: 0.0950\n",
            "Epoch 4/10\n",
            "63/63 [==============================] - 24s 387ms/step - loss: 2.3024 - accuracy: 0.1070\n",
            "Epoch 5/10\n",
            "63/63 [==============================] - 25s 392ms/step - loss: 2.3024 - accuracy: 0.1070\n",
            "Epoch 6/10\n",
            "63/63 [==============================] - 25s 396ms/step - loss: 2.3024 - accuracy: 0.1070\n",
            "Epoch 7/10\n",
            "63/63 [==============================] - 25s 396ms/step - loss: 2.3024 - accuracy: 0.1070\n",
            "Epoch 8/10\n",
            "63/63 [==============================] - 25s 400ms/step - loss: 2.3022 - accuracy: 0.1070\n",
            "Epoch 9/10\n",
            "63/63 [==============================] - 25s 402ms/step - loss: 2.3023 - accuracy: 0.1070\n",
            "Epoch 10/10\n",
            "63/63 [==============================] - 25s 403ms/step - loss: 2.3024 - accuracy: 0.1070\n"
          ]
        },
        {
          "output_type": "execute_result",
          "data": {
            "text/plain": [
              "<keras.src.callbacks.History at 0x7ec94e95dcc0>"
            ]
          },
          "metadata": {},
          "execution_count": 4
        }
      ]
    },
    {
      "cell_type": "markdown",
      "source": [
        "[5] Check the accuracy"
      ],
      "metadata": {
        "id": "KWRiw6n8DlSZ"
      }
    },
    {
      "cell_type": "code",
      "source": [
        "score = model.evaluate(x_test, y_test)\n",
        "print('testing accuracy rate : ', score[1])"
      ],
      "metadata": {
        "colab": {
          "base_uri": "https://localhost:8080/"
        },
        "id": "rKAxQ-5JDp4Q",
        "outputId": "c371cd97-c2f7-48da-8a9c-f79495d3a97c"
      },
      "execution_count": 5,
      "outputs": [
        {
          "output_type": "stream",
          "name": "stdout",
          "text": [
            "16/16 [==============================] - 5s 265ms/step - loss: 2.3025 - accuracy: 0.0800\n",
            "testing accuracy rate :  0.07999999821186066\n"
          ]
        }
      ]
    }
  ]
}