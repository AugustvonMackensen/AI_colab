{
  "nbformat": 4,
  "nbformat_minor": 0,
  "metadata": {
    "colab": {
      "private_outputs": true,
      "provenance": [],
      "gpuType": "T4",
      "authorship_tag": "ABX9TyPTIhgUuBFomP8kGTm403S0",
      "include_colab_link": true
    },
    "kernelspec": {
      "name": "python3",
      "display_name": "Python 3"
    },
    "language_info": {
      "name": "python"
    },
    "accelerator": "GPU"
  },
  "cells": [
    {
      "cell_type": "markdown",
      "metadata": {
        "id": "view-in-github",
        "colab_type": "text"
      },
      "source": [
        "<a href=\"https://colab.research.google.com/github/AugustvonMackensen/AI_colab/blob/main/deeplearning_1_perceptron_iris.ipynb\" target=\"_parent\"><img src=\"https://colab.research.google.com/assets/colab-badge.svg\" alt=\"Open In Colab\"/></a>"
      ]
    },
    {
      "cell_type": "markdown",
      "source": [
        "[1] Load needed packages"
      ],
      "metadata": {
        "id": "wB1lFwoxvbjt"
      }
    },
    {
      "cell_type": "code",
      "execution_count": null,
      "metadata": {
        "id": "73mZtf1PvAjR"
      },
      "outputs": [],
      "source": [
        "import matplotlib.pyplot as plt\n",
        "import numpy as np\n",
        "from sklearn.datasets import load_iris"
      ]
    },
    {
      "cell_type": "markdown",
      "source": [
        "[2] Define Prepare_Data Function"
      ],
      "metadata": {
        "id": "5yTEaYP0vnRF"
      }
    },
    {
      "cell_type": "code",
      "source": [
        "def prepare_data(target):\n",
        "  iris = load_iris() # Read Iris dataset\n",
        "  X_tr = iris.data[:, 2:] # Pick the length and width for the bloom\n",
        "  labels = iris.target_names # 'setosa', 'versicolor', 'virginica'\n",
        "  y = iris.target\n",
        "\n",
        "  # Label the samples - If targeted, then 1 else 0\n",
        "  y_tr = []\n",
        "  for i in range(150):\n",
        "    y_tr.append(labels[y[i]] == target)\n",
        "  y_tr = np.array(y_tr, dtype=int)\n",
        "  return X_tr, y_tr, ['(1) ' + target, '(0) the others']"
      ],
      "metadata": {
        "id": "62R2dccevZcG"
      },
      "execution_count": null,
      "outputs": []
    },
    {
      "cell_type": "markdown",
      "source": [
        "[3] Activation : Step"
      ],
      "metadata": {
        "id": "Zznxcuey133a"
      }
    },
    {
      "cell_type": "code",
      "source": [
        "def step(x):\n",
        "  return int(x >= 0)"
      ],
      "metadata": {
        "id": "GSnH4sqp16gK"
      },
      "execution_count": null,
      "outputs": []
    },
    {
      "cell_type": "markdown",
      "source": [
        "[4] Define Perception Class"
      ],
      "metadata": {
        "id": "vY9VQ45s2IXy"
      }
    },
    {
      "cell_type": "code",
      "source": [
        "class Perceptron():\n",
        "  def __init__(self, dim, activation):\n",
        "    rnd = np.random.default_rng()\n",
        "    self.dim = dim\n",
        "    self.activation = activation\n",
        "\n",
        "    # initialize weight and bias by He Normal Method\n",
        "    self.w = rnd.normal(scale=np.sqrt(2.0/dim), size = dim)\n",
        "    self.b = rnd.normal(scale=np.sqrt(2.0/dim))\n",
        "\n",
        "  def printW(self):\n",
        "    for i in range(self.dim):\n",
        "      print(' w{} = {:6.3f}'.format(i+1, self.w[i]), end='')\n",
        "    print(' b={:6.3f}'.format(self.b))\n",
        "\n",
        "  def predict(self, x): # calculate the sample that is stored in numpy array x\n",
        "    return np.array([self.activation(np.dot(self.w, x[i]) + self.b) for i in range(len(x))])\n",
        "\n",
        "  def fit(self, X, y, N, epochs, eta=0.01):\n",
        "    # Swap the index of samples randomly\n",
        "    idx = list(range(N))\n",
        "    np.random.shuffle(idx)\n",
        "    X = np.array([X[idx[i]] for i in range(N)])\n",
        "    y = np.array([y[idx[i]] for i in range(N)])\n",
        "\n",
        "    f = 'Epochs = {:4d} Loss = {:8.5f}'\n",
        "    print('Inital value of w : ', end='')\n",
        "    self.printW()\n",
        "    for j in range(epochs):\n",
        "      for i in range(N):\n",
        "        # Calculate error for the output in terms of x[i]\n",
        "        delta = self.predict([X[i]])[0] - y[i]\n",
        "        self.w -= eta * delta * X[i]\n",
        "        self.b -= eta * delta\n",
        "      # print learning process\n",
        "      if j < 10 or (j+1) % 100 == 0:\n",
        "        loss = self.predict(X) - y\n",
        "        loss = (loss * loss).sum() / N\n",
        "        print(f.format(j+1, loss), end='')\n",
        "        self.printW()"
      ],
      "metadata": {
        "id": "LhKhfq4M2LTi"
      },
      "execution_count": null,
      "outputs": []
    },
    {
      "cell_type": "markdown",
      "source": [
        "[5] Visualize the model"
      ],
      "metadata": {
        "id": "kMhvEkSx6vCi"
      }
    },
    {
      "cell_type": "code",
      "source": [
        "def visualize(net, X, y, multi_class, labels, class_id, colors,\n",
        "             xlabel, ylabel, legend_loc='lower right'):\n",
        "  # list the range between min and max, the gap is 0.05\n",
        "  x_max = np.ceil(np.max(X[:, 0])).astype(int)\n",
        "  x_min = np.floor(np.min(X[:, 0])).astype(int)\n",
        "  y_max = np.ceil(np.max(X[:, 1])).astype(int)\n",
        "  y_min = np.floor(np.min(X[:, 1])).astype(int)\n",
        "  x_lin = np.linspace(x_min, x_max, (x_max-x_min)*20+1)\n",
        "  y_lin = np.linspace(y_min, y_max, (y_max-y_min)*20+1)\n",
        "\n",
        "  # find x and y from the x_lin and y_Lin\n",
        "  x_mesh, y_mesh = np.meshgrid(x_lin, y_lin)\n",
        "\n",
        "  # input\n",
        "  X_test = np.column_stack([x_mesh.ravel(), y_mesh.ravel()])\n",
        "\n",
        "  # calculate output in terms of X_test\n",
        "  if multi_class:\n",
        "    y_hat = net.predict(X_test)\n",
        "    y_hat = np.array([np.argmax(y_hat[k]) for k in range(len(y_hat))], dtype=int)\n",
        "  else:\n",
        "    y_hat = (net.predict(X_test) >= 0.5).astype(int)\n",
        "    y_hat = y_hat.reshape(len(y_hat))\n",
        "\n",
        "  # Set the legend and color for each classes and horizontial and vertical range\n",
        "  plt.xlim(x_min, x_max)\n",
        "  plt.ylim(y_min, y_max)\n",
        "\n",
        "  # draw the Scatter Plot\n",
        "  for c, i, c_name in zip(colors, labels, class_id):\n",
        "    # Scatter Plot for grid coodrinate\n",
        "    plt.scatter(X_test[y_hat == i, 0], X_test[y_hat == i, 1],\n",
        "                c=c, s=5, alpha=0.3, edgecolors='none')\n",
        "    # Scatter Plot for learning samples\n",
        "    plt.scatter(X[y==i, 0], X[y==i, 1],\n",
        "                c=c, s=20, label=c_name)\n",
        "\n",
        "  # set the position for legend\n",
        "  plt.legend(loc=legend_loc)\n",
        "  # print graph after setting label for x-axis and y-axis\n",
        "  plt.xlabel(xlabel, size=12)\n",
        "  plt.ylabel(ylabel, size=12)\n",
        "  plt.show()"
      ],
      "metadata": {
        "id": "FPITXRwS6xa5"
      },
      "execution_count": null,
      "outputs": []
    },
    {
      "cell_type": "markdown",
      "source": [
        "[6] Prepare for training data"
      ],
      "metadata": {
        "id": "aS6gMvD5_WFJ"
      }
    },
    {
      "cell_type": "code",
      "source": [
        "nSamples = 150\n",
        "nDim = 2\n",
        "target = 'setosa' # set the bloom\n",
        "X_tr, y_tr, labels = prepare_data(target)"
      ],
      "metadata": {
        "id": "S0tMjQMd_ZXy"
      },
      "execution_count": null,
      "outputs": []
    },
    {
      "cell_type": "markdown",
      "source": [
        "[7] Generate Perceptron Class and Learning"
      ],
      "metadata": {
        "id": "5ATs82SR_g8g"
      }
    },
    {
      "cell_type": "code",
      "source": [
        "p = Perceptron(nDim, activation=step)\n",
        "p.fit(X_tr, y_tr, nSamples, epochs=1000, eta=0.01)"
      ],
      "metadata": {
        "id": "lacMqnjg_kXh"
      },
      "execution_count": null,
      "outputs": []
    },
    {
      "cell_type": "markdown",
      "source": [
        "[8] Visualize"
      ],
      "metadata": {
        "id": "YQeEeSoeAQxp"
      }
    },
    {
      "cell_type": "code",
      "source": [
        "visualize(p, X_tr, y_tr, multi_class=False,\n",
        "          class_id=labels, labels=[1, 0], colors=['magenta', 'blue'],\n",
        "          xlabel='petal length', ylabel='petal width', legend_loc='upper left')"
      ],
      "metadata": {
        "id": "wbk9PIroAV6z"
      },
      "execution_count": null,
      "outputs": []
    },
    {
      "cell_type": "markdown",
      "source": [
        "Case : Classify 'virginica'"
      ],
      "metadata": {
        "id": "ruqiQ8_mBKdJ"
      }
    },
    {
      "cell_type": "code",
      "source": [
        "nSamples = 150\n",
        "nDim = 2\n",
        "target = 'virginica' # set the bloom\n",
        "X_tr, y_tr, labels = prepare_data(target)\n",
        "visualize(p, X_tr, y_tr, multi_class=False,\n",
        "          class_id=labels, labels=[1, 0], colors=['magenta', 'blue'],\n",
        "          xlabel='petal length', ylabel='petal width', legend_loc='upper left')"
      ],
      "metadata": {
        "id": "5dtx1nDQBFfa"
      },
      "execution_count": null,
      "outputs": []
    },
    {
      "cell_type": "markdown",
      "source": [
        "Case : Classify 'versicolor'"
      ],
      "metadata": {
        "id": "jAYblh1GBx74"
      }
    },
    {
      "cell_type": "code",
      "source": [
        "nSamples = 150\n",
        "nDim = 2\n",
        "target = 'versicolor' # set the bloom\n",
        "X_tr, y_tr, labels = prepare_data(target)\n",
        "visualize(p, X_tr, y_tr, multi_class=False,\n",
        "          class_id=labels, labels=[1, 0], colors=['magenta', 'blue'],\n",
        "          xlabel='petal length', ylabel='petal width', legend_loc='upper left')"
      ],
      "metadata": {
        "id": "cVQNqYLIB2wB"
      },
      "execution_count": null,
      "outputs": []
    }
  ]
}