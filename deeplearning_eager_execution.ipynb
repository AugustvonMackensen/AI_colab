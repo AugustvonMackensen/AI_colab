{
  "nbformat": 4,
  "nbformat_minor": 0,
  "metadata": {
    "colab": {
      "provenance": [],
      "authorship_tag": "ABX9TyPIF3WJiZBYG7fE8Y/di+6J",
      "include_colab_link": true
    },
    "kernelspec": {
      "name": "python3",
      "display_name": "Python 3"
    },
    "language_info": {
      "name": "python"
    }
  },
  "cells": [
    {
      "cell_type": "markdown",
      "metadata": {
        "id": "view-in-github",
        "colab_type": "text"
      },
      "source": [
        "<a href=\"https://colab.research.google.com/github/AugustvonMackensen/AI_colab/blob/main/deeplearning_eager_execution.ipynb\" target=\"_parent\"><img src=\"https://colab.research.google.com/assets/colab-badge.svg\" alt=\"Open In Colab\"/></a>"
      ]
    },
    {
      "cell_type": "code",
      "execution_count": 1,
      "metadata": {
        "id": "GVYN5fqT-y0j"
      },
      "outputs": [],
      "source": [
        "import tensorflow as tf"
      ]
    },
    {
      "cell_type": "markdown",
      "source": [
        "즉시 실행 모드로 계산 작업 실행"
      ],
      "metadata": {
        "id": "adHSDYVR-6xV"
      }
    },
    {
      "cell_type": "code",
      "source": [
        "a = tf.constant(2.)\n",
        "b = tf.constant(3.)\n",
        "c = a + b\n",
        "print('c = ', c)"
      ],
      "metadata": {
        "colab": {
          "base_uri": "https://localhost:8080/"
        },
        "id": "61oEK3SLECLG",
        "outputId": "db907921-19a0-42c6-ae3d-010d16704696"
      },
      "execution_count": 2,
      "outputs": [
        {
          "output_type": "stream",
          "name": "stdout",
          "text": [
            "c =  tf.Tensor(5.0, shape=(), dtype=float32)\n"
          ]
        }
      ]
    },
    {
      "cell_type": "markdown",
      "source": [
        "텐서플로 2.x부터 즉시 실행(eager execution) 모드를 도입하였고, 이 모드가 기본 실행 모드임.\n",
        "\n",
        "일반 파이썬 코드처럼 계산 작업이 호출 즉시 실행되게 함으로써 더 직관적인 코드 작성 가능\n",
        "실행 중 모델을 점검하거나 테스트 하는 것이 지연 모드에 비해 더 쉬움"
      ],
      "metadata": {
        "id": "jx4LJ61YFFn-"
      }
    }
  ]
}