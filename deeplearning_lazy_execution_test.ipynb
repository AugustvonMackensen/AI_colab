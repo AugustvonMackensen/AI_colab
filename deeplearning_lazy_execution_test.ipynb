{
  "nbformat": 4,
  "nbformat_minor": 0,
  "metadata": {
    "colab": {
      "private_outputs": true,
      "provenance": [],
      "authorship_tag": "ABX9TyMH3X3FWM4RQHvzFu1Lb8Gp",
      "include_colab_link": true
    },
    "kernelspec": {
      "name": "python3",
      "display_name": "Python 3"
    },
    "language_info": {
      "name": "python"
    }
  },
  "cells": [
    {
      "cell_type": "markdown",
      "metadata": {
        "id": "view-in-github",
        "colab_type": "text"
      },
      "source": [
        "<a href=\"https://colab.research.google.com/github/AugustvonMackensen/AI_colab/blob/main/deeplearning_lazy_execution_test.ipynb\" target=\"_parent\"><img src=\"https://colab.research.google.com/assets/colab-badge.svg\" alt=\"Open In Colab\"/></a>"
      ]
    },
    {
      "cell_type": "markdown",
      "source": [
        "텐서플로우 지연 실행 모드 테스트\n",
        "\n",
        "지연 실행 모드는 텐서플로 1.x 버전에서 정적 계산 그래프의 형태로 모델을 만들어 놓은 후, 나중에 계산이 실행되는 방식인 지연 실행 모드로 동작함\n"
      ],
      "metadata": {
        "id": "qmMpSypH6IXt"
      }
    },
    {
      "cell_type": "code",
      "execution_count": null,
      "metadata": {
        "id": "EKr6NtOF55NK"
      },
      "outputs": [],
      "source": [
        "import tensorflow.compat.v1 as tf\n",
        "tf.disable_v2_behavior()"
      ]
    },
    {
      "cell_type": "code",
      "source": [
        "# 계산 그래프 정의\n",
        "a = tf.placeholder(tf.float32)\n",
        "b = tf.placeholder(tf.float32)\n",
        "\n",
        "# 텐서 a와 b를 더한 그래프 구성\n",
        "c = a + b\n",
        "print('c = ', c)"
      ],
      "metadata": {
        "id": "OPLi0NV56s20"
      },
      "execution_count": null,
      "outputs": []
    },
    {
      "cell_type": "markdown",
      "source": [
        "위 코드 결과를 실행했을때 계산한 값을 c 에 대입하는 것이 아닌, 2개의 값인 a와 b가 \"add:0\"에 연결되도록 그래프를 구성한 것임.\n",
        "\n",
        "계산 그래프를 실행할려면 세션을 생성하고 그래프를 실행해야 함."
      ],
      "metadata": {
        "id": "dUfmqL3M6968"
      }
    },
    {
      "cell_type": "code",
      "source": [
        "# 세션 생성하여 그래프 실행\n",
        "with tf.Session() as sess:\n",
        "  # 'c' 연산 하는 그래프 실행\n",
        "  result = sess.run(c, {a:2., b:3.})\n",
        "print('result = ', result)"
      ],
      "metadata": {
        "id": "u4kXiJE67e4O"
      },
      "execution_count": null,
      "outputs": []
    },
    {
      "cell_type": "markdown",
      "source": [
        "지연 모드는 계산 그래프를 구성하고 이를 실행하는 형태로 프로그램을 작성해야 함"
      ],
      "metadata": {
        "id": "coNxLYhA79E2"
      }
    }
  ]
}