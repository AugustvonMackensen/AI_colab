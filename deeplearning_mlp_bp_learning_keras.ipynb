{
  "nbformat": 4,
  "nbformat_minor": 0,
  "metadata": {
    "colab": {
      "private_outputs": true,
      "provenance": [],
      "gpuType": "T4",
      "authorship_tag": "ABX9TyOoumAdYt2OHBfzNb9slzR3",
      "include_colab_link": true
    },
    "kernelspec": {
      "name": "python3",
      "display_name": "Python 3"
    },
    "language_info": {
      "name": "python"
    },
    "accelerator": "GPU"
  },
  "cells": [
    {
      "cell_type": "markdown",
      "metadata": {
        "id": "view-in-github",
        "colab_type": "text"
      },
      "source": [
        "<a href=\"https://colab.research.google.com/github/AugustvonMackensen/AI_colab/blob/main/deeplearning_mlp_bp_learning_keras.ipynb\" target=\"_parent\"><img src=\"https://colab.research.google.com/assets/colab-badge.svg\" alt=\"Open In Colab\"/></a>"
      ]
    },
    {
      "cell_type": "markdown",
      "source": [
        "[1] Import Packages"
      ],
      "metadata": {
        "id": "zRI6p7y8p4QC"
      }
    },
    {
      "cell_type": "code",
      "execution_count": null,
      "metadata": {
        "id": "kFg5XGdCpJfY"
      },
      "outputs": [],
      "source": [
        "import matplotlib.pyplot as plt\n",
        "import numpy as np\n",
        "from sklearn.datasets import load_iris\n",
        "from sklearn.model_selection import train_test_split # split train data and test data\n",
        "from tensorflow import keras\n",
        "from tensorflow.keras import layers, optimizers, losses"
      ]
    },
    {
      "cell_type": "markdown",
      "source": [
        "[2] Define the functions for the data preparation"
      ],
      "metadata": {
        "id": "MVbFmjgHp7Rz"
      }
    },
    {
      "cell_type": "code",
      "source": [
        "def prepare_data():\n",
        "  iris = load_iris()    # Read iris dataset\n",
        "  X = iris.data[:, 2:]   # Select the bloom's length and width\n",
        "  y = iris.target # label for each samples\n",
        "  lbl_str = iris.target_names # 'setosa'. 'versicolor', 'virginica'\n",
        "  X_tr, X_val, y_tr, y_val = train_test_split(X, y, test_size=0.20) # 80% : train data, 20% : test data\n",
        "\n",
        "  return X_tr, y_tr, X_val, y_val, lbl_str"
      ],
      "metadata": {
        "id": "WPMuWdebqBMR"
      },
      "execution_count": null,
      "outputs": []
    },
    {
      "cell_type": "markdown",
      "source": [
        "[3] Visualize the Model"
      ],
      "metadata": {
        "id": "H7KdLe3G7GOV"
      }
    },
    {
      "cell_type": "code",
      "source": [
        "def visualize(net, X, y, multi_class, labels, class_id, colors,\n",
        "             xlabel, ylabel, legend_loc='lower right'):\n",
        "  # list the range between min and max, the gap is 0.05\n",
        "  x_max = np.ceil(np.max(X[:, 0])).astype(int)\n",
        "  x_min = np.floor(np.min(X[:, 0])).astype(int)\n",
        "  y_max = np.ceil(np.max(X[:, 1])).astype(int)\n",
        "  y_min = np.floor(np.min(X[:, 1])).astype(int)\n",
        "  x_lin = np.linspace(x_min, x_max, (x_max-x_min)*20+1)\n",
        "  y_lin = np.linspace(y_min, y_max, (y_max-y_min)*20+1)\n",
        "\n",
        "  # find x and y from the x_lin and y_Lin\n",
        "  x_mesh, y_mesh = np.meshgrid(x_lin, y_lin)\n",
        "\n",
        "  # input\n",
        "  X_test = np.column_stack([x_mesh.ravel(), y_mesh.ravel()])\n",
        "\n",
        "  # calculate output in terms of X_test\n",
        "  if multi_class:\n",
        "    y_hat = net.predict(X_test)\n",
        "    y_hat = np.array([np.argmax(y_hat[k]) for k in range(len(y_hat))], dtype=int)\n",
        "  else:\n",
        "    y_hat = (net.predict(X_test) >= 0.5).astype(int)\n",
        "    y_hat = y_hat.reshape(len(y_hat))\n",
        "\n",
        "  # Set the legend and color for each classes and horizontial and vertical range\n",
        "  plt.xlim(x_min, x_max)\n",
        "  plt.ylim(y_min, y_max)\n",
        "\n",
        "  # draw the Scatter Plot\n",
        "  for c, i, c_name in zip(colors, labels, class_id):\n",
        "    # Scatter Plot for grid coodrinate\n",
        "    plt.scatter(X_test[y_hat == i, 0], X_test[y_hat == i, 1],\n",
        "                c=c, s=5, alpha=0.3, edgecolors='none')\n",
        "    # Scatter Plot for learning samples\n",
        "    plt.scatter(X[y==i, 0], X[y==i, 1],\n",
        "                c=c, s=20, label=c_name)\n",
        "\n",
        "  # set the position for legend\n",
        "  plt.legend(loc=legend_loc)\n",
        "  # print graph after setting label for x-axis and y-axis\n",
        "  plt.xlabel(xlabel, size=12)\n",
        "  plt.ylabel(ylabel, size=12)\n",
        "  plt.show()"
      ],
      "metadata": {
        "id": "EoNZqSKr7IS2"
      },
      "execution_count": null,
      "outputs": []
    },
    {
      "cell_type": "markdown",
      "source": [
        "[4] Preparing for train data"
      ],
      "metadata": {
        "id": "PJ-riZhV7THV"
      }
    },
    {
      "cell_type": "code",
      "source": [
        "nSamples = 150\n",
        "nDim = 2\n",
        "nClasses = 3\n",
        "X_tr, y_tr, X_val, y_val, labels = prepare_data()"
      ],
      "metadata": {
        "id": "iJuqPRfx7W2d"
      },
      "execution_count": null,
      "outputs": []
    },
    {
      "cell_type": "markdown",
      "source": [
        "[5] Model\n",
        "\n",
        "A model can be defined by using a Sequential class, which links layers that consists of the model In a sequential manner.\n",
        "\n",
        "Model can be defined by functional API or subclassing API if it consists of a link that is complexed strcutrue.\n",
        "\n",
        "This model has feedforward neural network."
      ],
      "metadata": {
        "id": "oMNhcPJ8FaD6"
      }
    },
    {
      "cell_type": "markdown",
      "source": [
        "[5] Generate BP_Model and Learning"
      ],
      "metadata": {
        "id": "8p0KeE1Y7fjO"
      }
    },
    {
      "cell_type": "code",
      "source": [
        "bp_model_tf = keras.Sequential() # Create a instance of Sequential class\n",
        "bp_model_tf.add(layers.InputLayer(input_shape=(nDim,))) # Add Input Layer. 2 inputs are used.\n",
        "\n",
        "# Input_shape 지정하지 않으면 학습 데이터가 제공이 될 때까지 입력 규격을 알 수 없어 가중치 등이 요소를 결정할 수 없어 모델 구성이 완성되지 않음\n",
        "# 모델 구성이 완성되는 것은 첫 번째 학습 또는 모델의 출력을 구해야 하는 메소드가 실행될 때까지 지연됨\n",
        "# You can directly link Dense Layer without Input Layer\n",
        "# bp_model_tf.add(Dense(4, input_shape = (nDim, ), activation='sigmoid'))\n",
        "\n",
        "bp_model_tf.add(layers.Dense(4, activation='sigmoid')) # Add Hidden Layer, which consits of 4 neuron.\n",
        "bp_model_tf.add(layers.Dense(nClasses, activation='softmax')) # Add Output Layer, which consists of 3 neurons\n",
        "\n",
        "#You can use this code\n",
        "# bp_model_tf = Sequential(Dense(4, input_shape = (nDim, ), activation='sigmoid'),\n",
        "#                             Dense(nClasses, activation='softmax')\n",
        "#])"
      ],
      "metadata": {
        "id": "GIOb4nzaGnYh"
      },
      "execution_count": null,
      "outputs": []
    },
    {
      "cell_type": "markdown",
      "source": [
        "[6] Model Sumary information"
      ],
      "metadata": {
        "id": "6okclrvnI-YC"
      }
    },
    {
      "cell_type": "code",
      "source": [
        "bp_model_tf.summary()"
      ],
      "metadata": {
        "id": "Em_TRITOJAcS"
      },
      "execution_count": null,
      "outputs": []
    },
    {
      "cell_type": "markdown",
      "source": [
        "[7] Compile the Model\n",
        "\n",
        "optimizer: set optimizer. In this code, I use SGD the learning rate is 0.1, and the momentum is 0.9\n",
        "loss: set loss function(CrossEntropy)\n",
        "metrics: setlist for training and validation, which evaluates accuracy for category."
      ],
      "metadata": {
        "id": "G1obAXqnJNLC"
      }
    },
    {
      "cell_type": "code",
      "source": [
        "bp_model_tf.compile(optimizer=optimizers.SGD(0.1, momentum=0.9), loss=losses.SparseCategoricalCrossentropy(), metrics=['accuracy'])"
      ],
      "metadata": {
        "id": "OhYfd7w6JVgZ"
      },
      "execution_count": null,
      "outputs": []
    },
    {
      "cell_type": "markdown",
      "source": [
        "[8] Train the model"
      ],
      "metadata": {
        "id": "vlpPBN2kTa9a"
      }
    },
    {
      "cell_type": "code",
      "source": [
        "bp_model_tf.fit(X_tr, y_tr, batch_size=15, epochs=1000, verbose=2, validation_data=(X_val, y_val))"
      ],
      "metadata": {
        "id": "Kr1BZDpA7i61"
      },
      "execution_count": null,
      "outputs": []
    },
    {
      "cell_type": "markdown",
      "source": [
        "[9] Classification\n",
        "\n",
        "line 1 : classify X_val(Validation data) by calling predict()\n",
        "\n",
        "line 2: activation is softmax, so y_hat has 3 probability values after the classification for each input. Therefore, define the label using argmax.\n",
        "\n",
        "line 3~4: Get accuracy by using the number of matched data(comparing calculated label to real label)\n"
      ],
      "metadata": {
        "id": "5kG69dym-MmN"
      }
    },
    {
      "cell_type": "code",
      "source": [
        "y_hat = bp_model_tf.predict(X_val, verbose=0)\n",
        "y_hat_lbls = np.array([np.argmax(y_hat[k]) for k in range(len(X_val))])\n",
        "nCorrect = (y_hat_lbls == y_val).sum()\n",
        "print('Validation accuracy : {}/{} --> {:7.3f}%'.format(nCorrect, len(X_val), nCorrect * 100.0 / len(X_val)))"
      ],
      "metadata": {
        "id": "yTThCXeMUwKN"
      },
      "execution_count": null,
      "outputs": []
    },
    {
      "cell_type": "markdown",
      "source": [
        "[10] Visualize"
      ],
      "metadata": {
        "id": "ycsGAiyVWKxa"
      }
    },
    {
      "cell_type": "code",
      "source": [
        "visualize(bp_model_tf, X_tr, y_tr, multi_class=True, class_id=labels, labels=[0, 1, 2],\n",
        "          colors=['magenta', 'blue', 'green'], xlabel='petal length', ylabel='petal width')"
      ],
      "metadata": {
        "id": "UKAT22KfWOEp"
      },
      "execution_count": null,
      "outputs": []
    }
  ]
}