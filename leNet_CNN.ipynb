{
  "nbformat": 4,
  "nbformat_minor": 0,
  "metadata": {
    "colab": {
      "provenance": [],
      "authorship_tag": "ABX9TyPEVHNS+tpxiTYNR7YeLXKz",
      "include_colab_link": true
    },
    "kernelspec": {
      "name": "python3",
      "display_name": "Python 3"
    },
    "language_info": {
      "name": "python"
    }
  },
  "cells": [
    {
      "cell_type": "markdown",
      "metadata": {
        "id": "view-in-github",
        "colab_type": "text"
      },
      "source": [
        "<a href=\"https://colab.research.google.com/github/AugustvonMackensen/AI_colab/blob/main/leNet_CNN.ipynb\" target=\"_parent\"><img src=\"https://colab.research.google.com/assets/colab-badge.svg\" alt=\"Open In Colab\"/></a>"
      ]
    },
    {
      "cell_type": "markdown",
      "source": [
        "LeNet-5 : Classification by Covolutions and Sampling repeatly\n",
        "\n",
        "[1] Import the packages"
      ],
      "metadata": {
        "id": "gyBkwx4tX5hE"
      }
    },
    {
      "cell_type": "code",
      "execution_count": 1,
      "metadata": {
        "id": "_KG_bGABXpfC"
      },
      "outputs": [],
      "source": [
        "from tensorflow import keras\n",
        "from keras.datasets import mnist\n",
        "from keras.models import Sequential\n",
        "from keras.layers import Conv2D, MaxPooling2D, Dense, Flatten, Layer\n",
        "from keras import backend as K\n",
        "import numpy as np"
      ]
    },
    {
      "cell_type": "markdown",
      "source": [
        "[2] Prepare the Data"
      ],
      "metadata": {
        "id": "t2QllMaZZvrZ"
      }
    },
    {
      "cell_type": "code",
      "source": [
        "(x_train, y_train), (x_test, y_test) = mnist.load_data()\n",
        "\n",
        "# input image : 28 X 28, Channel : 1 because it is black and white\n",
        "x_train = x_train.reshape(x_train.shape[0], 28, 28, 1)\n",
        "x_test = x_test.reshape(x_test.shape[0], 28, 28, 1)"
      ],
      "metadata": {
        "id": "TV2RFiw1ZyFR",
        "colab": {
          "base_uri": "https://localhost:8080/"
        },
        "outputId": "2619bdb7-3d37-449b-a533-f677a6d056d7"
      },
      "execution_count": 2,
      "outputs": [
        {
          "output_type": "stream",
          "name": "stdout",
          "text": [
            "Downloading data from https://storage.googleapis.com/tensorflow/tf-keras-datasets/mnist.npz\n",
            "11490434/11490434 [==============================] - 0s 0us/step\n"
          ]
        }
      ]
    },
    {
      "cell_type": "markdown",
      "source": [
        "[3] Data Padding and normalization"
      ],
      "metadata": {
        "id": "Pe_UFJqWaNpZ"
      }
    },
    {
      "cell_type": "code",
      "source": [
        "#np.pad() : add the paddings. Padding is used to adjust the size of the image\n",
        "#               or  preserve the edge information.\n",
        "x_train = np.pad(x_train, ((0,0),(2,2),(2,2),(0,0)), 'constant')\n",
        "x_test = np.pad(x_test, ((0,0),(2,2),(2,2),(0,0)), 'constant')\n",
        "\n",
        "# Normalize the data(the value must be float number between 0 and 1)\n",
        "x_train = x_train / 255\n",
        "x_test = x_test / 255"
      ],
      "metadata": {
        "id": "MdBJV6GEagBC"
      },
      "execution_count": 3,
      "outputs": []
    },
    {
      "cell_type": "markdown",
      "source": [
        "[4] Vectorize the data for the label\n",
        "\n",
        "convert y_train and y_test to 'one-hot encoding'\n",
        "to_categorical(): a function that converts integer data into one-hot encoding"
      ],
      "metadata": {
        "id": "_33C8JrWbho6"
      }
    },
    {
      "cell_type": "code",
      "source": [
        "y_train = keras.utils.to_categorical(y_train, 10)\n",
        "y_test = keras.utils.to_categorical(y_test, 10)"
      ],
      "metadata": {
        "id": "vpOJlTyMblXJ"
      },
      "execution_count": 4,
      "outputs": []
    },
    {
      "cell_type": "markdown",
      "source": [
        "[5] Create RBF Layer"
      ],
      "metadata": {
        "id": "cwEptXM4cFy5"
      }
    },
    {
      "cell_type": "code",
      "source": [
        "class RBFLayer(Layer):\n",
        "  def __init__(self, units, gamma, **kwargs):\n",
        "    super(RBFLayer, self).__init__(**kwargs)\n",
        "    self.units = units\n",
        "    self.gamma = K.cast_to_floatx(gamma) # cast_to_floatx : Cast a Numpy array to the default Keras float type.\n",
        "\n",
        "  def build(self, input_shape):\n",
        "    self.mu = self.add_weight(name='mu', shape=(int(input_shape[1]), self.units),\n",
        "                              initializer='uniform',\n",
        "                              trainable=True)\n",
        "    super(RBFLayer, self).build(input_shape)\n",
        "\n",
        "  def call(self, inputs):\n",
        "    diff = K.expand_dims(inputs) - self.mu\n",
        "    l2 = K.sum(K.pow(diff,2), axis=1)\n",
        "    res = K.exp(-1 * self.gamma * l2)\n",
        "    return res\n",
        "\n",
        "  def compute_output_shape(self, input_shape):\n",
        "    return (input_shape[0], self.units)"
      ],
      "metadata": {
        "id": "RKcWka74hU8a"
      },
      "execution_count": 5,
      "outputs": []
    },
    {
      "cell_type": "markdown",
      "source": [
        "[6] Define the Model"
      ],
      "metadata": {
        "id": "4IYJoUhTtpLc"
      }
    },
    {
      "cell_type": "code",
      "source": [
        "model = Sequential()\n",
        "model.add(Conv2D(6, kernel_size=(5,5), activation='tanh', input_shape=(32, 32, 1)))\n",
        "model.add(MaxPooling2D(pool_size=(2,2)))\n",
        "model.add(Conv2D(16, kernel_size=(5,5), activation='tanh'))\n",
        "model.add(MaxPooling2D(pool_size=(2,2)))\n",
        "model.add(Flatten())\n",
        "model.add(Dense(120, activation='tanh'))\n",
        "model.add(Dense(84, activation='tanh'))\n",
        "model.add(RBFLayer(10, 0.5))"
      ],
      "metadata": {
        "id": "43hG6lNNtrh0"
      },
      "execution_count": 6,
      "outputs": []
    },
    {
      "cell_type": "markdown",
      "source": [
        "[7] Fit"
      ],
      "metadata": {
        "id": "FGbWIm3qwOZH"
      }
    },
    {
      "cell_type": "code",
      "source": [
        "model.compile(loss='mean_squared_error',\n",
        "              optimizer=keras.optimizers.Adam(), metrics=['accuracy'])\n",
        "model.fit(x_train, y_train, epochs=20, verbose=1, validation_data=(x_test, y_test))"
      ],
      "metadata": {
        "colab": {
          "base_uri": "https://localhost:8080/"
        },
        "id": "bcRCCjlkwQSs",
        "outputId": "215036d2-68a5-4d7f-c0a0-85b59381c160"
      },
      "execution_count": 7,
      "outputs": [
        {
          "output_type": "stream",
          "name": "stdout",
          "text": [
            "Epoch 1/20\n",
            "1875/1875 [==============================] - 61s 31ms/step - loss: 0.0292 - accuracy: 0.8363 - val_loss: 0.0109 - val_accuracy: 0.9739\n",
            "Epoch 2/20\n",
            "1875/1875 [==============================] - 46s 24ms/step - loss: 0.0089 - accuracy: 0.9731 - val_loss: 0.0065 - val_accuracy: 0.9764\n",
            "Epoch 3/20\n",
            "1875/1875 [==============================] - 47s 25ms/step - loss: 0.0055 - accuracy: 0.9774 - val_loss: 0.0049 - val_accuracy: 0.9799\n",
            "Epoch 4/20\n",
            "1875/1875 [==============================] - 46s 24ms/step - loss: 0.0042 - accuracy: 0.9820 - val_loss: 0.0038 - val_accuracy: 0.9827\n",
            "Epoch 5/20\n",
            "1875/1875 [==============================] - 46s 25ms/step - loss: 0.0035 - accuracy: 0.9843 - val_loss: 0.0038 - val_accuracy: 0.9838\n",
            "Epoch 6/20\n",
            "1875/1875 [==============================] - 47s 25ms/step - loss: 0.0030 - accuracy: 0.9865 - val_loss: 0.0041 - val_accuracy: 0.9820\n",
            "Epoch 7/20\n",
            "1875/1875 [==============================] - 50s 26ms/step - loss: 0.0027 - accuracy: 0.9879 - val_loss: 0.0029 - val_accuracy: 0.9871\n",
            "Epoch 8/20\n",
            "1875/1875 [==============================] - 47s 25ms/step - loss: 0.0024 - accuracy: 0.9892 - val_loss: 0.0028 - val_accuracy: 0.9875\n",
            "Epoch 9/20\n",
            "1875/1875 [==============================] - 47s 25ms/step - loss: 0.0023 - accuracy: 0.9901 - val_loss: 0.0025 - val_accuracy: 0.9882\n",
            "Epoch 10/20\n",
            "1875/1875 [==============================] - 47s 25ms/step - loss: 0.0021 - accuracy: 0.9905 - val_loss: 0.0026 - val_accuracy: 0.9873\n",
            "Epoch 11/20\n",
            "1875/1875 [==============================] - 47s 25ms/step - loss: 0.0020 - accuracy: 0.9914 - val_loss: 0.0026 - val_accuracy: 0.9867\n",
            "Epoch 12/20\n",
            "1875/1875 [==============================] - 49s 26ms/step - loss: 0.0019 - accuracy: 0.9917 - val_loss: 0.0026 - val_accuracy: 0.9878\n",
            "Epoch 13/20\n",
            "1875/1875 [==============================] - 47s 25ms/step - loss: 0.0017 - accuracy: 0.9925 - val_loss: 0.0026 - val_accuracy: 0.9868\n",
            "Epoch 14/20\n",
            "1875/1875 [==============================] - 47s 25ms/step - loss: 0.0016 - accuracy: 0.9930 - val_loss: 0.0024 - val_accuracy: 0.9872\n",
            "Epoch 15/20\n",
            "1875/1875 [==============================] - 49s 26ms/step - loss: 0.0016 - accuracy: 0.9933 - val_loss: 0.0024 - val_accuracy: 0.9884\n",
            "Epoch 16/20\n",
            "1875/1875 [==============================] - 46s 25ms/step - loss: 0.0015 - accuracy: 0.9938 - val_loss: 0.0024 - val_accuracy: 0.9883\n",
            "Epoch 17/20\n",
            "1875/1875 [==============================] - 47s 25ms/step - loss: 0.0014 - accuracy: 0.9939 - val_loss: 0.0024 - val_accuracy: 0.9877\n",
            "Epoch 18/20\n",
            "1875/1875 [==============================] - 49s 26ms/step - loss: 0.0013 - accuracy: 0.9945 - val_loss: 0.0025 - val_accuracy: 0.9870\n",
            "Epoch 19/20\n",
            "1875/1875 [==============================] - 47s 25ms/step - loss: 0.0013 - accuracy: 0.9948 - val_loss: 0.0024 - val_accuracy: 0.9874\n",
            "Epoch 20/20\n",
            "1875/1875 [==============================] - 47s 25ms/step - loss: 0.0012 - accuracy: 0.9948 - val_loss: 0.0022 - val_accuracy: 0.9881\n"
          ]
        },
        {
          "output_type": "execute_result",
          "data": {
            "text/plain": [
              "<keras.src.callbacks.History at 0x7884e77a2d70>"
            ]
          },
          "metadata": {},
          "execution_count": 7
        }
      ]
    },
    {
      "cell_type": "markdown",
      "source": [
        "[8] Check the accuracy score"
      ],
      "metadata": {
        "id": "kIMGwpE70TPO"
      }
    },
    {
      "cell_type": "code",
      "source": [
        "score = model.evaluate(x_test, y_test)\n",
        "print('test accuracy rate : ', score[1])"
      ],
      "metadata": {
        "colab": {
          "base_uri": "https://localhost:8080/"
        },
        "id": "g2U6LHOG0XEn",
        "outputId": "e30f149a-7bd8-4727-9e18-98df4da810a1"
      },
      "execution_count": 8,
      "outputs": [
        {
          "output_type": "stream",
          "name": "stdout",
          "text": [
            "313/313 [==============================] - 3s 9ms/step - loss: 0.0022 - accuracy: 0.9881\n",
            "test accuracy rate :  0.988099992275238\n"
          ]
        }
      ]
    }
  ]
}